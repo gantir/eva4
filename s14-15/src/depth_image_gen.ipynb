{
  "nbformat": 4,
  "nbformat_minor": 0,
  "metadata": {
    "colab": {
      "name": "depth_image_gen.ipynb",
      "provenance": [],
      "collapsed_sections": [],
      "authorship_tag": "ABX9TyP/eXQFB2+TognJ1MrJcHoe",
      "include_colab_link": true
    },
    "kernelspec": {
      "name": "python3",
      "display_name": "Python 3"
    },
    "accelerator": "GPU"
  },
  "cells": [
    {
      "cell_type": "markdown",
      "metadata": {
        "id": "view-in-github",
        "colab_type": "text"
      },
      "source": [
        "<a href=\"https://colab.research.google.com/github/gantir/eva4/blob/develop/s14-15/src/depth_image_gen.ipynb\" target=\"_parent\"><img src=\"https://colab.research.google.com/assets/colab-badge.svg\" alt=\"Open In Colab\"/></a>"
      ]
    },
    {
      "cell_type": "code",
      "metadata": {
        "id": "PVAB1CcDNBB-",
        "colab_type": "code",
        "colab": {}
      },
      "source": [
        "import os"
      ],
      "execution_count": 0,
      "outputs": []
    },
    {
      "cell_type": "code",
      "metadata": {
        "id": "FTH9H4QVFgWn",
        "colab_type": "code",
        "outputId": "7cc3f15b-d13b-492c-9111-3aa08a80bfb3",
        "colab": {
          "base_uri": "https://localhost:8080/",
          "height": 131
        }
      },
      "source": [
        "!git clone https://github.com/gantir/DenseDepth.git"
      ],
      "execution_count": 0,
      "outputs": [
        {
          "output_type": "stream",
          "text": [
            "Cloning into 'DenseDepth'...\n",
            "remote: Enumerating objects: 4, done.\u001b[K\n",
            "remote: Counting objects:  25% (1/4)\u001b[K\rremote: Counting objects:  50% (2/4)\u001b[K\rremote: Counting objects:  75% (3/4)\u001b[K\rremote: Counting objects: 100% (4/4)\u001b[K\rremote: Counting objects: 100% (4/4), done.\u001b[K\n",
            "remote: Compressing objects:  25% (1/4)\u001b[K\rremote: Compressing objects:  50% (2/4)\u001b[K\rremote: Compressing objects:  75% (3/4)\u001b[K\rremote: Compressing objects: 100% (4/4)\u001b[K\rremote: Compressing objects: 100% (4/4), done.\u001b[K\n",
            "Receiving objects:   0% (1/239)   \rReceiving objects:   1% (3/239)   \rReceiving objects:   2% (5/239)   \rReceiving objects:   3% (8/239)   \rReceiving objects:   4% (10/239)   \rReceiving objects:   5% (12/239)   \rReceiving objects:   6% (15/239)   \rReceiving objects:   7% (17/239)   \rReceiving objects:   8% (20/239)   \rReceiving objects:   9% (22/239)   \rReceiving objects:  10% (24/239)   \rReceiving objects:  11% (27/239)   \rReceiving objects:  12% (29/239)   \rReceiving objects:  13% (32/239)   \rReceiving objects:  14% (34/239)   \rReceiving objects:  15% (36/239)   \rReceiving objects:  16% (39/239)   \rReceiving objects:  17% (41/239)   \rReceiving objects:  18% (44/239)   \rReceiving objects:  19% (46/239)   \rReceiving objects:  20% (48/239)   \rReceiving objects:  21% (51/239)   \rReceiving objects:  22% (53/239)   \rReceiving objects:  23% (55/239)   \rReceiving objects:  24% (58/239)   \rReceiving objects:  25% (60/239)   \rReceiving objects:  26% (63/239)   \rReceiving objects:  27% (65/239)   \rReceiving objects:  28% (67/239)   \rReceiving objects:  29% (70/239)   \rReceiving objects:  30% (72/239)   \rReceiving objects:  31% (75/239)   \rReceiving objects:  32% (77/239)   \rReceiving objects:  33% (79/239)   \rReceiving objects:  34% (82/239)   \rReceiving objects:  35% (84/239)   \rReceiving objects:  36% (87/239)   \rReceiving objects:  37% (89/239)   \rReceiving objects:  38% (91/239)   \rReceiving objects:  39% (94/239)   \rReceiving objects:  40% (96/239)   \rReceiving objects:  41% (98/239)   \rReceiving objects:  42% (101/239), 1.66 MiB | 3.27 MiB/s   \rReceiving objects:  43% (103/239), 1.66 MiB | 3.27 MiB/s   \rReceiving objects:  44% (106/239), 1.66 MiB | 3.27 MiB/s   \rReceiving objects:  45% (108/239), 1.66 MiB | 3.27 MiB/s   \rReceiving objects:  46% (110/239), 1.66 MiB | 3.27 MiB/s   \rReceiving objects:  47% (113/239), 1.66 MiB | 3.27 MiB/s   \rReceiving objects:  48% (115/239), 1.66 MiB | 3.27 MiB/s   \rremote: Total 239 (delta 0), reused 1 (delta 0), pack-reused 235\u001b[K\n",
            "Receiving objects:  49% (118/239), 1.66 MiB | 3.27 MiB/s   \rReceiving objects:  50% (120/239), 1.66 MiB | 3.27 MiB/s   \rReceiving objects:  51% (122/239), 1.66 MiB | 3.27 MiB/s   \rReceiving objects:  52% (125/239), 1.66 MiB | 3.27 MiB/s   \rReceiving objects:  53% (127/239), 1.66 MiB | 3.27 MiB/s   \rReceiving objects:  54% (130/239), 1.66 MiB | 3.27 MiB/s   \rReceiving objects:  55% (132/239), 1.66 MiB | 3.27 MiB/s   \rReceiving objects:  56% (134/239), 1.66 MiB | 3.27 MiB/s   \rReceiving objects:  57% (137/239), 1.66 MiB | 3.27 MiB/s   \rReceiving objects:  58% (139/239), 1.66 MiB | 3.27 MiB/s   \rReceiving objects:  59% (142/239), 1.66 MiB | 3.27 MiB/s   \rReceiving objects:  60% (144/239), 1.66 MiB | 3.27 MiB/s   \rReceiving objects:  61% (146/239), 1.66 MiB | 3.27 MiB/s   \rReceiving objects:  62% (149/239), 1.66 MiB | 3.27 MiB/s   \rReceiving objects:  63% (151/239), 1.66 MiB | 3.27 MiB/s   \rReceiving objects:  64% (153/239), 1.66 MiB | 3.27 MiB/s   \rReceiving objects:  65% (156/239), 1.66 MiB | 3.27 MiB/s   \rReceiving objects:  66% (158/239), 1.66 MiB | 3.27 MiB/s   \rReceiving objects:  67% (161/239), 1.66 MiB | 3.27 MiB/s   \rReceiving objects:  68% (163/239), 1.66 MiB | 3.27 MiB/s   \rReceiving objects:  69% (165/239), 1.66 MiB | 3.27 MiB/s   \rReceiving objects:  70% (168/239), 1.66 MiB | 3.27 MiB/s   \rReceiving objects:  71% (170/239), 1.66 MiB | 3.27 MiB/s   \rReceiving objects:  72% (173/239), 1.66 MiB | 3.27 MiB/s   \rReceiving objects:  73% (175/239), 1.66 MiB | 3.27 MiB/s   \rReceiving objects:  74% (177/239), 1.66 MiB | 3.27 MiB/s   \rReceiving objects:  75% (180/239), 1.66 MiB | 3.27 MiB/s   \rReceiving objects:  76% (182/239), 1.66 MiB | 3.27 MiB/s   \rReceiving objects:  77% (185/239), 1.66 MiB | 3.27 MiB/s   \rReceiving objects:  78% (187/239), 1.66 MiB | 3.27 MiB/s   \rReceiving objects:  79% (189/239), 1.66 MiB | 3.27 MiB/s   \rReceiving objects:  80% (192/239), 1.66 MiB | 3.27 MiB/s   \rReceiving objects:  81% (194/239), 1.66 MiB | 3.27 MiB/s   \rReceiving objects:  82% (196/239), 1.66 MiB | 3.27 MiB/s   \rReceiving objects:  83% (199/239), 1.66 MiB | 3.27 MiB/s   \rReceiving objects:  84% (201/239), 1.66 MiB | 3.27 MiB/s   \rReceiving objects:  85% (204/239), 1.66 MiB | 3.27 MiB/s   \rReceiving objects:  86% (206/239), 1.66 MiB | 3.27 MiB/s   \rReceiving objects:  87% (208/239), 1.66 MiB | 3.27 MiB/s   \rReceiving objects:  88% (211/239), 1.66 MiB | 3.27 MiB/s   \rReceiving objects:  89% (213/239), 1.66 MiB | 3.27 MiB/s   \rReceiving objects:  90% (216/239), 1.66 MiB | 3.27 MiB/s   \rReceiving objects:  91% (218/239), 1.66 MiB | 3.27 MiB/s   \rReceiving objects:  92% (220/239), 1.66 MiB | 3.27 MiB/s   \rReceiving objects:  93% (223/239), 1.66 MiB | 3.27 MiB/s   \rReceiving objects:  94% (225/239), 1.66 MiB | 3.27 MiB/s   \rReceiving objects:  95% (228/239), 1.66 MiB | 3.27 MiB/s   \rReceiving objects:  96% (230/239), 1.66 MiB | 3.27 MiB/s   \rReceiving objects:  97% (232/239), 1.66 MiB | 3.27 MiB/s   \rReceiving objects:  98% (235/239), 1.66 MiB | 3.27 MiB/s   \rReceiving objects:  99% (237/239), 1.66 MiB | 3.27 MiB/s   \rReceiving objects: 100% (239/239), 1.66 MiB | 3.27 MiB/s   \rReceiving objects: 100% (239/239), 11.80 MiB | 13.94 MiB/s, done.\n",
            "Resolving deltas:   0% (0/115)   \rResolving deltas:   1% (2/115)   \rResolving deltas:   3% (4/115)   \rResolving deltas:   6% (8/115)   \rResolving deltas:   9% (11/115)   \rResolving deltas:  19% (22/115)   \rResolving deltas:  21% (25/115)   \rResolving deltas:  26% (31/115)   \rResolving deltas:  28% (33/115)   \rResolving deltas:  29% (34/115)   \rResolving deltas:  30% (35/115)   \rResolving deltas:  32% (37/115)   \rResolving deltas:  37% (43/115)   \rResolving deltas:  41% (48/115)   \rResolving deltas:  85% (98/115)   \rResolving deltas:  87% (101/115)   \rResolving deltas:  94% (109/115)   \rResolving deltas:  98% (113/115)   \rResolving deltas:  99% (114/115)   \rResolving deltas: 100% (115/115)   \rResolving deltas: 100% (115/115), done.\n"
          ],
          "name": "stdout"
        }
      ]
    },
    {
      "cell_type": "code",
      "metadata": {
        "id": "hDBgVkNRP0Dd",
        "colab_type": "code",
        "outputId": "5e3384ba-138a-4dbb-f7f6-1a801c57d2f6",
        "colab": {
          "base_uri": "https://localhost:8080/",
          "height": 98
        }
      },
      "source": [
        "!cd DenseDepth; git pull origin"
      ],
      "execution_count": 0,
      "outputs": [
        {
          "output_type": "stream",
          "text": [
            "Updating be0f180..dae918e\n",
            "Fast-forward\n",
            " demo.py   | 4 \u001b[32m++\u001b[m\u001b[31m--\u001b[m\n",
            " layers.py | 2 \u001b[32m+\u001b[m\u001b[31m-\u001b[m\n",
            " 2 files changed, 3 insertions(+), 3 deletions(-)\n"
          ],
          "name": "stdout"
        }
      ]
    },
    {
      "cell_type": "code",
      "metadata": {
        "id": "dSho5V95G3U4",
        "colab_type": "code",
        "outputId": "a8f1a08b-b2f6-41d6-c4c2-d37b49f6dd28",
        "colab": {
          "base_uri": "https://localhost:8080/",
          "height": 196
        }
      },
      "source": [
        "!wget https://s3-eu-west-1.amazonaws.com/densedepth/nyu.h5 -O ./DenseDepth/nyu.h5"
      ],
      "execution_count": 0,
      "outputs": [
        {
          "output_type": "stream",
          "text": [
            "--2020-05-10 10:52:49--  https://s3-eu-west-1.amazonaws.com/densedepth/nyu.h5\n",
            "Resolving s3-eu-west-1.amazonaws.com (s3-eu-west-1.amazonaws.com)... 52.218.41.35\n",
            "Connecting to s3-eu-west-1.amazonaws.com (s3-eu-west-1.amazonaws.com)|52.218.41.35|:443... connected.\n",
            "HTTP request sent, awaiting response... 200 OK\n",
            "Length: 172897376 (165M) [application/h5]\n",
            "Saving to: ‘./DenseDepth/nyu.h5’\n",
            "\n",
            "./DenseDepth/nyu.h5 100%[===================>] 164.89M  24.2MB/s    in 12s     \n",
            "\n",
            "2020-05-10 10:53:01 (14.1 MB/s) - ‘./DenseDepth/nyu.h5’ saved [172897376/172897376]\n",
            "\n"
          ],
          "name": "stdout"
        }
      ]
    },
    {
      "cell_type": "code",
      "metadata": {
        "id": "9XB5xIP-G6Ub",
        "colab_type": "code",
        "outputId": "ec7ef2b8-2c43-4f59-a1e0-e5dc8ce753e0",
        "colab": {
          "base_uri": "https://localhost:8080/",
          "height": 118
        }
      },
      "source": [
        "from google.colab import drive\n",
        "drive.mount('/content/gdrive/')\n",
        "data_root = '/content/gdrive/My Drive/Colab Notebooks/EVA4/s14-15/data'"
      ],
      "execution_count": 0,
      "outputs": [
        {
          "output_type": "stream",
          "text": [
            "Go to this URL in a browser: https://accounts.google.com/o/oauth2/auth?client_id=947318989803-6bn6qk8qdgf4n4g3pfee6491hc0brc4i.apps.googleusercontent.com&redirect_uri=urn%3aietf%3awg%3aoauth%3a2.0%3aoob&response_type=code&scope=email%20https%3a%2f%2fwww.googleapis.com%2fauth%2fdocs.test%20https%3a%2f%2fwww.googleapis.com%2fauth%2fdrive%20https%3a%2f%2fwww.googleapis.com%2fauth%2fdrive.photos.readonly%20https%3a%2f%2fwww.googleapis.com%2fauth%2fpeopleapi.readonly\n",
            "\n",
            "Enter your authorization code:\n",
            "··········\n",
            "Mounted at /content/gdrive/\n"
          ],
          "name": "stdout"
        }
      ]
    },
    {
      "cell_type": "code",
      "metadata": {
        "id": "xEb-udUqM-sE",
        "colab_type": "code",
        "colab": {}
      },
      "source": [
        "image_path = os.path.join(data_root,'generated/bg-fg','bg-img0001-fg-img0001-1.jpg')"
      ],
      "execution_count": 0,
      "outputs": []
    },
    {
      "cell_type": "code",
      "metadata": {
        "id": "eWp6AHJ3H_J5",
        "colab_type": "code",
        "outputId": "863e7617-725d-47ff-f246-29657eb12900",
        "colab": {
          "base_uri": "https://localhost:8080/",
          "height": 131
        }
      },
      "source": [
        "!cd DenseDepth;python test.py --input 'examples/*.jpg'"
      ],
      "execution_count": 0,
      "outputs": [
        {
          "output_type": "stream",
          "text": [
            "Using TensorFlow backend.\n",
            "Loading model...\n",
            "\n",
            "Model loaded (nyu.h5).\n",
            "\n",
            "Loaded (8) images of size (448, 448, 3).\n",
            "<Figure size 1000x500 with 1 Axes>\n"
          ],
          "name": "stdout"
        }
      ]
    }
  ]
}