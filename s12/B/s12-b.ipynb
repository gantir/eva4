{
  "nbformat": 4,
  "nbformat_minor": 0,
  "metadata": {
    "colab": {
      "name": "s12.ipynb",
      "provenance": [],
      "collapsed_sections": [],
      "authorship_tag": "ABX9TyOWgQl1lyuZB9C7AZTLgZgU",
      "include_colab_link": true
    },
    "kernelspec": {
      "name": "python3",
      "display_name": "Python 3"
    }
  },
  "cells": [
    {
      "cell_type": "markdown",
      "metadata": {
        "id": "view-in-github",
        "colab_type": "text"
      },
      "source": [
        "<a href=\"https://colab.research.google.com/github/gantir/eva4/blob/develop/s12/B/s12-b.ipynb\" target=\"_parent\"><img src=\"https://colab.research.google.com/assets/colab-badge.svg\" alt=\"Open In Colab\"/></a>"
      ]
    },
    {
      "cell_type": "code",
      "metadata": {
        "id": "2k0dlT9QV46X",
        "colab_type": "code",
        "colab": {}
      },
      "source": [
        "%matplotlib inline"
      ],
      "execution_count": 0,
      "outputs": []
    },
    {
      "cell_type": "code",
      "metadata": {
        "id": "r-X9Uf6mBKrv",
        "colab_type": "code",
        "outputId": "677c3906-800d-4881-d3b4-8c37b76b8187",
        "colab": {
          "base_uri": "https://localhost:8080/",
          "height": 118
        }
      },
      "source": [
        "try:\n",
        "  from google.colab import drive\n",
        "  drive.mount('/content/gdrive/')\n",
        "except:\n",
        "  print('May be not using Google Colab')\n"
      ],
      "execution_count": 2,
      "outputs": [
        {
          "output_type": "stream",
          "text": [
            "Go to this URL in a browser: https://accounts.google.com/o/oauth2/auth?client_id=947318989803-6bn6qk8qdgf4n4g3pfee6491hc0brc4i.apps.googleusercontent.com&redirect_uri=urn%3aietf%3awg%3aoauth%3a2.0%3aoob&response_type=code&scope=email%20https%3a%2f%2fwww.googleapis.com%2fauth%2fdocs.test%20https%3a%2f%2fwww.googleapis.com%2fauth%2fdrive%20https%3a%2f%2fwww.googleapis.com%2fauth%2fdrive.photos.readonly%20https%3a%2f%2fwww.googleapis.com%2fauth%2fpeopleapi.readonly\n",
            "\n",
            "Enter your authorization code:\n",
            "··········\n",
            "Mounted at /content/gdrive/\n"
          ],
          "name": "stdout"
        }
      ]
    },
    {
      "cell_type": "code",
      "metadata": {
        "id": "8TBhTk-0AhoQ",
        "colab_type": "code",
        "colab": {}
      },
      "source": [
        "from __future__ import print_function\n",
        "import sys\n",
        "import os\n",
        "from argparse import Namespace\n",
        "\n",
        "import json\n",
        "import numpy as np\n",
        "import pandas as pd\n",
        "from matplotlib import pyplot as plt\n",
        "from sklearn.cluster import KMeans\n",
        "from plotnine import *"
      ],
      "execution_count": 0,
      "outputs": []
    },
    {
      "cell_type": "code",
      "metadata": {
        "id": "ra8y43hAA-RK",
        "colab_type": "code",
        "colab": {}
      },
      "source": [
        "os.chdir('/content/gdrive/My Drive/Colab Notebooks/EVA4/data')\n",
        "with open('eva4-s12-b-coco.json') as f:\n",
        "  data = json.load(f)"
      ],
      "execution_count": 0,
      "outputs": []
    },
    {
      "cell_type": "code",
      "metadata": {
        "id": "6alkpsr-CBGO",
        "colab_type": "code",
        "outputId": "1556be8c-a822-455b-8e3c-3c3fb7b9f67f",
        "colab": {
          "base_uri": "https://localhost:8080/",
          "height": 131
        }
      },
      "source": [
        "images = {img['id']:img for img in data['images'] }\n",
        "len(images), images[0]"
      ],
      "execution_count": 5,
      "outputs": [
        {
          "output_type": "execute_result",
          "data": {
            "text/plain": [
              "(50,\n",
              " {'date_captured': '',\n",
              "  'file_name': 'dog.1.jpg',\n",
              "  'height': 499,\n",
              "  'id': 0,\n",
              "  'license': 1,\n",
              "  'width': 327})"
            ]
          },
          "metadata": {
            "tags": []
          },
          "execution_count": 5
        }
      ]
    },
    {
      "cell_type": "code",
      "metadata": {
        "id": "Pex_nLxfa75w",
        "colab_type": "code",
        "colab": {
          "base_uri": "https://localhost:8080/",
          "height": 131
        },
        "outputId": "bbfa12d7-bc68-4c2a-c28f-33a9e684cf8e"
      },
      "source": [
        "len(data['annotations']), data['annotations'][0]"
      ],
      "execution_count": 6,
      "outputs": [
        {
          "output_type": "execute_result",
          "data": {
            "text/plain": [
              "(53,\n",
              " {'area': 118160,\n",
              "  'bbox': [30, 51, 280, 422],\n",
              "  'id': 0,\n",
              "  'image_id': '0',\n",
              "  'iscrowd': 0,\n",
              "  'segmentation': [30, 51, 310, 51, 310, 473, 30, 473]})"
            ]
          },
          "metadata": {
            "tags": []
          },
          "execution_count": 6
        }
      ]
    },
    {
      "cell_type": "code",
      "metadata": {
        "id": "ZrkJlQFXmIHB",
        "colab_type": "code",
        "outputId": "a376793b-b010-4e31-b782-8b7ae2cd38f4",
        "colab": {
          "base_uri": "https://localhost:8080/",
          "height": 180
        }
      },
      "source": [
        "output = []\n",
        "for element in data['annotations']:\n",
        "  img_detail = {}\n",
        "  id = int(element['image_id'])\n",
        "  # print(images[id]['height'])\n",
        "  height = images[id]['height']\n",
        "  width = images[id]['width']\n",
        "  img_detail['file_name'] = images[id]['file_name']\n",
        "  bb_x, bb_y, bb_width, bb_height = element['bbox']\n",
        "  \n",
        "  img_detail['height'] = height\n",
        "  img_detail['width'] = width\n",
        "  img_detail['height_norm'] = height/height\n",
        "  img_detail['width_norm'] = width/width\n",
        "  img_detail['bb_height_norm'] = bb_height/height\n",
        "  img_detail['bb_width_norm'] = bb_width/width\n",
        "  img_detail['bb_x_norm'] = bb_x/width\n",
        "  img_detail['bb_y_norm'] = bb_y/height\n",
        "  output.append(img_detail)\n",
        "\n",
        "len(output), output[0]"
      ],
      "execution_count": 7,
      "outputs": [
        {
          "output_type": "execute_result",
          "data": {
            "text/plain": [
              "(53,\n",
              " {'bb_height_norm': 0.845691382765531,\n",
              "  'bb_width_norm': 0.8562691131498471,\n",
              "  'bb_x_norm': 0.09174311926605505,\n",
              "  'bb_y_norm': 0.10220440881763528,\n",
              "  'file_name': 'dog.1.jpg',\n",
              "  'height': 499,\n",
              "  'height_norm': 1.0,\n",
              "  'width': 327,\n",
              "  'width_norm': 1.0})"
            ]
          },
          "metadata": {
            "tags": []
          },
          "execution_count": 7
        }
      ]
    },
    {
      "cell_type": "code",
      "metadata": {
        "id": "1JxmpoN6r0cm",
        "colab_type": "code",
        "outputId": "ed91bcb6-547f-4870-aaf0-b892f4af85e2",
        "colab": {
          "base_uri": "https://localhost:8080/",
          "height": 191
        }
      },
      "source": [
        "df = pd.DataFrame(output)\n",
        "df.head()"
      ],
      "execution_count": 8,
      "outputs": [
        {
          "output_type": "execute_result",
          "data": {
            "text/html": [
              "<div>\n",
              "<style scoped>\n",
              "    .dataframe tbody tr th:only-of-type {\n",
              "        vertical-align: middle;\n",
              "    }\n",
              "\n",
              "    .dataframe tbody tr th {\n",
              "        vertical-align: top;\n",
              "    }\n",
              "\n",
              "    .dataframe thead th {\n",
              "        text-align: right;\n",
              "    }\n",
              "</style>\n",
              "<table border=\"1\" class=\"dataframe\">\n",
              "  <thead>\n",
              "    <tr style=\"text-align: right;\">\n",
              "      <th></th>\n",
              "      <th>file_name</th>\n",
              "      <th>height</th>\n",
              "      <th>width</th>\n",
              "      <th>height_norm</th>\n",
              "      <th>width_norm</th>\n",
              "      <th>bb_height_norm</th>\n",
              "      <th>bb_width_norm</th>\n",
              "      <th>bb_x_norm</th>\n",
              "      <th>bb_y_norm</th>\n",
              "    </tr>\n",
              "  </thead>\n",
              "  <tbody>\n",
              "    <tr>\n",
              "      <th>0</th>\n",
              "      <td>dog.1.jpg</td>\n",
              "      <td>499</td>\n",
              "      <td>327</td>\n",
              "      <td>1.0</td>\n",
              "      <td>1.0</td>\n",
              "      <td>0.845691</td>\n",
              "      <td>0.856269</td>\n",
              "      <td>0.091743</td>\n",
              "      <td>0.102204</td>\n",
              "    </tr>\n",
              "    <tr>\n",
              "      <th>1</th>\n",
              "      <td>dog.2.jpg</td>\n",
              "      <td>199</td>\n",
              "      <td>187</td>\n",
              "      <td>1.0</td>\n",
              "      <td>1.0</td>\n",
              "      <td>0.688442</td>\n",
              "      <td>0.481283</td>\n",
              "      <td>0.374332</td>\n",
              "      <td>0.231156</td>\n",
              "    </tr>\n",
              "    <tr>\n",
              "      <th>2</th>\n",
              "      <td>dog.3.jpg</td>\n",
              "      <td>375</td>\n",
              "      <td>499</td>\n",
              "      <td>1.0</td>\n",
              "      <td>1.0</td>\n",
              "      <td>0.994667</td>\n",
              "      <td>0.947896</td>\n",
              "      <td>0.048096</td>\n",
              "      <td>0.002667</td>\n",
              "    </tr>\n",
              "    <tr>\n",
              "      <th>3</th>\n",
              "      <td>dog.4.jpg</td>\n",
              "      <td>287</td>\n",
              "      <td>300</td>\n",
              "      <td>1.0</td>\n",
              "      <td>1.0</td>\n",
              "      <td>0.965157</td>\n",
              "      <td>0.853333</td>\n",
              "      <td>0.136667</td>\n",
              "      <td>0.024390</td>\n",
              "    </tr>\n",
              "    <tr>\n",
              "      <th>4</th>\n",
              "      <td>dog.5.jpg</td>\n",
              "      <td>376</td>\n",
              "      <td>499</td>\n",
              "      <td>1.0</td>\n",
              "      <td>1.0</td>\n",
              "      <td>0.848404</td>\n",
              "      <td>0.362725</td>\n",
              "      <td>0.238477</td>\n",
              "      <td>0.013298</td>\n",
              "    </tr>\n",
              "  </tbody>\n",
              "</table>\n",
              "</div>"
            ],
            "text/plain": [
              "   file_name  height  width  ...  bb_width_norm  bb_x_norm  bb_y_norm\n",
              "0  dog.1.jpg     499    327  ...       0.856269   0.091743   0.102204\n",
              "1  dog.2.jpg     199    187  ...       0.481283   0.374332   0.231156\n",
              "2  dog.3.jpg     375    499  ...       0.947896   0.048096   0.002667\n",
              "3  dog.4.jpg     287    300  ...       0.853333   0.136667   0.024390\n",
              "4  dog.5.jpg     376    499  ...       0.362725   0.238477   0.013298\n",
              "\n",
              "[5 rows x 9 columns]"
            ]
          },
          "metadata": {
            "tags": []
          },
          "execution_count": 8
        }
      ]
    },
    {
      "cell_type": "code",
      "metadata": {
        "id": "dqTK-EMGfGdf",
        "colab_type": "code",
        "colab": {
          "base_uri": "https://localhost:8080/",
          "height": 33
        },
        "outputId": "7ef44828-cf85-4c95-86a4-fa741003e8e9"
      },
      "source": [
        "df.shape"
      ],
      "execution_count": 9,
      "outputs": [
        {
          "output_type": "execute_result",
          "data": {
            "text/plain": [
              "(53, 9)"
            ]
          },
          "metadata": {
            "tags": []
          },
          "execution_count": 9
        }
      ]
    },
    {
      "cell_type": "code",
      "metadata": {
        "id": "BRzYuGJbYUxb",
        "colab_type": "code",
        "outputId": "9a16aeb8-3acc-4994-ab82-c0bcd4b2cd71",
        "colab": {
          "base_uri": "https://localhost:8080/",
          "height": 463
        }
      },
      "source": [
        "(\n",
        "    ggplot(data=df)\n",
        "+geom_point(mapping=aes(x='bb_width_norm', y='bb_height_norm', color='bb_height_norm'))\n",
        ")"
      ],
      "execution_count": 10,
      "outputs": [
        {
          "output_type": "display_data",
          "data": {
            "image/png": "[encoded data removed]",
            "text/plain": [
              "<Figure size 640x480 with 1 Axes>"
            ]
          },
          "metadata": {
            "tags": []
          }
        },
        {
          "output_type": "execute_result",
          "data": {
            "text/plain": [
              "<ggplot: (-9223363271051058649)>"
            ]
          },
          "metadata": {
            "tags": []
          },
          "execution_count": 10
        }
      ]
    },
    {
      "cell_type": "code",
      "metadata": {
        "id": "pdrdN3oxYfcO",
        "colab_type": "code",
        "colab": {
          "base_uri": "https://localhost:8080/",
          "height": 191
        },
        "outputId": "0babd26c-858b-47d9-f2ad-ec5df7c7bd08"
      },
      "source": [
        "df_k = df[['bb_height_norm','bb_width_norm']]\n",
        "df_k.head()"
      ],
      "execution_count": 11,
      "outputs": [
        {
          "output_type": "execute_result",
          "data": {
            "text/html": [
              "<div>\n",
              "<style scoped>\n",
              "    .dataframe tbody tr th:only-of-type {\n",
              "        vertical-align: middle;\n",
              "    }\n",
              "\n",
              "    .dataframe tbody tr th {\n",
              "        vertical-align: top;\n",
              "    }\n",
              "\n",
              "    .dataframe thead th {\n",
              "        text-align: right;\n",
              "    }\n",
              "</style>\n",
              "<table border=\"1\" class=\"dataframe\">\n",
              "  <thead>\n",
              "    <tr style=\"text-align: right;\">\n",
              "      <th></th>\n",
              "      <th>bb_height_norm</th>\n",
              "      <th>bb_width_norm</th>\n",
              "    </tr>\n",
              "  </thead>\n",
              "  <tbody>\n",
              "    <tr>\n",
              "      <th>0</th>\n",
              "      <td>0.845691</td>\n",
              "      <td>0.856269</td>\n",
              "    </tr>\n",
              "    <tr>\n",
              "      <th>1</th>\n",
              "      <td>0.688442</td>\n",
              "      <td>0.481283</td>\n",
              "    </tr>\n",
              "    <tr>\n",
              "      <th>2</th>\n",
              "      <td>0.994667</td>\n",
              "      <td>0.947896</td>\n",
              "    </tr>\n",
              "    <tr>\n",
              "      <th>3</th>\n",
              "      <td>0.965157</td>\n",
              "      <td>0.853333</td>\n",
              "    </tr>\n",
              "    <tr>\n",
              "      <th>4</th>\n",
              "      <td>0.848404</td>\n",
              "      <td>0.362725</td>\n",
              "    </tr>\n",
              "  </tbody>\n",
              "</table>\n",
              "</div>"
            ],
            "text/plain": [
              "   bb_height_norm  bb_width_norm\n",
              "0        0.845691       0.856269\n",
              "1        0.688442       0.481283\n",
              "2        0.994667       0.947896\n",
              "3        0.965157       0.853333\n",
              "4        0.848404       0.362725"
            ]
          },
          "metadata": {
            "tags": []
          },
          "execution_count": 11
        }
      ]
    },
    {
      "cell_type": "code",
      "metadata": {
        "id": "mqnWcckjBY4k",
        "colab_type": "code",
        "colab": {}
      },
      "source": [
        "wcss = []\n",
        "for i in range(1, 11):\n",
        "    kmeans = KMeans(n_clusters=i, init='k-means++', max_iter=500, n_init=10, random_state=42)\n",
        "    kmeans.fit(df_k)\n",
        "    wcss.append({'k':i, 'inertia':kmeans.inertia_})    "
      ],
      "execution_count": 0,
      "outputs": []
    },
    {
      "cell_type": "code",
      "metadata": {
        "id": "rpsHlYZmm27M",
        "colab_type": "code",
        "colab": {
          "base_uri": "https://localhost:8080/",
          "height": 488
        },
        "outputId": "f85524a8-e558-4e40-91be-ab0201bb6e8a"
      },
      "source": [
        "(\n",
        "  ggplot(data=pd.DataFrame(wcss))\n",
        "    +geom_line(mapping=aes(x='k', y='inertia'),color=\"blue\")\n",
        "    +labs(title='Elbow Plot',x = 'Number Clusters', y='WCSS')\n",
        ")"
      ],
      "execution_count": 18,
      "outputs": [
        {
          "output_type": "display_data",
          "data": {
            "image/png": "[encoded data removed]",
            "text/plain": [
              "<Figure size 640x480 with 1 Axes>"
            ]
          },
          "metadata": {
            "tags": []
          }
        },
        {
          "output_type": "execute_result",
          "data": {
            "text/plain": [
              "<ggplot: (8765799294605)>"
            ]
          },
          "metadata": {
            "tags": []
          },
          "execution_count": 18
        }
      ]
    },
    {
      "cell_type": "code",
      "metadata": {
        "id": "CeUYSZgQ39Ty",
        "colab_type": "code",
        "outputId": "43a41070-dde9-4206-c783-06f27c587403",
        "colab": {
          "base_uri": "https://localhost:8080/",
          "height": 463
        }
      },
      "source": [
        "# From the above we choose a cluster of 5\n",
        "\n",
        "kmeans = KMeans(n_clusters=5, init='k-means++', max_iter=500, n_init=10, random_state=42)\n",
        "pred_y = kmeans.fit_predict(df_k)\n",
        "\n",
        "(\n",
        "    ggplot()\n",
        "    +geom_point(data=df_k,mapping=aes(x='bb_width_norm', y='bb_height_norm'), color=\"blue\")\n",
        "    +geom_point(data=pd.DataFrame(kmeans.cluster_centers_),mapping=aes(x=kmeans.cluster_centers_[:,0],y=kmeans.cluster_centers_[:,1]), color=\"green\", size=6)\n",
        ")"
      ],
      "execution_count": 73,
      "outputs": [
        {
          "output_type": "display_data",
          "data": {
            "image/png": "[encoded data removed]",
            "text/plain": [
              "<Figure size 640x480 with 1 Axes>"
            ]
          },
          "metadata": {
            "tags": []
          }
        },
        {
          "output_type": "execute_result",
          "data": {
            "text/plain": [
              "<ggplot: (-9223363271055571326)>"
            ]
          },
          "metadata": {
            "tags": []
          },
          "execution_count": 73
        }
      ]
    }
  ]
}