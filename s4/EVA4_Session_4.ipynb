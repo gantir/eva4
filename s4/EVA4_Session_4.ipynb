{
  "nbformat": 4,
  "nbformat_minor": 0,
  "metadata": {
    "colab": {
      "name": "EVA4_Session_4.ipynb",
      "provenance": [],
      "collapsed_sections": [],
      "include_colab_link": true
    },
    "kernelspec": {
      "name": "python3",
      "display_name": "Python 3"
    },
    "accelerator": "GPU"
  },
  "cells": [
    {
      "cell_type": "markdown",
      "metadata": {
        "id": "view-in-github",
        "colab_type": "text"
      },
      "source": [
        "<a href=\"https://colab.research.google.com/github/gantir/eva4/blob/develop/s4/EVA4_Session_4.ipynb\" target=\"_parent\"><img src=\"https://colab.research.google.com/assets/colab-badge.svg\" alt=\"Open In Colab\"/></a>"
      ]
    },
    {
      "cell_type": "code",
      "metadata": {
        "id": "0m2JWFliFfKT",
        "colab_type": "code",
        "colab": {}
      },
      "source": [
        "from __future__ import print_function\n",
        "import torch\n",
        "import torch.nn as nn\n",
        "import torch.nn.functional as F\n",
        "import torch.optim as optim\n",
        "from torchvision import datasets, transforms\n",
        "\n",
        "from matplotlib import pyplot as plt\n",
        "from tqdm import tqdm\n",
        "import numpy as np"
      ],
      "execution_count": 0,
      "outputs": []
    },
    {
      "cell_type": "code",
      "metadata": {
        "id": "ZbB1f-juhZvk",
        "colab_type": "code",
        "outputId": "9754a6c9-a3cd-418e-efb3-cbed1d57813a",
        "colab": {
          "base_uri": "https://localhost:8080/",
          "height": 34
        }
      },
      "source": [
        "!pip install torchsummary\n",
        "from torchsummary import summary\n",
        "use_cuda = torch.cuda.is_available()\n",
        "device = torch.device(\"cuda\" if use_cuda else \"cpu\")\n"
      ],
      "execution_count": 14,
      "outputs": [
        {
          "output_type": "stream",
          "text": [
            "Requirement already satisfied: torchsummary in /usr/local/lib/python3.6/dist-packages (1.5.1)\n"
          ],
          "name": "stdout"
        }
      ]
    },
    {
      "cell_type": "code",
      "metadata": {
        "id": "8fDefDhaFlwH",
        "colab_type": "code",
        "colab": {}
      },
      "source": [
        "from tqdm import tqdm\n",
        "def train(model, device, train_loader, optimizer, epoch):\n",
        "    model.train()\n",
        "    train_loss = 0\n",
        "    train_correct = 0\n",
        "    train_acc = 0\n",
        "    pbar = tqdm(train_loader)\n",
        "    for batch_idx, (data, target) in enumerate(pbar):\n",
        "        data, target = data.to(device), target.to(device)\n",
        "        optimizer.zero_grad()\n",
        "        output = model(data)\n",
        "        loss = F.nll_loss(output, target)\n",
        "        \n",
        "        pred_train = output.argmax(dim=1, keepdim=True)\n",
        "        train_correct += pred_train.eq(target.view_as(pred_train)).sum().item()\n",
        "\n",
        "        loss.backward()\n",
        "        optimizer.step()\n",
        "        \n",
        "        train_loss = loss.item()\n",
        "        train_acc = 100. * train_correct / len(train_loader.dataset)\n",
        "\n",
        "        output_message = 'Epoch: {}, Batch Id: {} Training Loss: {:.8f} Training Accuracy: {:.4f}%'.format(epoch, batch_idx, train_loss,train_acc)\n",
        "        pbar.set_description(desc= output_message)\n",
        "\n",
        "    return train_acc, train_loss\n",
        "\n",
        "def test(model, device, test_loader, epoch=1):\n",
        "    model.eval()\n",
        "    test_loss = 0\n",
        "    correct = 0\n",
        "    test_acc = 0\n",
        "    with torch.no_grad():\n",
        "        for data, target in test_loader:\n",
        "            data, target = data.to(device), target.to(device)\n",
        "            output = model(data)\n",
        "            test_loss += F.nll_loss(output, target, reduction='sum').item()  # sum up batch loss\n",
        "            pred = output.argmax(dim=1, keepdim=True)  # get the index of the max log-probability\n",
        "            correct += pred.eq(target.view_as(pred)).sum().item()\n",
        "\n",
        "    test_loss /= len(test_loader.dataset)\n",
        "    \n",
        "    test_acc = 100. * correct / len(test_loader.dataset)\n",
        "    \n",
        "    output_message = '\\nEpoch:{} -- Test Set, Validation Loss: {:.8f} Validation Accuracy: {:.4f}%\\n'.format(epoch,test_loss,test_acc)\n",
        "    print(output_message)\n",
        "\n",
        "    return test_acc, test_loss"
      ],
      "execution_count": 0,
      "outputs": []
    },
    {
      "cell_type": "code",
      "metadata": {
        "id": "7RqvpEAf-Lcp",
        "colab_type": "code",
        "colab": {}
      },
      "source": [
        "def plot_accuracy(train_history, val_history):\n",
        "  _= plt.plot(train_history)\n",
        "  _= plt.plot(val_history)\n",
        "  _= plt.title('model accuracy')\n",
        "  _= plt.ylabel('accuracy')\n",
        "  _= plt.xlabel('epoch')\n",
        "  _= plt.legend(['train', 'val'], loc='upper left')\n",
        "  _= plt.show()\n",
        "\n",
        "def plot_loss(train_history, val_history):\n",
        "  _= plt.plot(train_history)\n",
        "  _= plt.plot(val_history)\n",
        "  _= plt.title('model loss')\n",
        "  _= plt.ylabel('loss')\n",
        "  _= plt.xlabel('epoch')\n",
        "  _= plt.legend(['train', 'val'], loc='upper left')\n",
        "  _= plt.show()"
      ],
      "execution_count": 0,
      "outputs": []
    },
    {
      "cell_type": "code",
      "metadata": {
        "id": "DqTWLaM5GHgH",
        "colab_type": "code",
        "colab": {}
      },
      "source": [
        "torch.manual_seed(42)\n",
        "batch_size = 128\n",
        "\n",
        "kwargs = {'num_workers': 1, 'pin_memory': True} if use_cuda else {}\n",
        "train_loader = torch.utils.data.DataLoader(\n",
        "    datasets.MNIST('../data', train=True, download=True,\n",
        "                    transform=transforms.Compose([\n",
        "                        transforms.ToTensor(),\n",
        "                        transforms.Normalize((0.1307,), (0.3081,))\n",
        "                    ])),\n",
        "    batch_size=batch_size, shuffle=True, **kwargs)\n",
        "\n",
        "test_loader = torch.utils.data.DataLoader(\n",
        "    datasets.MNIST('../data', train=False, transform=transforms.Compose([\n",
        "                        transforms.ToTensor(),\n",
        "                        transforms.Normalize((0.1307,), (0.3081,))\n",
        "                    ])),\n",
        "    batch_size=batch_size, shuffle=True, **kwargs)\n"
      ],
      "execution_count": 0,
      "outputs": []
    },
    {
      "cell_type": "code",
      "metadata": {
        "id": "jodh9fPfX-Vn",
        "colab_type": "code",
        "colab": {}
      },
      "source": [
        "def train_n_test(model, optimizer, device, train_data_loader, test_data_loader, num_epochs=10):\n",
        "  train_acc_history = []\n",
        "  train_loss_history = []\n",
        "  val_acc_history = []\n",
        "  val_loss_history = []\n",
        "\n",
        "  for epoch in range(1, num_epochs+1):\n",
        "      train_acc, train_loss = train(model, device, train_data_loader, optimizer, epoch)\n",
        "      train_acc_history.append(train_acc)\n",
        "      train_loss_history.append(train_loss)\n",
        "\n",
        "      val_acc, val_loss = test(model, device, test_data_loader, epoch)\n",
        "      val_acc_history.append(val_acc)\n",
        "      val_loss_history.append(val_loss)\n",
        "\n",
        "  plot_accuracy(train_acc_history, val_acc_history)\n",
        "  plot_loss(train_loss_history, val_loss_history)\n",
        "\n",
        "  return ([(train_acc_history, train_loss_history),(val_acc_history, val_loss_history)])"
      ],
      "execution_count": 0,
      "outputs": []
    },
    {
      "cell_type": "code",
      "metadata": {
        "id": "h_Cx9q2QFgM7",
        "colab_type": "code",
        "colab": {}
      },
      "source": [
        "class Net1(nn.Module):\n",
        "    def __init__(self):\n",
        "        super(Net1, self).__init__()\n",
        "        self.conv1 = nn.Conv2d(1, 8, 3, bias=False) #input -28*28*1 output: 26*26*8 RF: 3*3\n",
        "        self.conv2 = nn.Conv2d(8, 8, 3, bias=False) #input -26*26*8 output: 24*24*8 RF: 5*5\n",
        "        self.conv3 = nn.Conv2d(8, 16, 3, bias=False) #input -24*24*8 output: 22*22*16 RF: 7*7\n",
        "        self.pool1 = nn.MaxPool2d(2, 2) #input - 22*22*16 output: 11*11*16 RF: 8*8\n",
        "\n",
        "        self.conv4 = nn.Conv2d(16, 16, 3, bias=False) #input -11*11*16 output: 9*9*16 LRF: 3*3 GRF: 12*12\n",
        "        self.conv5 = nn.Conv2d(16, 16, 3, bias=False) #input -9*9*16 output: 7*7*16 LRF: 5*5 GRF: 16*16\n",
        "        \n",
        "        self.conv6 = nn.Conv2d(16, 10, 1, bias=False) #input -7*7*16 output: 7*7*10 LRF: 5*5 GRF: 16*16\n",
        "        self.gap = nn.AvgPool2d(kernel_size=7) #input -7*7*10 output: 1*1*10\n",
        "\n",
        "    def forward(self, x):\n",
        "        x = F.relu(self.conv1(x))\n",
        "        x = F.relu(self.conv3(F.relu(self.conv2(x))))\n",
        "        x = self.pool1(x)\n",
        "        x = F.relu(self.conv5(F.relu(self.conv4(x))))\n",
        "        x = self.gap(self.conv6(x)) #No activation on conv before last later\n",
        "        x = x.view(-1, 10)\n",
        "        return F.log_softmax(x, dim=1)"
      ],
      "execution_count": 0,
      "outputs": []
    },
    {
      "cell_type": "code",
      "metadata": {
        "colab_type": "code",
        "id": "xdydjYTZFyi3",
        "outputId": "aee41ba9-1cc7-4311-ff9f-3b8ebc73d282",
        "colab": {
          "base_uri": "https://localhost:8080/",
          "height": 382
        }
      },
      "source": [
        "model1 = Net1().to(device)\n",
        "summary(model1, input_size=(1, 28, 28))"
      ],
      "execution_count": 20,
      "outputs": [
        {
          "output_type": "stream",
          "text": [
            "----------------------------------------------------------------\n",
            "        Layer (type)               Output Shape         Param #\n",
            "================================================================\n",
            "            Conv2d-1            [-1, 8, 26, 26]              72\n",
            "            Conv2d-2            [-1, 8, 24, 24]             576\n",
            "            Conv2d-3           [-1, 16, 22, 22]           1,152\n",
            "         MaxPool2d-4           [-1, 16, 11, 11]               0\n",
            "            Conv2d-5             [-1, 16, 9, 9]           2,304\n",
            "            Conv2d-6             [-1, 16, 7, 7]           2,304\n",
            "            Conv2d-7             [-1, 10, 7, 7]             160\n",
            "         AvgPool2d-8             [-1, 10, 1, 1]               0\n",
            "================================================================\n",
            "Total params: 6,568\n",
            "Trainable params: 6,568\n",
            "Non-trainable params: 0\n",
            "----------------------------------------------------------------\n",
            "Input size (MB): 0.00\n",
            "Forward/backward pass size (MB): 0.17\n",
            "Params size (MB): 0.03\n",
            "Estimated Total Size (MB): 0.20\n",
            "----------------------------------------------------------------\n"
          ],
          "name": "stdout"
        }
      ]
    },
    {
      "cell_type": "code",
      "metadata": {
        "id": "MMWbLWO6FuHb",
        "colab_type": "code",
        "colab": {
          "base_uri": "https://localhost:8080/",
          "height": 1000
        },
        "outputId": "95802fb9-9f0b-48fa-9674-1486a676796e"
      },
      "source": [
        "optimizer1 = optim.SGD(model1.parameters(), lr=0.01, momentum=0.9)\n",
        "train_n_test(model1, optimizer1, device, train_loader, test_loader, 20)"
      ],
      "execution_count": 21,
      "outputs": [
        {
          "output_type": "stream",
          "text": [
            "Epoch: 1, Batch Id: 468 Training Loss: 0.41632095 Training Accuracy: 37.2250%: 100%|██████████| 469/469 [00:11<00:00, 39.19it/s]\n",
            "  0%|          | 0/469 [00:00<?, ?it/s]"
          ],
          "name": "stderr"
        },
        {
          "output_type": "stream",
          "text": [
            "\n",
            "Epoch:1 -- Test Set, Validation Loss: 0.47420193 Validation Accuracy: 85.2900%\n",
            "\n"
          ],
          "name": "stdout"
        },
        {
          "output_type": "stream",
          "text": [
            "Epoch: 2, Batch Id: 468 Training Loss: 0.27156687 Training Accuracy: 88.9000%: 100%|██████████| 469/469 [00:11<00:00, 42.16it/s]\n",
            "  0%|          | 0/469 [00:00<?, ?it/s]"
          ],
          "name": "stderr"
        },
        {
          "output_type": "stream",
          "text": [
            "\n",
            "Epoch:2 -- Test Set, Validation Loss: 0.28176117 Validation Accuracy: 90.7000%\n",
            "\n"
          ],
          "name": "stdout"
        },
        {
          "output_type": "stream",
          "text": [
            "Epoch: 3, Batch Id: 468 Training Loss: 0.15725338 Training Accuracy: 93.0433%: 100%|██████████| 469/469 [00:11<00:00, 41.32it/s]\n",
            "  0%|          | 0/469 [00:00<?, ?it/s]"
          ],
          "name": "stderr"
        },
        {
          "output_type": "stream",
          "text": [
            "\n",
            "Epoch:3 -- Test Set, Validation Loss: 0.16359772 Validation Accuracy: 95.0300%\n",
            "\n"
          ],
          "name": "stdout"
        },
        {
          "output_type": "stream",
          "text": [
            "Epoch: 4, Batch Id: 468 Training Loss: 0.10170852 Training Accuracy: 94.5950%: 100%|██████████| 469/469 [00:11<00:00, 42.07it/s]\n",
            "  0%|          | 0/469 [00:00<?, ?it/s]"
          ],
          "name": "stderr"
        },
        {
          "output_type": "stream",
          "text": [
            "\n",
            "Epoch:4 -- Test Set, Validation Loss: 0.13504305 Validation Accuracy: 95.9100%\n",
            "\n"
          ],
          "name": "stdout"
        },
        {
          "output_type": "stream",
          "text": [
            "Epoch: 5, Batch Id: 468 Training Loss: 0.16310100 Training Accuracy: 95.5517%: 100%|██████████| 469/469 [00:11<00:00, 41.72it/s]\n",
            "  0%|          | 0/469 [00:00<?, ?it/s]"
          ],
          "name": "stderr"
        },
        {
          "output_type": "stream",
          "text": [
            "\n",
            "Epoch:5 -- Test Set, Validation Loss: 0.13880270 Validation Accuracy: 95.7200%\n",
            "\n"
          ],
          "name": "stdout"
        },
        {
          "output_type": "stream",
          "text": [
            "Epoch: 6, Batch Id: 468 Training Loss: 0.07513386 Training Accuracy: 96.2383%: 100%|██████████| 469/469 [00:11<00:00, 41.50it/s]\n",
            "  0%|          | 0/469 [00:00<?, ?it/s]"
          ],
          "name": "stderr"
        },
        {
          "output_type": "stream",
          "text": [
            "\n",
            "Epoch:6 -- Test Set, Validation Loss: 0.09214761 Validation Accuracy: 97.1000%\n",
            "\n"
          ],
          "name": "stdout"
        },
        {
          "output_type": "stream",
          "text": [
            "Epoch: 7, Batch Id: 468 Training Loss: 0.01359986 Training Accuracy: 96.6783%: 100%|██████████| 469/469 [00:11<00:00, 42.94it/s]\n",
            "  0%|          | 0/469 [00:00<?, ?it/s]"
          ],
          "name": "stderr"
        },
        {
          "output_type": "stream",
          "text": [
            "\n",
            "Epoch:7 -- Test Set, Validation Loss: 0.09999667 Validation Accuracy: 97.0300%\n",
            "\n"
          ],
          "name": "stdout"
        },
        {
          "output_type": "stream",
          "text": [
            "Epoch: 8, Batch Id: 468 Training Loss: 0.16132104 Training Accuracy: 97.0200%: 100%|██████████| 469/469 [00:11<00:00, 43.22it/s]\n",
            "  0%|          | 0/469 [00:00<?, ?it/s]"
          ],
          "name": "stderr"
        },
        {
          "output_type": "stream",
          "text": [
            "\n",
            "Epoch:8 -- Test Set, Validation Loss: 0.08649243 Validation Accuracy: 97.2200%\n",
            "\n"
          ],
          "name": "stdout"
        },
        {
          "output_type": "stream",
          "text": [
            "Epoch: 9, Batch Id: 468 Training Loss: 0.06885821 Training Accuracy: 97.3300%: 100%|██████████| 469/469 [00:11<00:00, 42.54it/s]\n",
            "  0%|          | 0/469 [00:00<?, ?it/s]"
          ],
          "name": "stderr"
        },
        {
          "output_type": "stream",
          "text": [
            "\n",
            "Epoch:9 -- Test Set, Validation Loss: 0.06494516 Validation Accuracy: 97.8200%\n",
            "\n"
          ],
          "name": "stdout"
        },
        {
          "output_type": "stream",
          "text": [
            "Epoch: 10, Batch Id: 468 Training Loss: 0.04464694 Training Accuracy: 97.5250%: 100%|██████████| 469/469 [00:11<00:00, 41.33it/s]\n",
            "  0%|          | 0/469 [00:00<?, ?it/s]"
          ],
          "name": "stderr"
        },
        {
          "output_type": "stream",
          "text": [
            "\n",
            "Epoch:10 -- Test Set, Validation Loss: 0.06197780 Validation Accuracy: 98.0300%\n",
            "\n"
          ],
          "name": "stdout"
        },
        {
          "output_type": "stream",
          "text": [
            "Epoch: 11, Batch Id: 468 Training Loss: 0.05051826 Training Accuracy: 97.7417%: 100%|██████████| 469/469 [00:10<00:00, 42.85it/s]\n",
            "  0%|          | 0/469 [00:00<?, ?it/s]"
          ],
          "name": "stderr"
        },
        {
          "output_type": "stream",
          "text": [
            "\n",
            "Epoch:11 -- Test Set, Validation Loss: 0.08944729 Validation Accuracy: 97.0800%\n",
            "\n"
          ],
          "name": "stdout"
        },
        {
          "output_type": "stream",
          "text": [
            "Epoch: 12, Batch Id: 468 Training Loss: 0.11391610 Training Accuracy: 97.8900%: 100%|██████████| 469/469 [00:11<00:00, 40.52it/s]\n",
            "  0%|          | 0/469 [00:00<?, ?it/s]"
          ],
          "name": "stderr"
        },
        {
          "output_type": "stream",
          "text": [
            "\n",
            "Epoch:12 -- Test Set, Validation Loss: 0.05927244 Validation Accuracy: 98.2000%\n",
            "\n"
          ],
          "name": "stdout"
        },
        {
          "output_type": "stream",
          "text": [
            "Epoch: 13, Batch Id: 468 Training Loss: 0.00962711 Training Accuracy: 98.0333%: 100%|██████████| 469/469 [00:11<00:00, 41.22it/s]\n",
            "  0%|          | 0/469 [00:00<?, ?it/s]"
          ],
          "name": "stderr"
        },
        {
          "output_type": "stream",
          "text": [
            "\n",
            "Epoch:13 -- Test Set, Validation Loss: 0.06214849 Validation Accuracy: 98.1000%\n",
            "\n"
          ],
          "name": "stdout"
        },
        {
          "output_type": "stream",
          "text": [
            "Epoch: 14, Batch Id: 468 Training Loss: 0.11323262 Training Accuracy: 98.0883%: 100%|██████████| 469/469 [00:11<00:00, 42.02it/s]\n",
            "  0%|          | 0/469 [00:00<?, ?it/s]"
          ],
          "name": "stderr"
        },
        {
          "output_type": "stream",
          "text": [
            "\n",
            "Epoch:14 -- Test Set, Validation Loss: 0.05760995 Validation Accuracy: 98.3300%\n",
            "\n"
          ],
          "name": "stdout"
        },
        {
          "output_type": "stream",
          "text": [
            "Epoch: 15, Batch Id: 468 Training Loss: 0.18664806 Training Accuracy: 98.0850%: 100%|██████████| 469/469 [00:11<00:00, 41.39it/s]\n",
            "  0%|          | 0/469 [00:00<?, ?it/s]"
          ],
          "name": "stderr"
        },
        {
          "output_type": "stream",
          "text": [
            "\n",
            "Epoch:15 -- Test Set, Validation Loss: 0.05770482 Validation Accuracy: 98.2600%\n",
            "\n"
          ],
          "name": "stdout"
        },
        {
          "output_type": "stream",
          "text": [
            "Epoch: 16, Batch Id: 468 Training Loss: 0.02747373 Training Accuracy: 98.2417%: 100%|██████████| 469/469 [00:11<00:00, 42.42it/s]\n",
            "  0%|          | 0/469 [00:00<?, ?it/s]"
          ],
          "name": "stderr"
        },
        {
          "output_type": "stream",
          "text": [
            "\n",
            "Epoch:16 -- Test Set, Validation Loss: 0.07248142 Validation Accuracy: 97.8900%\n",
            "\n"
          ],
          "name": "stdout"
        },
        {
          "output_type": "stream",
          "text": [
            "Epoch: 17, Batch Id: 468 Training Loss: 0.05199903 Training Accuracy: 98.2700%: 100%|██████████| 469/469 [00:11<00:00, 40.92it/s]\n",
            "  0%|          | 0/469 [00:00<?, ?it/s]"
          ],
          "name": "stderr"
        },
        {
          "output_type": "stream",
          "text": [
            "\n",
            "Epoch:17 -- Test Set, Validation Loss: 0.05313739 Validation Accuracy: 98.3700%\n",
            "\n"
          ],
          "name": "stdout"
        },
        {
          "output_type": "stream",
          "text": [
            "Epoch: 18, Batch Id: 468 Training Loss: 0.11815213 Training Accuracy: 98.3133%: 100%|██████████| 469/469 [00:11<00:00, 41.70it/s]\n",
            "  0%|          | 0/469 [00:00<?, ?it/s]"
          ],
          "name": "stderr"
        },
        {
          "output_type": "stream",
          "text": [
            "\n",
            "Epoch:18 -- Test Set, Validation Loss: 0.05553997 Validation Accuracy: 98.3700%\n",
            "\n"
          ],
          "name": "stdout"
        },
        {
          "output_type": "stream",
          "text": [
            "Epoch: 19, Batch Id: 468 Training Loss: 0.02941542 Training Accuracy: 98.4583%: 100%|██████████| 469/469 [00:11<00:00, 41.31it/s]\n",
            "  0%|          | 0/469 [00:00<?, ?it/s]"
          ],
          "name": "stderr"
        },
        {
          "output_type": "stream",
          "text": [
            "\n",
            "Epoch:19 -- Test Set, Validation Loss: 0.05530357 Validation Accuracy: 98.2500%\n",
            "\n"
          ],
          "name": "stdout"
        },
        {
          "output_type": "stream",
          "text": [
            "Epoch: 20, Batch Id: 468 Training Loss: 0.00703501 Training Accuracy: 98.5150%: 100%|██████████| 469/469 [00:11<00:00, 41.30it/s]\n"
          ],
          "name": "stderr"
        },
        {
          "output_type": "stream",
          "text": [
            "\n",
            "Epoch:20 -- Test Set, Validation Loss: 0.05303875 Validation Accuracy: 98.4500%\n",
            "\n"
          ],
          "name": "stdout"
        },
        {
          "output_type": "display_data",
          "data": {
            "image/png": "[encoded data removed]",
            "text/plain": [
              "<Figure size 432x288 with 1 Axes>"
            ]
          },
          "metadata": {
            "tags": []
          }
        },
        {
          "output_type": "display_data",
          "data": {
            "image/png": "[encoded data removed]",
            "text/plain": [
              "<Figure size 432x288 with 1 Axes>"
            ]
          },
          "metadata": {
            "tags": []
          }
        },
        {
          "output_type": "execute_result",
          "data": {
            "text/plain": [
              "[([37.225,\n",
              "   88.9,\n",
              "   93.04333333333334,\n",
              "   94.595,\n",
              "   95.55166666666666,\n",
              "   96.23833333333333,\n",
              "   96.67833333333333,\n",
              "   97.02,\n",
              "   97.33,\n",
              "   97.525,\n",
              "   97.74166666666666,\n",
              "   97.89,\n",
              "   98.03333333333333,\n",
              "   98.08833333333334,\n",
              "   98.085,\n",
              "   98.24166666666666,\n",
              "   98.27,\n",
              "   98.31333333333333,\n",
              "   98.45833333333333,\n",
              "   98.515],\n",
              "  [0.41632094979286194,\n",
              "   0.27156686782836914,\n",
              "   0.15725338459014893,\n",
              "   0.10170852392911911,\n",
              "   0.16310100257396698,\n",
              "   0.07513386011123657,\n",
              "   0.013599857687950134,\n",
              "   0.16132104396820068,\n",
              "   0.06885820627212524,\n",
              "   0.044646937400102615,\n",
              "   0.05051825940608978,\n",
              "   0.11391609907150269,\n",
              "   0.009627108462154865,\n",
              "   0.11323262006044388,\n",
              "   0.18664805591106415,\n",
              "   0.027473732829093933,\n",
              "   0.051999032497406006,\n",
              "   0.11815213412046432,\n",
              "   0.029415419325232506,\n",
              "   0.007035011891275644]),\n",
              " ([85.29,\n",
              "   90.7,\n",
              "   95.03,\n",
              "   95.91,\n",
              "   95.72,\n",
              "   97.1,\n",
              "   97.03,\n",
              "   97.22,\n",
              "   97.82,\n",
              "   98.03,\n",
              "   97.08,\n",
              "   98.2,\n",
              "   98.1,\n",
              "   98.33,\n",
              "   98.26,\n",
              "   97.89,\n",
              "   98.37,\n",
              "   98.37,\n",
              "   98.25,\n",
              "   98.45],\n",
              "  [0.4742019278526306,\n",
              "   0.2817611702919006,\n",
              "   0.16359771919250488,\n",
              "   0.13504304895401,\n",
              "   0.1388027009010315,\n",
              "   0.09214760880470275,\n",
              "   0.09999666962623596,\n",
              "   0.08649242925643921,\n",
              "   0.06494516029357911,\n",
              "   0.061977798795700076,\n",
              "   0.08944729089736939,\n",
              "   0.0592724410533905,\n",
              "   0.06214848966598511,\n",
              "   0.05760994954109192,\n",
              "   0.05770482172966004,\n",
              "   0.07248142008781433,\n",
              "   0.05313738751411438,\n",
              "   0.05553996686935425,\n",
              "   0.05530357255935669,\n",
              "   0.05303875343799591])]"
            ]
          },
          "metadata": {
            "tags": []
          },
          "execution_count": 21
        }
      ]
    },
    {
      "cell_type": "code",
      "metadata": {
        "id": "BpWHH-0L_60V",
        "colab_type": "code",
        "colab": {}
      },
      "source": [
        "class Net2(nn.Module):\n",
        "    def __init__(self):\n",
        "        super(Net2, self).__init__()\n",
        "        self.conv1 = nn.Conv2d(1, 16, 3, bias=False) #input -28*28*1 output: 26*26*16 RF: 3*3\n",
        "        self.conv1_bn = nn.BatchNorm2d(16)\n",
        "        self.conv1_drop = nn.Dropout2d(0.03)\n",
        "\n",
        "        self.conv2 = nn.Conv2d(16, 16, 3, bias=False) #input -26*26*16 output: 24*24*16 RF: 5*5\n",
        "        self.conv2_bn = nn.BatchNorm2d(16)\n",
        "        self.conv2_drop = nn.Dropout2d(0.03)\n",
        "        self.conv3 = nn.Conv2d(16, 16, 3, bias=False) #input -24*24*16 output: 22*22*16 RF: 7*7\n",
        "        self.conv3_bn = nn.BatchNorm2d(16)\n",
        "        self.conv3_drop = nn.Dropout2d(0.03)\n",
        "\n",
        "        self.pool1 = nn.MaxPool2d(2, 2) #input - 22*22*16 output: 11*11*16 RF: 8*8\n",
        "        self.conv4 = nn.Conv2d(16, 16, 1, bias=False) #input -11*11*16 output: 9*9*16 LRF: 3*3 GRF: 12*12\n",
        "        self.conv4_bn = nn.BatchNorm2d(16)\n",
        "        self.conv4_drop = nn.Dropout2d(0.03)\n",
        "\n",
        "        self.conv5 = nn.Conv2d(16, 24, 3, bias=False) #input -11*11*16 output: 9*9*24 LRF: 3*3 GRF: 12*12\n",
        "        self.conv5_bn = nn.BatchNorm2d(24)\n",
        "        self.conv5_drop = nn.Dropout2d(0.03)\n",
        "\n",
        "        self.conv6 = nn.Conv2d(24, 24, 3, bias=False) #input -9*9*24 output: 7*7*24 LRF: 5*5 GRF: 16*16\n",
        "        self.conv6_bn = nn.BatchNorm2d(24)\n",
        "        self.conv6_drop = nn.Dropout2d(0.03)\n",
        "\n",
        "        self.conv7 = nn.Conv2d(24, 10, 1, bias=False) #input -7*7*16 output: 7*7*10 LRF: 5*5 GRF: 16*16\n",
        "        self.gap = nn.AvgPool2d(kernel_size=7) #input -7*7*10 output: 1*1*10\n",
        "\n",
        "    def forward(self, x):\n",
        "        x = F.relu(self.conv1_drop(self.conv1_bn(self.conv1(x))))\n",
        "        \n",
        "        x = F.relu(self.conv2_drop(self.conv2_bn(self.conv2(x))))\n",
        "        x = F.relu(self.conv3_drop(self.conv3_bn(self.conv3(x))))\n",
        "\n",
        "        x = self.pool1(x)\n",
        "        x = F.relu(self.conv4_drop(self.conv4_bn(self.conv4(x))))\n",
        "\n",
        "        x = F.relu(self.conv5_drop(self.conv5_bn(self.conv5(x))))\n",
        "        x = F.relu(self.conv6_drop(self.conv6_bn(self.conv6(x))))\n",
        "\n",
        "        x = self.gap(self.conv7(x)) #No activation on conv before last later\n",
        "        x = x.view(-1, 10)\n",
        "        return F.log_softmax(x, dim=1)"
      ],
      "execution_count": 0,
      "outputs": []
    },
    {
      "cell_type": "code",
      "metadata": {
        "id": "So5uk4EkHW6R",
        "colab_type": "code",
        "outputId": "2927c48f-d793-4789-cf6e-ec4a6e4c5e65",
        "colab": {
          "base_uri": "https://localhost:8080/",
          "height": 607
        }
      },
      "source": [
        "model2 = Net2().to(device)\n",
        "summary(model2, input_size=(1, 28, 28))"
      ],
      "execution_count": 23,
      "outputs": [
        {
          "output_type": "stream",
          "text": [
            "----------------------------------------------------------------\n",
            "        Layer (type)               Output Shape         Param #\n",
            "================================================================\n",
            "            Conv2d-1           [-1, 16, 26, 26]             144\n",
            "       BatchNorm2d-2           [-1, 16, 26, 26]              32\n",
            "         Dropout2d-3           [-1, 16, 26, 26]               0\n",
            "            Conv2d-4           [-1, 16, 24, 24]           2,304\n",
            "       BatchNorm2d-5           [-1, 16, 24, 24]              32\n",
            "         Dropout2d-6           [-1, 16, 24, 24]               0\n",
            "            Conv2d-7           [-1, 16, 22, 22]           2,304\n",
            "       BatchNorm2d-8           [-1, 16, 22, 22]              32\n",
            "         Dropout2d-9           [-1, 16, 22, 22]               0\n",
            "        MaxPool2d-10           [-1, 16, 11, 11]               0\n",
            "           Conv2d-11           [-1, 16, 11, 11]             256\n",
            "      BatchNorm2d-12           [-1, 16, 11, 11]              32\n",
            "        Dropout2d-13           [-1, 16, 11, 11]               0\n",
            "           Conv2d-14             [-1, 24, 9, 9]           3,456\n",
            "      BatchNorm2d-15             [-1, 24, 9, 9]              48\n",
            "        Dropout2d-16             [-1, 24, 9, 9]               0\n",
            "           Conv2d-17             [-1, 24, 7, 7]           5,184\n",
            "      BatchNorm2d-18             [-1, 24, 7, 7]              48\n",
            "        Dropout2d-19             [-1, 24, 7, 7]               0\n",
            "           Conv2d-20             [-1, 10, 7, 7]             240\n",
            "        AvgPool2d-21             [-1, 10, 1, 1]               0\n",
            "================================================================\n",
            "Total params: 14,112\n",
            "Trainable params: 14,112\n",
            "Non-trainable params: 0\n",
            "----------------------------------------------------------------\n",
            "Input size (MB): 0.00\n",
            "Forward/backward pass size (MB): 0.77\n",
            "Params size (MB): 0.05\n",
            "Estimated Total Size (MB): 0.83\n",
            "----------------------------------------------------------------\n"
          ],
          "name": "stdout"
        }
      ]
    },
    {
      "cell_type": "code",
      "metadata": {
        "id": "l60FZrpWNxzi",
        "colab_type": "code",
        "outputId": "2f8fc51d-32c8-4cf7-a9dc-4ced7d883536",
        "colab": {
          "base_uri": "https://localhost:8080/",
          "height": 1000
        }
      },
      "source": [
        "optimizer2 = optim.SGD(model2.parameters(), lr=0.001, momentum=0.9)\n",
        "train_n_test(model2, optimizer2, device, train_loader, test_loader, 40)"
      ],
      "execution_count": 24,
      "outputs": [
        {
          "output_type": "stream",
          "text": [
            "Epoch: 1, Batch Id: 468 Training Loss: 0.29920614 Training Accuracy: 71.3767%: 100%|██████████| 469/469 [00:12<00:00, 38.06it/s]\n",
            "  0%|          | 0/469 [00:00<?, ?it/s]"
          ],
          "name": "stderr"
        },
        {
          "output_type": "stream",
          "text": [
            "\n",
            "Epoch:1 -- Test Set, Validation Loss: 0.19481680 Validation Accuracy: 96.5900%\n",
            "\n"
          ],
          "name": "stdout"
        },
        {
          "output_type": "stream",
          "text": [
            "Epoch: 2, Batch Id: 468 Training Loss: 0.22496973 Training Accuracy: 94.3983%: 100%|██████████| 469/469 [00:12<00:00, 38.24it/s]\n",
            "  0%|          | 0/469 [00:00<?, ?it/s]"
          ],
          "name": "stderr"
        },
        {
          "output_type": "stream",
          "text": [
            "\n",
            "Epoch:2 -- Test Set, Validation Loss: 0.08717796 Validation Accuracy: 98.0600%\n",
            "\n"
          ],
          "name": "stdout"
        },
        {
          "output_type": "stream",
          "text": [
            "Epoch: 3, Batch Id: 468 Training Loss: 0.12062474 Training Accuracy: 96.2633%: 100%|██████████| 469/469 [00:12<00:00, 39.05it/s]\n",
            "  0%|          | 0/469 [00:00<?, ?it/s]"
          ],
          "name": "stderr"
        },
        {
          "output_type": "stream",
          "text": [
            "\n",
            "Epoch:3 -- Test Set, Validation Loss: 0.06131858 Validation Accuracy: 98.3300%\n",
            "\n"
          ],
          "name": "stdout"
        },
        {
          "output_type": "stream",
          "text": [
            "Epoch: 4, Batch Id: 468 Training Loss: 0.13480124 Training Accuracy: 96.9200%: 100%|██████████| 469/469 [00:12<00:00, 40.18it/s]\n",
            "  0%|          | 0/469 [00:00<?, ?it/s]"
          ],
          "name": "stderr"
        },
        {
          "output_type": "stream",
          "text": [
            "\n",
            "Epoch:4 -- Test Set, Validation Loss: 0.04357376 Validation Accuracy: 98.7400%\n",
            "\n"
          ],
          "name": "stdout"
        },
        {
          "output_type": "stream",
          "text": [
            "Epoch: 5, Batch Id: 468 Training Loss: 0.10367716 Training Accuracy: 97.2200%: 100%|██████████| 469/469 [00:12<00:00, 37.21it/s]\n",
            "  0%|          | 0/469 [00:00<?, ?it/s]"
          ],
          "name": "stderr"
        },
        {
          "output_type": "stream",
          "text": [
            "\n",
            "Epoch:5 -- Test Set, Validation Loss: 0.05084939 Validation Accuracy: 98.4300%\n",
            "\n"
          ],
          "name": "stdout"
        },
        {
          "output_type": "stream",
          "text": [
            "Epoch: 6, Batch Id: 468 Training Loss: 0.05296434 Training Accuracy: 97.6667%: 100%|██████████| 469/469 [00:12<00:00, 37.95it/s]\n",
            "  0%|          | 0/469 [00:00<?, ?it/s]"
          ],
          "name": "stderr"
        },
        {
          "output_type": "stream",
          "text": [
            "\n",
            "Epoch:6 -- Test Set, Validation Loss: 0.03820086 Validation Accuracy: 98.8700%\n",
            "\n"
          ],
          "name": "stdout"
        },
        {
          "output_type": "stream",
          "text": [
            "Epoch: 7, Batch Id: 468 Training Loss: 0.08033016 Training Accuracy: 97.8100%: 100%|██████████| 469/469 [00:12<00:00, 38.76it/s]\n",
            "  0%|          | 0/469 [00:00<?, ?it/s]"
          ],
          "name": "stderr"
        },
        {
          "output_type": "stream",
          "text": [
            "\n",
            "Epoch:7 -- Test Set, Validation Loss: 0.03622190 Validation Accuracy: 98.9000%\n",
            "\n"
          ],
          "name": "stdout"
        },
        {
          "output_type": "stream",
          "text": [
            "Epoch: 8, Batch Id: 468 Training Loss: 0.07916091 Training Accuracy: 97.8250%: 100%|██████████| 469/469 [00:12<00:00, 37.92it/s]\n",
            "  0%|          | 0/469 [00:00<?, ?it/s]"
          ],
          "name": "stderr"
        },
        {
          "output_type": "stream",
          "text": [
            "\n",
            "Epoch:8 -- Test Set, Validation Loss: 0.03248186 Validation Accuracy: 99.0100%\n",
            "\n"
          ],
          "name": "stdout"
        },
        {
          "output_type": "stream",
          "text": [
            "Epoch: 9, Batch Id: 468 Training Loss: 0.11400363 Training Accuracy: 98.0267%: 100%|██████████| 469/469 [00:11<00:00, 39.21it/s]\n",
            "  0%|          | 0/469 [00:00<?, ?it/s]"
          ],
          "name": "stderr"
        },
        {
          "output_type": "stream",
          "text": [
            "\n",
            "Epoch:9 -- Test Set, Validation Loss: 0.03202431 Validation Accuracy: 99.0300%\n",
            "\n"
          ],
          "name": "stdout"
        },
        {
          "output_type": "stream",
          "text": [
            "Epoch: 10, Batch Id: 468 Training Loss: 0.04342610 Training Accuracy: 98.1350%: 100%|██████████| 469/469 [00:12<00:00, 37.73it/s]\n",
            "  0%|          | 0/469 [00:00<?, ?it/s]"
          ],
          "name": "stderr"
        },
        {
          "output_type": "stream",
          "text": [
            "\n",
            "Epoch:10 -- Test Set, Validation Loss: 0.02910849 Validation Accuracy: 99.1100%\n",
            "\n"
          ],
          "name": "stdout"
        },
        {
          "output_type": "stream",
          "text": [
            "Epoch: 11, Batch Id: 468 Training Loss: 0.03114386 Training Accuracy: 98.2633%: 100%|██████████| 469/469 [00:12<00:00, 38.41it/s]\n",
            "  0%|          | 0/469 [00:00<?, ?it/s]"
          ],
          "name": "stderr"
        },
        {
          "output_type": "stream",
          "text": [
            "\n",
            "Epoch:11 -- Test Set, Validation Loss: 0.02856492 Validation Accuracy: 99.1600%\n",
            "\n"
          ],
          "name": "stdout"
        },
        {
          "output_type": "stream",
          "text": [
            "Epoch: 12, Batch Id: 468 Training Loss: 0.07987575 Training Accuracy: 98.3150%: 100%|██████████| 469/469 [00:12<00:00, 38.95it/s]\n",
            "  0%|          | 0/469 [00:00<?, ?it/s]"
          ],
          "name": "stderr"
        },
        {
          "output_type": "stream",
          "text": [
            "\n",
            "Epoch:12 -- Test Set, Validation Loss: 0.02695081 Validation Accuracy: 99.0800%\n",
            "\n"
          ],
          "name": "stdout"
        },
        {
          "output_type": "stream",
          "text": [
            "Epoch: 13, Batch Id: 468 Training Loss: 0.08279309 Training Accuracy: 98.3717%: 100%|██████████| 469/469 [00:12<00:00, 38.84it/s]\n",
            "  0%|          | 0/469 [00:00<?, ?it/s]"
          ],
          "name": "stderr"
        },
        {
          "output_type": "stream",
          "text": [
            "\n",
            "Epoch:13 -- Test Set, Validation Loss: 0.02431783 Validation Accuracy: 99.2400%\n",
            "\n"
          ],
          "name": "stdout"
        },
        {
          "output_type": "stream",
          "text": [
            "Epoch: 14, Batch Id: 468 Training Loss: 0.07206009 Training Accuracy: 98.3383%: 100%|██████████| 469/469 [00:12<00:00, 38.45it/s]\n",
            "  0%|          | 0/469 [00:00<?, ?it/s]"
          ],
          "name": "stderr"
        },
        {
          "output_type": "stream",
          "text": [
            "\n",
            "Epoch:14 -- Test Set, Validation Loss: 0.02396847 Validation Accuracy: 99.2300%\n",
            "\n"
          ],
          "name": "stdout"
        },
        {
          "output_type": "stream",
          "text": [
            "Epoch: 15, Batch Id: 468 Training Loss: 0.10939768 Training Accuracy: 98.5150%: 100%|██████████| 469/469 [00:11<00:00, 39.11it/s]\n",
            "  0%|          | 0/469 [00:00<?, ?it/s]"
          ],
          "name": "stderr"
        },
        {
          "output_type": "stream",
          "text": [
            "\n",
            "Epoch:15 -- Test Set, Validation Loss: 0.02384969 Validation Accuracy: 99.3200%\n",
            "\n"
          ],
          "name": "stdout"
        },
        {
          "output_type": "stream",
          "text": [
            "Epoch: 16, Batch Id: 468 Training Loss: 0.02139598 Training Accuracy: 98.4917%: 100%|██████████| 469/469 [00:12<00:00, 38.77it/s]\n",
            "  0%|          | 0/469 [00:00<?, ?it/s]"
          ],
          "name": "stderr"
        },
        {
          "output_type": "stream",
          "text": [
            "\n",
            "Epoch:16 -- Test Set, Validation Loss: 0.02261813 Validation Accuracy: 99.3300%\n",
            "\n"
          ],
          "name": "stdout"
        },
        {
          "output_type": "stream",
          "text": [
            "Epoch: 17, Batch Id: 468 Training Loss: 0.09867234 Training Accuracy: 98.6033%: 100%|██████████| 469/469 [00:12<00:00, 38.08it/s]\n",
            "  0%|          | 0/469 [00:00<?, ?it/s]"
          ],
          "name": "stderr"
        },
        {
          "output_type": "stream",
          "text": [
            "\n",
            "Epoch:17 -- Test Set, Validation Loss: 0.02274316 Validation Accuracy: 99.2700%\n",
            "\n"
          ],
          "name": "stdout"
        },
        {
          "output_type": "stream",
          "text": [
            "Epoch: 18, Batch Id: 468 Training Loss: 0.00912247 Training Accuracy: 98.5200%: 100%|██████████| 469/469 [00:11<00:00, 39.09it/s]\n",
            "  0%|          | 0/469 [00:00<?, ?it/s]"
          ],
          "name": "stderr"
        },
        {
          "output_type": "stream",
          "text": [
            "\n",
            "Epoch:18 -- Test Set, Validation Loss: 0.02236844 Validation Accuracy: 99.3000%\n",
            "\n"
          ],
          "name": "stdout"
        },
        {
          "output_type": "stream",
          "text": [
            "Epoch: 19, Batch Id: 468 Training Loss: 0.08359187 Training Accuracy: 98.5650%: 100%|██████████| 469/469 [00:12<00:00, 38.30it/s]\n",
            "  0%|          | 0/469 [00:00<?, ?it/s]"
          ],
          "name": "stderr"
        },
        {
          "output_type": "stream",
          "text": [
            "\n",
            "Epoch:19 -- Test Set, Validation Loss: 0.02337613 Validation Accuracy: 99.3000%\n",
            "\n"
          ],
          "name": "stdout"
        },
        {
          "output_type": "stream",
          "text": [
            "Epoch: 20, Batch Id: 468 Training Loss: 0.05451955 Training Accuracy: 98.5800%: 100%|██████████| 469/469 [00:11<00:00, 40.77it/s]\n",
            "  0%|          | 0/469 [00:00<?, ?it/s]"
          ],
          "name": "stderr"
        },
        {
          "output_type": "stream",
          "text": [
            "\n",
            "Epoch:20 -- Test Set, Validation Loss: 0.02280453 Validation Accuracy: 99.2300%\n",
            "\n"
          ],
          "name": "stdout"
        },
        {
          "output_type": "stream",
          "text": [
            "Epoch: 21, Batch Id: 468 Training Loss: 0.01632873 Training Accuracy: 98.7000%: 100%|██████████| 469/469 [00:12<00:00, 34.96it/s]\n",
            "  0%|          | 0/469 [00:00<?, ?it/s]"
          ],
          "name": "stderr"
        },
        {
          "output_type": "stream",
          "text": [
            "\n",
            "Epoch:21 -- Test Set, Validation Loss: 0.02254826 Validation Accuracy: 99.2300%\n",
            "\n"
          ],
          "name": "stdout"
        },
        {
          "output_type": "stream",
          "text": [
            "Epoch: 22, Batch Id: 468 Training Loss: 0.02803738 Training Accuracy: 98.6717%: 100%|██████████| 469/469 [00:13<00:00, 36.07it/s]\n",
            "  0%|          | 0/469 [00:00<?, ?it/s]"
          ],
          "name": "stderr"
        },
        {
          "output_type": "stream",
          "text": [
            "\n",
            "Epoch:22 -- Test Set, Validation Loss: 0.02312302 Validation Accuracy: 99.2300%\n",
            "\n"
          ],
          "name": "stdout"
        },
        {
          "output_type": "stream",
          "text": [
            "Epoch: 23, Batch Id: 468 Training Loss: 0.05110241 Training Accuracy: 98.6967%: 100%|██████████| 469/469 [00:13<00:00, 34.77it/s]\n",
            "  0%|          | 0/469 [00:00<?, ?it/s]"
          ],
          "name": "stderr"
        },
        {
          "output_type": "stream",
          "text": [
            "\n",
            "Epoch:23 -- Test Set, Validation Loss: 0.02287575 Validation Accuracy: 99.1900%\n",
            "\n"
          ],
          "name": "stdout"
        },
        {
          "output_type": "stream",
          "text": [
            "Epoch: 24, Batch Id: 468 Training Loss: 0.04267566 Training Accuracy: 98.7450%: 100%|██████████| 469/469 [00:12<00:00, 38.03it/s]\n",
            "  0%|          | 0/469 [00:00<?, ?it/s]"
          ],
          "name": "stderr"
        },
        {
          "output_type": "stream",
          "text": [
            "\n",
            "Epoch:24 -- Test Set, Validation Loss: 0.02138716 Validation Accuracy: 99.2900%\n",
            "\n"
          ],
          "name": "stdout"
        },
        {
          "output_type": "stream",
          "text": [
            "Epoch: 25, Batch Id: 468 Training Loss: 0.04863535 Training Accuracy: 98.7800%: 100%|██████████| 469/469 [00:12<00:00, 38.50it/s]\n",
            "  0%|          | 0/469 [00:00<?, ?it/s]"
          ],
          "name": "stderr"
        },
        {
          "output_type": "stream",
          "text": [
            "\n",
            "Epoch:25 -- Test Set, Validation Loss: 0.02106725 Validation Accuracy: 99.2800%\n",
            "\n"
          ],
          "name": "stdout"
        },
        {
          "output_type": "stream",
          "text": [
            "Epoch: 26, Batch Id: 468 Training Loss: 0.01399155 Training Accuracy: 98.7783%: 100%|██████████| 469/469 [00:12<00:00, 38.80it/s]\n",
            "  0%|          | 0/469 [00:00<?, ?it/s]"
          ],
          "name": "stderr"
        },
        {
          "output_type": "stream",
          "text": [
            "\n",
            "Epoch:26 -- Test Set, Validation Loss: 0.02276467 Validation Accuracy: 99.2100%\n",
            "\n"
          ],
          "name": "stdout"
        },
        {
          "output_type": "stream",
          "text": [
            "Epoch: 27, Batch Id: 468 Training Loss: 0.00905893 Training Accuracy: 98.7183%: 100%|██████████| 469/469 [00:12<00:00, 36.82it/s]\n",
            "  0%|          | 0/469 [00:00<?, ?it/s]"
          ],
          "name": "stderr"
        },
        {
          "output_type": "stream",
          "text": [
            "\n",
            "Epoch:27 -- Test Set, Validation Loss: 0.02031210 Validation Accuracy: 99.3600%\n",
            "\n"
          ],
          "name": "stdout"
        },
        {
          "output_type": "stream",
          "text": [
            "Epoch: 28, Batch Id: 468 Training Loss: 0.10859921 Training Accuracy: 98.8133%: 100%|██████████| 469/469 [00:11<00:00, 39.30it/s]\n",
            "  0%|          | 0/469 [00:00<?, ?it/s]"
          ],
          "name": "stderr"
        },
        {
          "output_type": "stream",
          "text": [
            "\n",
            "Epoch:28 -- Test Set, Validation Loss: 0.02031517 Validation Accuracy: 99.3700%\n",
            "\n"
          ],
          "name": "stdout"
        },
        {
          "output_type": "stream",
          "text": [
            "Epoch: 29, Batch Id: 468 Training Loss: 0.04901536 Training Accuracy: 98.8467%: 100%|██████████| 469/469 [00:12<00:00, 39.07it/s]\n",
            "  0%|          | 0/469 [00:00<?, ?it/s]"
          ],
          "name": "stderr"
        },
        {
          "output_type": "stream",
          "text": [
            "\n",
            "Epoch:29 -- Test Set, Validation Loss: 0.01937822 Validation Accuracy: 99.4100%\n",
            "\n"
          ],
          "name": "stdout"
        },
        {
          "output_type": "stream",
          "text": [
            "Epoch: 30, Batch Id: 468 Training Loss: 0.06035270 Training Accuracy: 98.8733%: 100%|██████████| 469/469 [00:12<00:00, 38.28it/s]\n",
            "  0%|          | 0/469 [00:00<?, ?it/s]"
          ],
          "name": "stderr"
        },
        {
          "output_type": "stream",
          "text": [
            "\n",
            "Epoch:30 -- Test Set, Validation Loss: 0.02026971 Validation Accuracy: 99.3700%\n",
            "\n"
          ],
          "name": "stdout"
        },
        {
          "output_type": "stream",
          "text": [
            "Epoch: 31, Batch Id: 468 Training Loss: 0.01190017 Training Accuracy: 98.9117%: 100%|██████████| 469/469 [00:11<00:00, 39.57it/s]\n",
            "  0%|          | 0/469 [00:00<?, ?it/s]"
          ],
          "name": "stderr"
        },
        {
          "output_type": "stream",
          "text": [
            "\n",
            "Epoch:31 -- Test Set, Validation Loss: 0.01891306 Validation Accuracy: 99.4000%\n",
            "\n"
          ],
          "name": "stdout"
        },
        {
          "output_type": "stream",
          "text": [
            "Epoch: 32, Batch Id: 468 Training Loss: 0.02347676 Training Accuracy: 98.8417%: 100%|██████████| 469/469 [00:12<00:00, 41.58it/s]\n",
            "  0%|          | 0/469 [00:00<?, ?it/s]"
          ],
          "name": "stderr"
        },
        {
          "output_type": "stream",
          "text": [
            "\n",
            "Epoch:32 -- Test Set, Validation Loss: 0.01903082 Validation Accuracy: 99.3700%\n",
            "\n"
          ],
          "name": "stdout"
        },
        {
          "output_type": "stream",
          "text": [
            "Epoch: 33, Batch Id: 468 Training Loss: 0.03993197 Training Accuracy: 98.8783%: 100%|██████████| 469/469 [00:11<00:00, 40.73it/s]\n",
            "  0%|          | 0/469 [00:00<?, ?it/s]"
          ],
          "name": "stderr"
        },
        {
          "output_type": "stream",
          "text": [
            "\n",
            "Epoch:33 -- Test Set, Validation Loss: 0.02053325 Validation Accuracy: 99.2900%\n",
            "\n"
          ],
          "name": "stdout"
        },
        {
          "output_type": "stream",
          "text": [
            "Epoch: 34, Batch Id: 468 Training Loss: 0.05660807 Training Accuracy: 98.9167%: 100%|██████████| 469/469 [00:11<00:00, 39.27it/s]\n",
            "  0%|          | 0/469 [00:00<?, ?it/s]"
          ],
          "name": "stderr"
        },
        {
          "output_type": "stream",
          "text": [
            "\n",
            "Epoch:34 -- Test Set, Validation Loss: 0.02091203 Validation Accuracy: 99.3100%\n",
            "\n"
          ],
          "name": "stdout"
        },
        {
          "output_type": "stream",
          "text": [
            "Epoch: 35, Batch Id: 468 Training Loss: 0.05841777 Training Accuracy: 98.9350%: 100%|██████████| 469/469 [00:11<00:00, 40.43it/s]\n",
            "  0%|          | 0/469 [00:00<?, ?it/s]"
          ],
          "name": "stderr"
        },
        {
          "output_type": "stream",
          "text": [
            "\n",
            "Epoch:35 -- Test Set, Validation Loss: 0.01931432 Validation Accuracy: 99.3600%\n",
            "\n"
          ],
          "name": "stdout"
        },
        {
          "output_type": "stream",
          "text": [
            "Epoch: 36, Batch Id: 468 Training Loss: 0.00645723 Training Accuracy: 98.9233%: 100%|██████████| 469/469 [00:11<00:00, 39.22it/s]\n",
            "  0%|          | 0/469 [00:00<?, ?it/s]"
          ],
          "name": "stderr"
        },
        {
          "output_type": "stream",
          "text": [
            "\n",
            "Epoch:36 -- Test Set, Validation Loss: 0.02080775 Validation Accuracy: 99.2900%\n",
            "\n"
          ],
          "name": "stdout"
        },
        {
          "output_type": "stream",
          "text": [
            "Epoch: 37, Batch Id: 468 Training Loss: 0.04155359 Training Accuracy: 98.9633%: 100%|██████████| 469/469 [00:11<00:00, 40.45it/s]\n",
            "  0%|          | 0/469 [00:00<?, ?it/s]"
          ],
          "name": "stderr"
        },
        {
          "output_type": "stream",
          "text": [
            "\n",
            "Epoch:37 -- Test Set, Validation Loss: 0.02106235 Validation Accuracy: 99.2800%\n",
            "\n"
          ],
          "name": "stdout"
        },
        {
          "output_type": "stream",
          "text": [
            "Epoch: 38, Batch Id: 468 Training Loss: 0.04127234 Training Accuracy: 99.0100%: 100%|██████████| 469/469 [00:11<00:00, 41.13it/s]\n",
            "  0%|          | 0/469 [00:00<?, ?it/s]"
          ],
          "name": "stderr"
        },
        {
          "output_type": "stream",
          "text": [
            "\n",
            "Epoch:38 -- Test Set, Validation Loss: 0.01875655 Validation Accuracy: 99.3700%\n",
            "\n"
          ],
          "name": "stdout"
        },
        {
          "output_type": "stream",
          "text": [
            "Epoch: 39, Batch Id: 468 Training Loss: 0.01210714 Training Accuracy: 98.9183%: 100%|██████████| 469/469 [00:11<00:00, 39.44it/s]\n",
            "  0%|          | 0/469 [00:00<?, ?it/s]"
          ],
          "name": "stderr"
        },
        {
          "output_type": "stream",
          "text": [
            "\n",
            "Epoch:39 -- Test Set, Validation Loss: 0.02008784 Validation Accuracy: 99.3300%\n",
            "\n"
          ],
          "name": "stdout"
        },
        {
          "output_type": "stream",
          "text": [
            "Epoch: 40, Batch Id: 468 Training Loss: 0.02884753 Training Accuracy: 98.9917%: 100%|██████████| 469/469 [00:11<00:00, 39.86it/s]\n"
          ],
          "name": "stderr"
        },
        {
          "output_type": "stream",
          "text": [
            "\n",
            "Epoch:40 -- Test Set, Validation Loss: 0.01906630 Validation Accuracy: 99.3700%\n",
            "\n"
          ],
          "name": "stdout"
        },
        {
          "output_type": "display_data",
          "data": {
            "image/png": "[encoded data removed]",
            "text/plain": [
              "<Figure size 432x288 with 1 Axes>"
            ]
          },
          "metadata": {
            "tags": []
          }
        },
        {
          "output_type": "display_data",
          "data": {
            "image/png": "[encoded data removed]",
            "text/plain": [
              "<Figure size 432x288 with 1 Axes>"
            ]
          },
          "metadata": {
            "tags": []
          }
        },
        {
          "output_type": "execute_result",
          "data": {
            "text/plain": [
              "[([71.37666666666667,\n",
              "   94.39833333333333,\n",
              "   96.26333333333334,\n",
              "   96.92,\n",
              "   97.22,\n",
              "   97.66666666666667,\n",
              "   97.81,\n",
              "   97.825,\n",
              "   98.02666666666667,\n",
              "   98.135,\n",
              "   98.26333333333334,\n",
              "   98.315,\n",
              "   98.37166666666667,\n",
              "   98.33833333333334,\n",
              "   98.515,\n",
              "   98.49166666666666,\n",
              "   98.60333333333334,\n",
              "   98.52,\n",
              "   98.565,\n",
              "   98.58,\n",
              "   98.7,\n",
              "   98.67166666666667,\n",
              "   98.69666666666667,\n",
              "   98.745,\n",
              "   98.78,\n",
              "   98.77833333333334,\n",
              "   98.71833333333333,\n",
              "   98.81333333333333,\n",
              "   98.84666666666666,\n",
              "   98.87333333333333,\n",
              "   98.91166666666666,\n",
              "   98.84166666666667,\n",
              "   98.87833333333333,\n",
              "   98.91666666666667,\n",
              "   98.935,\n",
              "   98.92333333333333,\n",
              "   98.96333333333334,\n",
              "   99.01,\n",
              "   98.91833333333334,\n",
              "   98.99166666666666],\n",
              "  [0.2992061376571655,\n",
              "   0.22496972978115082,\n",
              "   0.12062474340200424,\n",
              "   0.1348012387752533,\n",
              "   0.1036771610379219,\n",
              "   0.05296434089541435,\n",
              "   0.08033015578985214,\n",
              "   0.0791609063744545,\n",
              "   0.11400362849235535,\n",
              "   0.04342610016465187,\n",
              "   0.031143860891461372,\n",
              "   0.07987575232982635,\n",
              "   0.08279308676719666,\n",
              "   0.07206008583307266,\n",
              "   0.10939767956733704,\n",
              "   0.021395983174443245,\n",
              "   0.09867233783006668,\n",
              "   0.00912246573716402,\n",
              "   0.08359187096357346,\n",
              "   0.05451955273747444,\n",
              "   0.016328731551766396,\n",
              "   0.028037382289767265,\n",
              "   0.0511024110019207,\n",
              "   0.04267565906047821,\n",
              "   0.04863535240292549,\n",
              "   0.013991554267704487,\n",
              "   0.009058927185833454,\n",
              "   0.1085992082953453,\n",
              "   0.049015358090400696,\n",
              "   0.06035270169377327,\n",
              "   0.011900166980922222,\n",
              "   0.02347675897181034,\n",
              "   0.03993196785449982,\n",
              "   0.05660806968808174,\n",
              "   0.05841776728630066,\n",
              "   0.006457234267145395,\n",
              "   0.04155359044671059,\n",
              "   0.04127233847975731,\n",
              "   0.012107138521969318,\n",
              "   0.028847530484199524]),\n",
              " ([96.59,\n",
              "   98.06,\n",
              "   98.33,\n",
              "   98.74,\n",
              "   98.43,\n",
              "   98.87,\n",
              "   98.9,\n",
              "   99.01,\n",
              "   99.03,\n",
              "   99.11,\n",
              "   99.16,\n",
              "   99.08,\n",
              "   99.24,\n",
              "   99.23,\n",
              "   99.32,\n",
              "   99.33,\n",
              "   99.27,\n",
              "   99.3,\n",
              "   99.3,\n",
              "   99.23,\n",
              "   99.23,\n",
              "   99.23,\n",
              "   99.19,\n",
              "   99.29,\n",
              "   99.28,\n",
              "   99.21,\n",
              "   99.36,\n",
              "   99.37,\n",
              "   99.41,\n",
              "   99.37,\n",
              "   99.4,\n",
              "   99.37,\n",
              "   99.29,\n",
              "   99.31,\n",
              "   99.36,\n",
              "   99.29,\n",
              "   99.28,\n",
              "   99.37,\n",
              "   99.33,\n",
              "   99.37],\n",
              "  [0.19481680245399474,\n",
              "   0.0871779550075531,\n",
              "   0.061318584966659546,\n",
              "   0.04357376337051391,\n",
              "   0.05084939053058624,\n",
              "   0.038200864934921266,\n",
              "   0.036221897292137144,\n",
              "   0.03248186070919037,\n",
              "   0.03202431147098541,\n",
              "   0.029108489346504212,\n",
              "   0.02856491765975952,\n",
              "   0.02695080542564392,\n",
              "   0.0243178297996521,\n",
              "   0.023968470048904417,\n",
              "   0.02384968855381012,\n",
              "   0.022618129968643187,\n",
              "   0.02274315972328186,\n",
              "   0.022368439221382142,\n",
              "   0.023376126289367676,\n",
              "   0.022804529857635498,\n",
              "   0.022548264575004577,\n",
              "   0.02312301797866821,\n",
              "   0.022875753569602968,\n",
              "   0.021387158012390137,\n",
              "   0.021067253828048707,\n",
              "   0.022764673829078673,\n",
              "   0.020312096905708312,\n",
              "   0.0203151713848114,\n",
              "   0.019378222465515137,\n",
              "   0.02026971402168274,\n",
              "   0.01891306049823761,\n",
              "   0.019030816793441773,\n",
              "   0.020533252549171446,\n",
              "   0.020912027549743653,\n",
              "   0.019314319705963135,\n",
              "   0.02080775227546692,\n",
              "   0.021062345933914185,\n",
              "   0.018756550550460816,\n",
              "   0.02008784067630768,\n",
              "   0.01906630160808563])]"
            ]
          },
          "metadata": {
            "tags": []
          },
          "execution_count": 24
        }
      ]
    }
  ]
}