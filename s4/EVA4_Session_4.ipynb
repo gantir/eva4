{
  "nbformat": 4,
  "nbformat_minor": 0,
  "metadata": {
    "colab": {
      "name": "EVA4_Session_4.ipynb",
      "provenance": [],
      "collapsed_sections": [],
      "include_colab_link": true
    },
    "kernelspec": {
      "name": "python3",
      "display_name": "Python 3"
    },
    "accelerator": "GPU"
  },
  "cells": [
    {
      "cell_type": "markdown",
      "metadata": {
        "id": "view-in-github",
        "colab_type": "text"
      },
      "source": [
        "<a href=\"https://colab.research.google.com/github/gantir/eva4/blob/develop/s4/EVA4_Session_4.ipynb\" target=\"_parent\"><img src=\"https://colab.research.google.com/assets/colab-badge.svg\" alt=\"Open In Colab\"/></a>"
      ]
    },
    {
      "cell_type": "code",
      "metadata": {
        "id": "0m2JWFliFfKT",
        "colab_type": "code",
        "colab": {}
      },
      "source": [
        "from __future__ import print_function\n",
        "import torch\n",
        "import torch.nn as nn\n",
        "import torch.nn.functional as F\n",
        "import torch.optim as optim\n",
        "from torchvision import datasets, transforms\n",
        "\n",
        "from matplotlib import pyplot as plt\n",
        "from tqdm import tqdm\n",
        "import numpy as np"
      ],
      "execution_count": 0,
      "outputs": []
    },
    {
      "cell_type": "code",
      "metadata": {
        "id": "ZbB1f-juhZvk",
        "colab_type": "code",
        "outputId": "9754a6c9-a3cd-418e-efb3-cbed1d57813a",
        "colab": {
          "base_uri": "https://localhost:8080/",
          "height": 34
        }
      },
      "source": [
        "!pip install torchsummary\n",
        "from torchsummary import summary\n",
        "use_cuda = torch.cuda.is_available()\n",
        "device = torch.device(\"cuda\" if use_cuda else \"cpu\")\n"
      ],
      "execution_count": 14,
      "outputs": [
        {
          "output_type": "stream",
          "text": [
            "Requirement already satisfied: torchsummary in /usr/local/lib/python3.6/dist-packages (1.5.1)\n"
          ],
          "name": "stdout"
        }
      ]
    },
    {
      "cell_type": "code",
      "metadata": {
        "id": "8fDefDhaFlwH",
        "colab_type": "code",
        "colab": {}
      },
      "source": [
        "from tqdm import tqdm\n",
        "def train(model, device, train_loader, optimizer, epoch):\n",
        "    model.train()\n",
        "    train_loss = 0\n",
        "    train_correct = 0\n",
        "    train_acc = 0\n",
        "    pbar = tqdm(train_loader)\n",
        "    for batch_idx, (data, target) in enumerate(pbar):\n",
        "        data, target = data.to(device), target.to(device)\n",
        "        optimizer.zero_grad()\n",
        "        output = model(data)\n",
        "        loss = F.nll_loss(output, target)\n",
        "        \n",
        "        pred_train = output.argmax(dim=1, keepdim=True)\n",
        "        train_correct += pred_train.eq(target.view_as(pred_train)).sum().item()\n",
        "\n",
        "        loss.backward()\n",
        "        optimizer.step()\n",
        "        \n",
        "        train_loss = loss.item()\n",
        "        train_acc = 100. * train_correct / len(train_loader.dataset)\n",
        "\n",
        "        output_message = 'Epoch: {}, Batch Id: {} Training Loss: {:.8f} Training Accuracy: {:.4f}%'.format(epoch, batch_idx, train_loss,train_acc)\n",
        "        pbar.set_description(desc= output_message)\n",
        "\n",
        "    return train_acc, train_loss\n",
        "\n",
        "def test(model, device, test_loader, epoch=1):\n",
        "    model.eval()\n",
        "    test_loss = 0\n",
        "    correct = 0\n",
        "    test_acc = 0\n",
        "    with torch.no_grad():\n",
        "        for data, target in test_loader:\n",
        "            data, target = data.to(device), target.to(device)\n",
        "            output = model(data)\n",
        "            test_loss += F.nll_loss(output, target, reduction='sum').item()  # sum up batch loss\n",
        "            pred = output.argmax(dim=1, keepdim=True)  # get the index of the max log-probability\n",
        "            correct += pred.eq(target.view_as(pred)).sum().item()\n",
        "\n",
        "    test_loss /= len(test_loader.dataset)\n",
        "    \n",
        "    test_acc = 100. * correct / len(test_loader.dataset)\n",
        "    \n",
        "    output_message = '\\nEpoch:{} -- Test Set, Validation Loss: {:.8f} Validation Accuracy: {:.4f}%\\n'.format(epoch,test_loss,test_acc)\n",
        "    print(output_message)\n",
        "\n",
        "    return test_acc, test_loss"
      ],
      "execution_count": 0,
      "outputs": []
    },
    {
      "cell_type": "code",
      "metadata": {
        "id": "7RqvpEAf-Lcp",
        "colab_type": "code",
        "colab": {}
      },
      "source": [
        "def plot_accuracy(train_history, val_history):\n",
        "  _= plt.plot(train_history)\n",
        "  _= plt.plot(val_history)\n",
        "  _= plt.title('model accuracy')\n",
        "  _= plt.ylabel('accuracy')\n",
        "  _= plt.xlabel('epoch')\n",
        "  _= plt.legend(['train', 'val'], loc='upper left')\n",
        "  _= plt.show()\n",
        "\n",
        "def plot_loss(train_history, val_history):\n",
        "  _= plt.plot(train_history)\n",
        "  _= plt.plot(val_history)\n",
        "  _= plt.title('model loss')\n",
        "  _= plt.ylabel('loss')\n",
        "  _= plt.xlabel('epoch')\n",
        "  _= plt.legend(['train', 'val'], loc='upper left')\n",
        "  _= plt.show()"
      ],
      "execution_count": 0,
      "outputs": []
    },
    {
      "cell_type": "code",
      "metadata": {
        "id": "DqTWLaM5GHgH",
        "colab_type": "code",
        "colab": {}
      },
      "source": [
        "torch.manual_seed(42)\n",
        "batch_size = 128\n",
        "\n",
        "kwargs = {'num_workers': 1, 'pin_memory': True} if use_cuda else {}\n",
        "train_loader = torch.utils.data.DataLoader(\n",
        "    datasets.MNIST('../data', train=True, download=True,\n",
        "                    transform=transforms.Compose([\n",
        "                        transforms.ToTensor(),\n",
        "                        transforms.Normalize((0.1307,), (0.3081,))\n",
        "                    ])),\n",
        "    batch_size=batch_size, shuffle=True, **kwargs)\n",
        "\n",
        "test_loader = torch.utils.data.DataLoader(\n",
        "    datasets.MNIST('../data', train=False, transform=transforms.Compose([\n",
        "                        transforms.ToTensor(),\n",
        "                        transforms.Normalize((0.1307,), (0.3081,))\n",
        "                    ])),\n",
        "    batch_size=batch_size, shuffle=True, **kwargs)\n"
      ],
      "execution_count": 0,
      "outputs": []
    },
    {
      "cell_type": "code",
      "metadata": {
        "id": "jodh9fPfX-Vn",
        "colab_type": "code",
        "colab": {}
      },
      "source": [
        "def train_n_test(model, optimizer, device, train_data_loader, test_data_loader, num_epochs=10):\n",
        "  train_acc_history = []\n",
        "  train_loss_history = []\n",
        "  val_acc_history = []\n",
        "  val_loss_history = []\n",
        "\n",
        "  for epoch in range(1, num_epochs+1):\n",
        "      train_acc, train_loss = train(model, device, train_data_loader, optimizer, epoch)\n",
        "      train_acc_history.append(train_acc)\n",
        "      train_loss_history.append(train_loss)\n",
        "\n",
        "      val_acc, val_loss = test(model, device, test_data_loader, epoch)\n",
        "      val_acc_history.append(val_acc)\n",
        "      val_loss_history.append(val_loss)\n",
        "\n",
        "  plot_accuracy(train_acc_history, val_acc_history)\n",
        "  plot_loss(train_loss_history, val_loss_history)\n",
        "\n",
        "  return ([(train_acc_history, train_loss_history),(val_acc_history, val_loss_history)])"
      ],
      "execution_count": 0,
      "outputs": []
    },
    {
      "cell_type": "code",
      "metadata": {
        "id": "h_Cx9q2QFgM7",
        "colab_type": "code",
        "colab": {}
      },
      "source": [
        "class Net1(nn.Module):\n",
        "    def __init__(self):\n",
        "        super(Net1, self).__init__()\n",
        "        self.conv1 = nn.Conv2d(1, 8, 3, bias=False) #input -28*28*1 output: 26*26*8 RF: 3*3\n",
        "        self.conv2 = nn.Conv2d(8, 8, 3, bias=False) #input -26*26*8 output: 24*24*8 RF: 5*5\n",
        "        self.conv3 = nn.Conv2d(8, 16, 3, bias=False) #input -24*24*8 output: 22*22*16 RF: 7*7\n",
        "        self.pool1 = nn.MaxPool2d(2, 2) #input - 22*22*16 output: 11*11*16 RF: 8*8\n",
        "\n",
        "        self.conv4 = nn.Conv2d(16, 16, 3, bias=False) #input -11*11*16 output: 9*9*16 LRF: 3*3 GRF: 12*12\n",
        "        self.conv5 = nn.Conv2d(16, 16, 3, bias=False) #input -9*9*16 output: 7*7*16 LRF: 5*5 GRF: 16*16\n",
        "        \n",
        "        self.conv6 = nn.Conv2d(16, 10, 1, bias=False) #input -7*7*16 output: 7*7*10 LRF: 5*5 GRF: 16*16\n",
        "        self.gap = nn.AvgPool2d(kernel_size=7) #input -7*7*10 output: 1*1*10\n",
        "\n",
        "    def forward(self, x):\n",
        "        x = F.relu(self.conv1(x))\n",
        "        x = F.relu(self.conv3(F.relu(self.conv2(x))))\n",
        "        x = self.pool1(x)\n",
        "        x = F.relu(self.conv5(F.relu(self.conv4(x))))\n",
        "        x = self.gap(self.conv6(x)) #No activation on conv before last later\n",
        "        x = x.view(-1, 10)\n",
        "        return F.log_softmax(x, dim=1)"
      ],
      "execution_count": 0,
      "outputs": []
    },
    {
      "cell_type": "code",
      "metadata": {
        "colab_type": "code",
        "id": "xdydjYTZFyi3",
        "outputId": "aee41ba9-1cc7-4311-ff9f-3b8ebc73d282",
        "colab": {
          "base_uri": "https://localhost:8080/",
          "height": 382
        }
      },
      "source": [
        "model1 = Net1().to(device)\n",
        "summary(model1, input_size=(1, 28, 28))"
      ],
      "execution_count": 20,
      "outputs": [
        {
          "output_type": "stream",
          "text": [
            "----------------------------------------------------------------\n",
            "        Layer (type)               Output Shape         Param #\n",
            "================================================================\n",
            "            Conv2d-1            [-1, 8, 26, 26]              72\n",
            "            Conv2d-2            [-1, 8, 24, 24]             576\n",
            "            Conv2d-3           [-1, 16, 22, 22]           1,152\n",
            "         MaxPool2d-4           [-1, 16, 11, 11]               0\n",
            "            Conv2d-5             [-1, 16, 9, 9]           2,304\n",
            "            Conv2d-6             [-1, 16, 7, 7]           2,304\n",
            "            Conv2d-7             [-1, 10, 7, 7]             160\n",
            "         AvgPool2d-8             [-1, 10, 1, 1]               0\n",
            "================================================================\n",
            "Total params: 6,568\n",
            "Trainable params: 6,568\n",
            "Non-trainable params: 0\n",
            "----------------------------------------------------------------\n",
            "Input size (MB): 0.00\n",
            "Forward/backward pass size (MB): 0.17\n",
            "Params size (MB): 0.03\n",
            "Estimated Total Size (MB): 0.20\n",
            "----------------------------------------------------------------\n"
          ],
          "name": "stdout"
        }
      ]
    },
    {
      "cell_type": "code",
      "metadata": {
        "id": "MMWbLWO6FuHb",
        "colab_type": "code",
        "colab": {
          "base_uri": "https://localhost:8080/",
          "height": 1000
        },
        "outputId": "95802fb9-9f0b-48fa-9674-1486a676796e"
      },
      "source": [
        "optimizer1 = optim.SGD(model1.parameters(), lr=0.01, momentum=0.9)\n",
        "train_n_test(model1, optimizer1, device, train_loader, test_loader, 20)"
      ],
      "execution_count": 21,
      "outputs": [
        {
          "output_type": "stream",
          "text": [
            "Epoch: 1, Batch Id: 468 Training Loss: 0.41632095 Training Accuracy: 37.2250%: 100%|██████████| 469/469 [00:11<00:00, 39.19it/s]\n",
            "  0%|          | 0/469 [00:00<?, ?it/s]"
          ],
          "name": "stderr"
        },
        {
          "output_type": "stream",
          "text": [
            "\n",
            "Epoch:1 -- Test Set, Validation Loss: 0.47420193 Validation Accuracy: 85.2900%\n",
            "\n"
          ],
          "name": "stdout"
        },
        {
          "output_type": "stream",
          "text": [
            "Epoch: 2, Batch Id: 468 Training Loss: 0.27156687 Training Accuracy: 88.9000%: 100%|██████████| 469/469 [00:11<00:00, 42.16it/s]\n",
            "  0%|          | 0/469 [00:00<?, ?it/s]"
          ],
          "name": "stderr"
        },
        {
          "output_type": "stream",
          "text": [
            "\n",
            "Epoch:2 -- Test Set, Validation Loss: 0.28176117 Validation Accuracy: 90.7000%\n",
            "\n"
          ],
          "name": "stdout"
        },
        {
          "output_type": "stream",
          "text": [
            "Epoch: 3, Batch Id: 468 Training Loss: 0.15725338 Training Accuracy: 93.0433%: 100%|██████████| 469/469 [00:11<00:00, 41.32it/s]\n",
            "  0%|          | 0/469 [00:00<?, ?it/s]"
          ],
          "name": "stderr"
        },
        {
          "output_type": "stream",
          "text": [
            "\n",
            "Epoch:3 -- Test Set, Validation Loss: 0.16359772 Validation Accuracy: 95.0300%\n",
            "\n"
          ],
          "name": "stdout"
        },
        {
          "output_type": "stream",
          "text": [
            "Epoch: 4, Batch Id: 468 Training Loss: 0.10170852 Training Accuracy: 94.5950%: 100%|██████████| 469/469 [00:11<00:00, 42.07it/s]\n",
            "  0%|          | 0/469 [00:00<?, ?it/s]"
          ],
          "name": "stderr"
        },
        {
          "output_type": "stream",
          "text": [
            "\n",
            "Epoch:4 -- Test Set, Validation Loss: 0.13504305 Validation Accuracy: 95.9100%\n",
            "\n"
          ],
          "name": "stdout"
        },
        {
          "output_type": "stream",
          "text": [
            "Epoch: 5, Batch Id: 468 Training Loss: 0.16310100 Training Accuracy: 95.5517%: 100%|██████████| 469/469 [00:11<00:00, 41.72it/s]\n",
            "  0%|          | 0/469 [00:00<?, ?it/s]"
          ],
          "name": "stderr"
        },
        {
          "output_type": "stream",
          "text": [
            "\n",
            "Epoch:5 -- Test Set, Validation Loss: 0.13880270 Validation Accuracy: 95.7200%\n",
            "\n"
          ],
          "name": "stdout"
        },
        {
          "output_type": "stream",
          "text": [
            "Epoch: 6, Batch Id: 468 Training Loss: 0.07513386 Training Accuracy: 96.2383%: 100%|██████████| 469/469 [00:11<00:00, 41.50it/s]\n",
            "  0%|          | 0/469 [00:00<?, ?it/s]"
          ],
          "name": "stderr"
        },
        {
          "output_type": "stream",
          "text": [
            "\n",
            "Epoch:6 -- Test Set, Validation Loss: 0.09214761 Validation Accuracy: 97.1000%\n",
            "\n"
          ],
          "name": "stdout"
        },
        {
          "output_type": "stream",
          "text": [
            "Epoch: 7, Batch Id: 468 Training Loss: 0.01359986 Training Accuracy: 96.6783%: 100%|██████████| 469/469 [00:11<00:00, 42.94it/s]\n",
            "  0%|          | 0/469 [00:00<?, ?it/s]"
          ],
          "name": "stderr"
        },
        {
          "output_type": "stream",
          "text": [
            "\n",
            "Epoch:7 -- Test Set, Validation Loss: 0.09999667 Validation Accuracy: 97.0300%\n",
            "\n"
          ],
          "name": "stdout"
        },
        {
          "output_type": "stream",
          "text": [
            "Epoch: 8, Batch Id: 468 Training Loss: 0.16132104 Training Accuracy: 97.0200%: 100%|██████████| 469/469 [00:11<00:00, 43.22it/s]\n",
            "  0%|          | 0/469 [00:00<?, ?it/s]"
          ],
          "name": "stderr"
        },
        {
          "output_type": "stream",
          "text": [
            "\n",
            "Epoch:8 -- Test Set, Validation Loss: 0.08649243 Validation Accuracy: 97.2200%\n",
            "\n"
          ],
          "name": "stdout"
        },
        {
          "output_type": "stream",
          "text": [
            "Epoch: 9, Batch Id: 468 Training Loss: 0.06885821 Training Accuracy: 97.3300%: 100%|██████████| 469/469 [00:11<00:00, 42.54it/s]\n",
            "  0%|          | 0/469 [00:00<?, ?it/s]"
          ],
          "name": "stderr"
        },
        {
          "output_type": "stream",
          "text": [
            "\n",
            "Epoch:9 -- Test Set, Validation Loss: 0.06494516 Validation Accuracy: 97.8200%\n",
            "\n"
          ],
          "name": "stdout"
        },
        {
          "output_type": "stream",
          "text": [
            "Epoch: 10, Batch Id: 468 Training Loss: 0.04464694 Training Accuracy: 97.5250%: 100%|██████████| 469/469 [00:11<00:00, 41.33it/s]\n",
            "  0%|          | 0/469 [00:00<?, ?it/s]"
          ],
          "name": "stderr"
        },
        {
          "output_type": "stream",
          "text": [
            "\n",
            "Epoch:10 -- Test Set, Validation Loss: 0.06197780 Validation Accuracy: 98.0300%\n",
            "\n"
          ],
          "name": "stdout"
        },
        {
          "output_type": "stream",
          "text": [
            "Epoch: 11, Batch Id: 468 Training Loss: 0.05051826 Training Accuracy: 97.7417%: 100%|██████████| 469/469 [00:10<00:00, 42.85it/s]\n",
            "  0%|          | 0/469 [00:00<?, ?it/s]"
          ],
          "name": "stderr"
        },
        {
          "output_type": "stream",
          "text": [
            "\n",
            "Epoch:11 -- Test Set, Validation Loss: 0.08944729 Validation Accuracy: 97.0800%\n",
            "\n"
          ],
          "name": "stdout"
        },
        {
          "output_type": "stream",
          "text": [
            "Epoch: 12, Batch Id: 468 Training Loss: 0.11391610 Training Accuracy: 97.8900%: 100%|██████████| 469/469 [00:11<00:00, 40.52it/s]\n",
            "  0%|          | 0/469 [00:00<?, ?it/s]"
          ],
          "name": "stderr"
        },
        {
          "output_type": "stream",
          "text": [
            "\n",
            "Epoch:12 -- Test Set, Validation Loss: 0.05927244 Validation Accuracy: 98.2000%\n",
            "\n"
          ],
          "name": "stdout"
        },
        {
          "output_type": "stream",
          "text": [
            "Epoch: 13, Batch Id: 468 Training Loss: 0.00962711 Training Accuracy: 98.0333%: 100%|██████████| 469/469 [00:11<00:00, 41.22it/s]\n",
            "  0%|          | 0/469 [00:00<?, ?it/s]"
          ],
          "name": "stderr"
        },
        {
          "output_type": "stream",
          "text": [
            "\n",
            "Epoch:13 -- Test Set, Validation Loss: 0.06214849 Validation Accuracy: 98.1000%\n",
            "\n"
          ],
          "name": "stdout"
        },
        {
          "output_type": "stream",
          "text": [
            "Epoch: 14, Batch Id: 468 Training Loss: 0.11323262 Training Accuracy: 98.0883%: 100%|██████████| 469/469 [00:11<00:00, 42.02it/s]\n",
            "  0%|          | 0/469 [00:00<?, ?it/s]"
          ],
          "name": "stderr"
        },
        {
          "output_type": "stream",
          "text": [
            "\n",
            "Epoch:14 -- Test Set, Validation Loss: 0.05760995 Validation Accuracy: 98.3300%\n",
            "\n"
          ],
          "name": "stdout"
        },
        {
          "output_type": "stream",
          "text": [
            "Epoch: 15, Batch Id: 468 Training Loss: 0.18664806 Training Accuracy: 98.0850%: 100%|██████████| 469/469 [00:11<00:00, 41.39it/s]\n",
            "  0%|          | 0/469 [00:00<?, ?it/s]"
          ],
          "name": "stderr"
        },
        {
          "output_type": "stream",
          "text": [
            "\n",
            "Epoch:15 -- Test Set, Validation Loss: 0.05770482 Validation Accuracy: 98.2600%\n",
            "\n"
          ],
          "name": "stdout"
        },
        {
          "output_type": "stream",
          "text": [
            "Epoch: 16, Batch Id: 468 Training Loss: 0.02747373 Training Accuracy: 98.2417%: 100%|██████████| 469/469 [00:11<00:00, 42.42it/s]\n",
            "  0%|          | 0/469 [00:00<?, ?it/s]"
          ],
          "name": "stderr"
        },
        {
          "output_type": "stream",
          "text": [
            "\n",
            "Epoch:16 -- Test Set, Validation Loss: 0.07248142 Validation Accuracy: 97.8900%\n",
            "\n"
          ],
          "name": "stdout"
        },
        {
          "output_type": "stream",
          "text": [
            "Epoch: 17, Batch Id: 468 Training Loss: 0.05199903 Training Accuracy: 98.2700%: 100%|██████████| 469/469 [00:11<00:00, 40.92it/s]\n",
            "  0%|          | 0/469 [00:00<?, ?it/s]"
          ],
          "name": "stderr"
        },
        {
          "output_type": "stream",
          "text": [
            "\n",
            "Epoch:17 -- Test Set, Validation Loss: 0.05313739 Validation Accuracy: 98.3700%\n",
            "\n"
          ],
          "name": "stdout"
        },
        {
          "output_type": "stream",
          "text": [
            "Epoch: 18, Batch Id: 468 Training Loss: 0.11815213 Training Accuracy: 98.3133%: 100%|██████████| 469/469 [00:11<00:00, 41.70it/s]\n",
            "  0%|          | 0/469 [00:00<?, ?it/s]"
          ],
          "name": "stderr"
        },
        {
          "output_type": "stream",
          "text": [
            "\n",
            "Epoch:18 -- Test Set, Validation Loss: 0.05553997 Validation Accuracy: 98.3700%\n",
            "\n"
          ],
          "name": "stdout"
        },
        {
          "output_type": "stream",
          "text": [
            "Epoch: 19, Batch Id: 468 Training Loss: 0.02941542 Training Accuracy: 98.4583%: 100%|██████████| 469/469 [00:11<00:00, 41.31it/s]\n",
            "  0%|          | 0/469 [00:00<?, ?it/s]"
          ],
          "name": "stderr"
        },
        {
          "output_type": "stream",
          "text": [
            "\n",
            "Epoch:19 -- Test Set, Validation Loss: 0.05530357 Validation Accuracy: 98.2500%\n",
            "\n"
          ],
          "name": "stdout"
        },
        {
          "output_type": "stream",
          "text": [
            "Epoch: 20, Batch Id: 468 Training Loss: 0.00703501 Training Accuracy: 98.5150%: 100%|██████████| 469/469 [00:11<00:00, 41.30it/s]\n"
          ],
          "name": "stderr"
        },
        {
          "output_type": "stream",
          "text": [
            "\n",
            "Epoch:20 -- Test Set, Validation Loss: 0.05303875 Validation Accuracy: 98.4500%\n",
            "\n"
          ],
          "name": "stdout"
        },
        {
          "output_type": "display_data",
          "data": {
            "image/png": "[encoded data removed]",
            "text/plain": [
              "<Figure size 432x288 with 1 Axes>"
            ]
          },
          "metadata": {
            "tags": []
          }
        },
        {
          "output_type": "display_data",
          "data": {
            "image/png": "[encoded data removed]",
            "text/plain": [
              "<Figure size 432x288 with 1 Axes>"
            ]
          },
          "metadata": {
            "tags": []
          }
        },
        {
          "output_type": "execute_result",
          "data": {
            "text/plain": [
              "[([37.225,\n",
              "   88.9,\n",
              "   93.04333333333334,\n",
              "   94.595,\n",
              "   95.55166666666666,\n",
              "   96.23833333333333,\n",
              "   96.67833333333333,\n",
              "   97.02,\n",
              "   97.33,\n",
              "   97.525,\n",
              "   97.74166666666666,\n",
              "   97.89,\n",
              "   98.03333333333333,\n",
              "   98.08833333333334,\n",
              "   98.085,\n",
              "   98.24166666666666,\n",
              "   98.27,\n",
              "   98.31333333333333,\n",
              "   98.45833333333333,\n",
              "   98.515],\n",
              "  [0.41632094979286194,\n",
              "   0.27156686782836914,\n",
              "   0.15725338459014893,\n",
              "   0.10170852392911911,\n",
              "   0.16310100257396698,\n",
              "   0.07513386011123657,\n",
              "   0.013599857687950134,\n",
              "   0.16132104396820068,\n",
              "   0.06885820627212524,\n",
              "   0.044646937400102615,\n",
              "   0.05051825940608978,\n",
              "   0.11391609907150269,\n",
              "   0.009627108462154865,\n",
              "   0.11323262006044388,\n",
              "   0.18664805591106415,\n",
              "   0.027473732829093933,\n",
              "   0.051999032497406006,\n",
              "   0.11815213412046432,\n",
              "   0.029415419325232506,\n",
              "   0.007035011891275644]),\n",
              " ([85.29,\n",
              "   90.7,\n",
              "   95.03,\n",
              "   95.91,\n",
              "   95.72,\n",
              "   97.1,\n",
              "   97.03,\n",
              "   97.22,\n",
              "   97.82,\n",
              "   98.03,\n",
              "   97.08,\n",
              "   98.2,\n",
              "   98.1,\n",
              "   98.33,\n",
              "   98.26,\n",
              "   97.89,\n",
              "   98.37,\n",
              "   98.37,\n",
              "   98.25,\n",
              "   98.45],\n",
              "  [0.4742019278526306,\n",
              "   0.2817611702919006,\n",
              "   0.16359771919250488,\n",
              "   0.13504304895401,\n",
              "   0.1388027009010315,\n",
              "   0.09214760880470275,\n",
              "   0.09999666962623596,\n",
              "   0.08649242925643921,\n",
              "   0.06494516029357911,\n",
              "   0.061977798795700076,\n",
              "   0.08944729089736939,\n",
              "   0.0592724410533905,\n",
              "   0.06214848966598511,\n",
              "   0.05760994954109192,\n",
              "   0.05770482172966004,\n",
              "   0.07248142008781433,\n",
              "   0.05313738751411438,\n",
              "   0.05553996686935425,\n",
              "   0.05530357255935669,\n",
              "   0.05303875343799591])]"
            ]
          },
          "metadata": {
            "tags": []
          },
          "execution_count": 21
        }
      ]
    },
    {
      "cell_type": "code",
      "metadata": {
        "id": "BpWHH-0L_60V",
        "colab_type": "code",
        "colab": {}
      },
      "source": [
        "class Net2(nn.Module):\n",
        "    def __init__(self):\n",
        "        super(Net2, self).__init__()\n",
        "        self.conv1 = nn.Conv2d(1, 16, 3, bias=False) #input -28*28*1 output: 26*26*16 RF: 3*3\n",
        "        self.conv1_bn = nn.BatchNorm2d(16)\n",
        "        self.conv1_drop = nn.Dropout2d(0.03)\n",
        "\n",
        "        self.conv2 = nn.Conv2d(16, 16, 3, bias=False) #input -26*26*16 output: 24*24*16 RF: 5*5\n",
        "        self.conv2_bn = nn.BatchNorm2d(16)\n",
        "        self.conv2_drop = nn.Dropout2d(0.03)\n",
        "        self.conv3 = nn.Conv2d(16, 16, 3, bias=False) #input -24*24*16 output: 22*22*16 RF: 7*7\n",
        "        self.conv3_bn = nn.BatchNorm2d(16)\n",
        "        self.conv3_drop = nn.Dropout2d(0.03)\n",
        "\n",
        "        self.pool1 = nn.MaxPool2d(2, 2) #input - 22*22*16 output: 11*11*16 RF: 8*8\n",
        "        self.conv4 = nn.Conv2d(16, 16, 1, bias=False) #input -11*11*16 output: 9*9*16 LRF: 3*3 GRF: 12*12\n",
        "        self.conv4_bn = nn.BatchNorm2d(16)\n",
        "        self.conv4_drop = nn.Dropout2d(0.03)\n",
        "\n",
        "        self.conv5 = nn.Conv2d(16, 24, 3, bias=False) #input -11*11*16 output: 9*9*24 LRF: 3*3 GRF: 12*12\n",
        "        self.conv5_bn = nn.BatchNorm2d(24)\n",
        "        self.conv5_drop = nn.Dropout2d(0.03)\n",
        "\n",
        "        self.conv6 = nn.Conv2d(24, 24, 3, bias=False) #input -9*9*24 output: 7*7*24 LRF: 5*5 GRF: 16*16\n",
        "        self.conv6_bn = nn.BatchNorm2d(24)\n",
        "        self.conv6_drop = nn.Dropout2d(0.03)\n",
        "\n",
        "        self.conv7 = nn.Conv2d(24, 10, 1, bias=False) #input -7*7*16 output: 7*7*10 LRF: 5*5 GRF: 16*16\n",
        "        self.gap = nn.AvgPool2d(kernel_size=7) #input -7*7*10 output: 1*1*10\n",
        "\n",
        "    def forward(self, x):\n",
        "        x = F.relu(self.conv1_drop(self.conv1_bn(self.conv1(x))))\n",
        "        \n",
        "        x = F.relu(self.conv2_drop(self.conv2_bn(self.conv2(x))))\n",
        "        x = F.relu(self.conv3_drop(self.conv3_bn(self.conv3(x))))\n",
        "\n",
        "        x = self.pool1(x)\n",
        "        x = F.relu(self.conv4_drop(self.conv4_bn(self.conv4(x))))\n",
        "\n",
        "        x = F.relu(self.conv5_drop(self.conv5_bn(self.conv5(x))))\n",
        "        x = F.relu(self.conv6_drop(self.conv6_bn(self.conv6(x))))\n",
        "\n",
        "        x = self.gap(self.conv7(x)) #No activation on conv before last later\n",
        "        x = x.view(-1, 10)\n",
        "        return F.log_softmax(x, dim=1)"
      ],
      "execution_count": 0,
      "outputs": []
    },
    {
      "cell_type": "code",
      "metadata": {
        "id": "So5uk4EkHW6R",
        "colab_type": "code",
        "outputId": "2927c48f-d793-4789-cf6e-ec4a6e4c5e65",
        "colab": {
          "base_uri": "https://localhost:8080/",
          "height": 607
        }
      },
      "source": [
        "model2 = Net2().to(device)\n",
        "summary(model2, input_size=(1, 28, 28))"
      ],
      "execution_count": 23,
      "outputs": [
        {
          "output_type": "stream",
          "text": [
            "----------------------------------------------------------------\n",
            "        Layer (type)               Output Shape         Param #\n",
            "================================================================\n",
            "            Conv2d-1           [-1, 16, 26, 26]             144\n",
            "       BatchNorm2d-2           [-1, 16, 26, 26]              32\n",
            "         Dropout2d-3           [-1, 16, 26, 26]               0\n",
            "            Conv2d-4           [-1, 16, 24, 24]           2,304\n",
            "       BatchNorm2d-5           [-1, 16, 24, 24]              32\n",
            "         Dropout2d-6           [-1, 16, 24, 24]               0\n",
            "            Conv2d-7           [-1, 16, 22, 22]           2,304\n",
            "       BatchNorm2d-8           [-1, 16, 22, 22]              32\n",
            "         Dropout2d-9           [-1, 16, 22, 22]               0\n",
            "        MaxPool2d-10           [-1, 16, 11, 11]               0\n",
            "           Conv2d-11           [-1, 16, 11, 11]             256\n",
            "      BatchNorm2d-12           [-1, 16, 11, 11]              32\n",
            "        Dropout2d-13           [-1, 16, 11, 11]               0\n",
            "           Conv2d-14             [-1, 24, 9, 9]           3,456\n",
            "      BatchNorm2d-15             [-1, 24, 9, 9]              48\n",
            "        Dropout2d-16             [-1, 24, 9, 9]               0\n",
            "           Conv2d-17             [-1, 24, 7, 7]           5,184\n",
            "      BatchNorm2d-18             [-1, 24, 7, 7]              48\n",
            "        Dropout2d-19             [-1, 24, 7, 7]               0\n",
            "           Conv2d-20             [-1, 10, 7, 7]             240\n",
            "        AvgPool2d-21             [-1, 10, 1, 1]               0\n",
            "================================================================\n",
            "Total params: 14,112\n",
            "Trainable params: 14,112\n",
            "Non-trainable params: 0\n",
            "----------------------------------------------------------------\n",
            "Input size (MB): 0.00\n",
            "Forward/backward pass size (MB): 0.77\n",
            "Params size (MB): 0.05\n",
            "Estimated Total Size (MB): 0.83\n",
            "----------------------------------------------------------------\n"
          ],
          "name": "stdout"
        }
      ]
    },
    {
      "cell_type": "code",
      "metadata": {
        "id": "l60FZrpWNxzi",
        "colab_type": "code",
        "outputId": "89ae9e82-5d8f-46a9-ad39-d7fd1b027984",
        "colab": {
          "base_uri": "https://localhost:8080/",
          "height": 1000
        }
      },
      "source": [
        "optimizer2 = optim.SGD(model2.parameters(), lr=0.0001, momentum=0.9)\n",
        "train_n_test(model2, optimizer2, device, train_loader, test_loader, 50)"
      ],
      "execution_count": 25,
      "outputs": [
        {
          "output_type": "stream",
          "text": [
            "Epoch: 1, Batch Id: 468 Training Loss: 0.02682104 Training Accuracy: 99.0283%: 100%|██████████| 469/469 [00:11<00:00, 39.90it/s]\n",
            "  0%|          | 0/469 [00:00<?, ?it/s]"
          ],
          "name": "stderr"
        },
        {
          "output_type": "stream",
          "text": [
            "\n",
            "Epoch:1 -- Test Set, Validation Loss: 0.01929391 Validation Accuracy: 99.3800%\n",
            "\n"
          ],
          "name": "stdout"
        },
        {
          "output_type": "stream",
          "text": [
            "Epoch: 2, Batch Id: 468 Training Loss: 0.04106504 Training Accuracy: 99.0283%: 100%|██████████| 469/469 [00:11<00:00, 40.70it/s]\n",
            "  0%|          | 0/469 [00:00<?, ?it/s]"
          ],
          "name": "stderr"
        },
        {
          "output_type": "stream",
          "text": [
            "\n",
            "Epoch:2 -- Test Set, Validation Loss: 0.01917258 Validation Accuracy: 99.3800%\n",
            "\n"
          ],
          "name": "stdout"
        },
        {
          "output_type": "stream",
          "text": [
            "Epoch: 3, Batch Id: 468 Training Loss: 0.02574796 Training Accuracy: 99.0967%: 100%|██████████| 469/469 [00:11<00:00, 39.39it/s]\n",
            "  0%|          | 0/469 [00:00<?, ?it/s]"
          ],
          "name": "stderr"
        },
        {
          "output_type": "stream",
          "text": [
            "\n",
            "Epoch:3 -- Test Set, Validation Loss: 0.01876959 Validation Accuracy: 99.4300%\n",
            "\n"
          ],
          "name": "stdout"
        },
        {
          "output_type": "stream",
          "text": [
            "Epoch: 4, Batch Id: 468 Training Loss: 0.02946106 Training Accuracy: 99.1300%: 100%|██████████| 469/469 [00:11<00:00, 39.63it/s]\n",
            "  0%|          | 0/469 [00:00<?, ?it/s]"
          ],
          "name": "stderr"
        },
        {
          "output_type": "stream",
          "text": [
            "\n",
            "Epoch:4 -- Test Set, Validation Loss: 0.01858993 Validation Accuracy: 99.4200%\n",
            "\n"
          ],
          "name": "stdout"
        },
        {
          "output_type": "stream",
          "text": [
            "Epoch: 5, Batch Id: 468 Training Loss: 0.03322681 Training Accuracy: 99.1000%: 100%|██████████| 469/469 [00:11<00:00, 39.44it/s]\n",
            "  0%|          | 0/469 [00:00<?, ?it/s]"
          ],
          "name": "stderr"
        },
        {
          "output_type": "stream",
          "text": [
            "\n",
            "Epoch:5 -- Test Set, Validation Loss: 0.01904749 Validation Accuracy: 99.3900%\n",
            "\n"
          ],
          "name": "stdout"
        },
        {
          "output_type": "stream",
          "text": [
            "Epoch: 6, Batch Id: 468 Training Loss: 0.02216925 Training Accuracy: 99.1783%: 100%|██████████| 469/469 [00:11<00:00, 40.53it/s]\n",
            "  0%|          | 0/469 [00:00<?, ?it/s]"
          ],
          "name": "stderr"
        },
        {
          "output_type": "stream",
          "text": [
            "\n",
            "Epoch:6 -- Test Set, Validation Loss: 0.01848888 Validation Accuracy: 99.3800%\n",
            "\n"
          ],
          "name": "stdout"
        },
        {
          "output_type": "stream",
          "text": [
            "Epoch: 7, Batch Id: 468 Training Loss: 0.02363536 Training Accuracy: 99.0917%: 100%|██████████| 469/469 [00:11<00:00, 39.76it/s]\n",
            "  0%|          | 0/469 [00:00<?, ?it/s]"
          ],
          "name": "stderr"
        },
        {
          "output_type": "stream",
          "text": [
            "\n",
            "Epoch:7 -- Test Set, Validation Loss: 0.01815262 Validation Accuracy: 99.4400%\n",
            "\n"
          ],
          "name": "stdout"
        },
        {
          "output_type": "stream",
          "text": [
            "Epoch: 8, Batch Id: 468 Training Loss: 0.04988289 Training Accuracy: 99.0817%: 100%|██████████| 469/469 [00:11<00:00, 40.07it/s]\n",
            "  0%|          | 0/469 [00:00<?, ?it/s]"
          ],
          "name": "stderr"
        },
        {
          "output_type": "stream",
          "text": [
            "\n",
            "Epoch:8 -- Test Set, Validation Loss: 0.01811285 Validation Accuracy: 99.3900%\n",
            "\n"
          ],
          "name": "stdout"
        },
        {
          "output_type": "stream",
          "text": [
            "Epoch: 9, Batch Id: 468 Training Loss: 0.04898034 Training Accuracy: 99.1167%: 100%|██████████| 469/469 [00:11<00:00, 40.66it/s]\n",
            "  0%|          | 0/469 [00:00<?, ?it/s]"
          ],
          "name": "stderr"
        },
        {
          "output_type": "stream",
          "text": [
            "\n",
            "Epoch:9 -- Test Set, Validation Loss: 0.01794744 Validation Accuracy: 99.4400%\n",
            "\n"
          ],
          "name": "stdout"
        },
        {
          "output_type": "stream",
          "text": [
            "Epoch: 10, Batch Id: 468 Training Loss: 0.01639884 Training Accuracy: 99.1583%: 100%|██████████| 469/469 [00:11<00:00, 40.14it/s]\n",
            "  0%|          | 0/469 [00:00<?, ?it/s]"
          ],
          "name": "stderr"
        },
        {
          "output_type": "stream",
          "text": [
            "\n",
            "Epoch:10 -- Test Set, Validation Loss: 0.01780678 Validation Accuracy: 99.4200%\n",
            "\n"
          ],
          "name": "stdout"
        },
        {
          "output_type": "stream",
          "text": [
            "Epoch: 11, Batch Id: 468 Training Loss: 0.01569670 Training Accuracy: 99.1767%: 100%|██████████| 469/469 [00:11<00:00, 40.49it/s]\n",
            "  0%|          | 0/469 [00:00<?, ?it/s]"
          ],
          "name": "stderr"
        },
        {
          "output_type": "stream",
          "text": [
            "\n",
            "Epoch:11 -- Test Set, Validation Loss: 0.01805376 Validation Accuracy: 99.4200%\n",
            "\n"
          ],
          "name": "stdout"
        },
        {
          "output_type": "stream",
          "text": [
            "Epoch: 12, Batch Id: 468 Training Loss: 0.02149885 Training Accuracy: 99.1483%: 100%|██████████| 469/469 [00:12<00:00, 38.64it/s]\n",
            "  0%|          | 0/469 [00:00<?, ?it/s]"
          ],
          "name": "stderr"
        },
        {
          "output_type": "stream",
          "text": [
            "\n",
            "Epoch:12 -- Test Set, Validation Loss: 0.01785740 Validation Accuracy: 99.4100%\n",
            "\n"
          ],
          "name": "stdout"
        },
        {
          "output_type": "stream",
          "text": [
            "Epoch: 13, Batch Id: 468 Training Loss: 0.02749743 Training Accuracy: 99.1367%: 100%|██████████| 469/469 [00:11<00:00, 40.03it/s]\n",
            "  0%|          | 0/469 [00:00<?, ?it/s]"
          ],
          "name": "stderr"
        },
        {
          "output_type": "stream",
          "text": [
            "\n",
            "Epoch:13 -- Test Set, Validation Loss: 0.01791330 Validation Accuracy: 99.4200%\n",
            "\n"
          ],
          "name": "stdout"
        },
        {
          "output_type": "stream",
          "text": [
            "Epoch: 14, Batch Id: 468 Training Loss: 0.00241211 Training Accuracy: 99.1083%: 100%|██████████| 469/469 [00:11<00:00, 39.49it/s]\n",
            "  0%|          | 0/469 [00:00<?, ?it/s]"
          ],
          "name": "stderr"
        },
        {
          "output_type": "stream",
          "text": [
            "\n",
            "Epoch:14 -- Test Set, Validation Loss: 0.01806880 Validation Accuracy: 99.4200%\n",
            "\n"
          ],
          "name": "stdout"
        },
        {
          "output_type": "stream",
          "text": [
            "Epoch: 15, Batch Id: 468 Training Loss: 0.01504309 Training Accuracy: 99.1433%: 100%|██████████| 469/469 [00:11<00:00, 40.48it/s]\n",
            "  0%|          | 0/469 [00:00<?, ?it/s]"
          ],
          "name": "stderr"
        },
        {
          "output_type": "stream",
          "text": [
            "\n",
            "Epoch:15 -- Test Set, Validation Loss: 0.01760518 Validation Accuracy: 99.4300%\n",
            "\n"
          ],
          "name": "stdout"
        },
        {
          "output_type": "stream",
          "text": [
            "Epoch: 16, Batch Id: 468 Training Loss: 0.01233302 Training Accuracy: 99.1783%: 100%|██████████| 469/469 [00:11<00:00, 40.32it/s]\n",
            "  0%|          | 0/469 [00:00<?, ?it/s]"
          ],
          "name": "stderr"
        },
        {
          "output_type": "stream",
          "text": [
            "\n",
            "Epoch:16 -- Test Set, Validation Loss: 0.01749959 Validation Accuracy: 99.4400%\n",
            "\n"
          ],
          "name": "stdout"
        },
        {
          "output_type": "stream",
          "text": [
            "Epoch: 17, Batch Id: 468 Training Loss: 0.01187622 Training Accuracy: 99.1533%: 100%|██████████| 469/469 [00:11<00:00, 40.47it/s]\n",
            "  0%|          | 0/469 [00:00<?, ?it/s]"
          ],
          "name": "stderr"
        },
        {
          "output_type": "stream",
          "text": [
            "\n",
            "Epoch:17 -- Test Set, Validation Loss: 0.01782971 Validation Accuracy: 99.4300%\n",
            "\n"
          ],
          "name": "stdout"
        },
        {
          "output_type": "stream",
          "text": [
            "Epoch: 18, Batch Id: 468 Training Loss: 0.02533402 Training Accuracy: 99.1617%: 100%|██████████| 469/469 [00:11<00:00, 41.25it/s]\n",
            "  0%|          | 0/469 [00:00<?, ?it/s]"
          ],
          "name": "stderr"
        },
        {
          "output_type": "stream",
          "text": [
            "\n",
            "Epoch:18 -- Test Set, Validation Loss: 0.01797702 Validation Accuracy: 99.4200%\n",
            "\n"
          ],
          "name": "stdout"
        },
        {
          "output_type": "stream",
          "text": [
            "Epoch: 19, Batch Id: 468 Training Loss: 0.03178767 Training Accuracy: 99.1533%: 100%|██████████| 469/469 [00:11<00:00, 40.42it/s]\n",
            "  0%|          | 0/469 [00:00<?, ?it/s]"
          ],
          "name": "stderr"
        },
        {
          "output_type": "stream",
          "text": [
            "\n",
            "Epoch:19 -- Test Set, Validation Loss: 0.01758966 Validation Accuracy: 99.4400%\n",
            "\n"
          ],
          "name": "stdout"
        },
        {
          "output_type": "stream",
          "text": [
            "Epoch: 20, Batch Id: 468 Training Loss: 0.02130697 Training Accuracy: 99.1383%: 100%|██████████| 469/469 [00:11<00:00, 40.55it/s]\n",
            "  0%|          | 0/469 [00:00<?, ?it/s]"
          ],
          "name": "stderr"
        },
        {
          "output_type": "stream",
          "text": [
            "\n",
            "Epoch:20 -- Test Set, Validation Loss: 0.01752693 Validation Accuracy: 99.4700%\n",
            "\n"
          ],
          "name": "stdout"
        },
        {
          "output_type": "stream",
          "text": [
            "Epoch: 21, Batch Id: 468 Training Loss: 0.06907514 Training Accuracy: 99.1250%: 100%|██████████| 469/469 [00:11<00:00, 41.62it/s]\n",
            "  0%|          | 0/469 [00:00<?, ?it/s]"
          ],
          "name": "stderr"
        },
        {
          "output_type": "stream",
          "text": [
            "\n",
            "Epoch:21 -- Test Set, Validation Loss: 0.01792162 Validation Accuracy: 99.4500%\n",
            "\n"
          ],
          "name": "stdout"
        },
        {
          "output_type": "stream",
          "text": [
            "Epoch: 22, Batch Id: 468 Training Loss: 0.01510540 Training Accuracy: 99.2117%: 100%|██████████| 469/469 [00:11<00:00, 40.65it/s]\n",
            "  0%|          | 0/469 [00:00<?, ?it/s]"
          ],
          "name": "stderr"
        },
        {
          "output_type": "stream",
          "text": [
            "\n",
            "Epoch:22 -- Test Set, Validation Loss: 0.01748186 Validation Accuracy: 99.4100%\n",
            "\n"
          ],
          "name": "stdout"
        },
        {
          "output_type": "stream",
          "text": [
            "Epoch: 23, Batch Id: 468 Training Loss: 0.00800454 Training Accuracy: 99.1483%: 100%|██████████| 469/469 [00:11<00:00, 40.93it/s]\n",
            "  0%|          | 0/469 [00:00<?, ?it/s]"
          ],
          "name": "stderr"
        },
        {
          "output_type": "stream",
          "text": [
            "\n",
            "Epoch:23 -- Test Set, Validation Loss: 0.01765113 Validation Accuracy: 99.4500%\n",
            "\n"
          ],
          "name": "stdout"
        },
        {
          "output_type": "stream",
          "text": [
            "Epoch: 24, Batch Id: 468 Training Loss: 0.02368645 Training Accuracy: 99.2117%: 100%|██████████| 469/469 [00:11<00:00, 40.92it/s]\n",
            "  0%|          | 0/469 [00:00<?, ?it/s]"
          ],
          "name": "stderr"
        },
        {
          "output_type": "stream",
          "text": [
            "\n",
            "Epoch:24 -- Test Set, Validation Loss: 0.01805521 Validation Accuracy: 99.4200%\n",
            "\n"
          ],
          "name": "stdout"
        },
        {
          "output_type": "stream",
          "text": [
            "Epoch: 25, Batch Id: 468 Training Loss: 0.02461582 Training Accuracy: 99.1883%: 100%|██████████| 469/469 [00:11<00:00, 35.94it/s]\n",
            "  0%|          | 0/469 [00:00<?, ?it/s]"
          ],
          "name": "stderr"
        },
        {
          "output_type": "stream",
          "text": [
            "\n",
            "Epoch:25 -- Test Set, Validation Loss: 0.01802350 Validation Accuracy: 99.4000%\n",
            "\n"
          ],
          "name": "stdout"
        },
        {
          "output_type": "stream",
          "text": [
            "Epoch: 26, Batch Id: 468 Training Loss: 0.05733816 Training Accuracy: 99.1933%: 100%|██████████| 469/469 [00:11<00:00, 41.19it/s]\n",
            "  0%|          | 0/469 [00:00<?, ?it/s]"
          ],
          "name": "stderr"
        },
        {
          "output_type": "stream",
          "text": [
            "\n",
            "Epoch:26 -- Test Set, Validation Loss: 0.01743917 Validation Accuracy: 99.4400%\n",
            "\n"
          ],
          "name": "stdout"
        },
        {
          "output_type": "stream",
          "text": [
            "Epoch: 27, Batch Id: 468 Training Loss: 0.01161257 Training Accuracy: 99.1900%: 100%|██████████| 469/469 [00:12<00:00, 38.99it/s]\n",
            "  0%|          | 0/469 [00:00<?, ?it/s]"
          ],
          "name": "stderr"
        },
        {
          "output_type": "stream",
          "text": [
            "\n",
            "Epoch:27 -- Test Set, Validation Loss: 0.01803126 Validation Accuracy: 99.4000%\n",
            "\n"
          ],
          "name": "stdout"
        },
        {
          "output_type": "stream",
          "text": [
            "Epoch: 28, Batch Id: 468 Training Loss: 0.00594793 Training Accuracy: 99.1967%: 100%|██████████| 469/469 [00:12<00:00, 36.88it/s]\n",
            "  0%|          | 0/469 [00:00<?, ?it/s]"
          ],
          "name": "stderr"
        },
        {
          "output_type": "stream",
          "text": [
            "\n",
            "Epoch:28 -- Test Set, Validation Loss: 0.01767207 Validation Accuracy: 99.4300%\n",
            "\n"
          ],
          "name": "stdout"
        },
        {
          "output_type": "stream",
          "text": [
            "Epoch: 29, Batch Id: 468 Training Loss: 0.09778555 Training Accuracy: 99.1167%: 100%|██████████| 469/469 [00:12<00:00, 38.57it/s]\n",
            "  0%|          | 0/469 [00:00<?, ?it/s]"
          ],
          "name": "stderr"
        },
        {
          "output_type": "stream",
          "text": [
            "\n",
            "Epoch:29 -- Test Set, Validation Loss: 0.01748174 Validation Accuracy: 99.4600%\n",
            "\n"
          ],
          "name": "stdout"
        },
        {
          "output_type": "stream",
          "text": [
            "Epoch: 30, Batch Id: 468 Training Loss: 0.01242117 Training Accuracy: 99.1850%: 100%|██████████| 469/469 [00:12<00:00, 36.87it/s]\n",
            "  0%|          | 0/469 [00:00<?, ?it/s]"
          ],
          "name": "stderr"
        },
        {
          "output_type": "stream",
          "text": [
            "\n",
            "Epoch:30 -- Test Set, Validation Loss: 0.01765626 Validation Accuracy: 99.3800%\n",
            "\n"
          ],
          "name": "stdout"
        },
        {
          "output_type": "stream",
          "text": [
            "Epoch: 31, Batch Id: 468 Training Loss: 0.03278270 Training Accuracy: 99.1750%: 100%|██████████| 469/469 [00:12<00:00, 38.32it/s]\n",
            "  0%|          | 0/469 [00:00<?, ?it/s]"
          ],
          "name": "stderr"
        },
        {
          "output_type": "stream",
          "text": [
            "\n",
            "Epoch:31 -- Test Set, Validation Loss: 0.01726702 Validation Accuracy: 99.4600%\n",
            "\n"
          ],
          "name": "stdout"
        },
        {
          "output_type": "stream",
          "text": [
            "Epoch: 32, Batch Id: 468 Training Loss: 0.00506500 Training Accuracy: 99.1833%: 100%|██████████| 469/469 [00:12<00:00, 37.62it/s]\n",
            "  0%|          | 0/469 [00:00<?, ?it/s]"
          ],
          "name": "stderr"
        },
        {
          "output_type": "stream",
          "text": [
            "\n",
            "Epoch:32 -- Test Set, Validation Loss: 0.01720733 Validation Accuracy: 99.4500%\n",
            "\n"
          ],
          "name": "stdout"
        },
        {
          "output_type": "stream",
          "text": [
            "Epoch: 33, Batch Id: 468 Training Loss: 0.00515704 Training Accuracy: 99.1733%: 100%|██████████| 469/469 [00:12<00:00, 38.53it/s]\n",
            "  0%|          | 0/469 [00:00<?, ?it/s]"
          ],
          "name": "stderr"
        },
        {
          "output_type": "stream",
          "text": [
            "\n",
            "Epoch:33 -- Test Set, Validation Loss: 0.01744631 Validation Accuracy: 99.4700%\n",
            "\n"
          ],
          "name": "stdout"
        },
        {
          "output_type": "stream",
          "text": [
            "Epoch: 34, Batch Id: 468 Training Loss: 0.02847513 Training Accuracy: 99.1783%: 100%|██████████| 469/469 [00:12<00:00, 37.80it/s]\n",
            "  0%|          | 0/469 [00:00<?, ?it/s]"
          ],
          "name": "stderr"
        },
        {
          "output_type": "stream",
          "text": [
            "\n",
            "Epoch:34 -- Test Set, Validation Loss: 0.01715446 Validation Accuracy: 99.4300%\n",
            "\n"
          ],
          "name": "stdout"
        },
        {
          "output_type": "stream",
          "text": [
            "Epoch: 35, Batch Id: 468 Training Loss: 0.00450808 Training Accuracy: 99.2050%: 100%|██████████| 469/469 [00:12<00:00, 38.15it/s]\n",
            "  0%|          | 0/469 [00:00<?, ?it/s]"
          ],
          "name": "stderr"
        },
        {
          "output_type": "stream",
          "text": [
            "\n",
            "Epoch:35 -- Test Set, Validation Loss: 0.01744417 Validation Accuracy: 99.4600%\n",
            "\n"
          ],
          "name": "stdout"
        },
        {
          "output_type": "stream",
          "text": [
            "Epoch: 36, Batch Id: 468 Training Loss: 0.05214397 Training Accuracy: 99.1250%: 100%|██████████| 469/469 [00:12<00:00, 38.54it/s]\n",
            "  0%|          | 0/469 [00:00<?, ?it/s]"
          ],
          "name": "stderr"
        },
        {
          "output_type": "stream",
          "text": [
            "\n",
            "Epoch:36 -- Test Set, Validation Loss: 0.01765347 Validation Accuracy: 99.4400%\n",
            "\n"
          ],
          "name": "stdout"
        },
        {
          "output_type": "stream",
          "text": [
            "Epoch: 37, Batch Id: 468 Training Loss: 0.02190436 Training Accuracy: 99.1533%: 100%|██████████| 469/469 [00:12<00:00, 36.97it/s]\n",
            "  0%|          | 0/469 [00:00<?, ?it/s]"
          ],
          "name": "stderr"
        },
        {
          "output_type": "stream",
          "text": [
            "\n",
            "Epoch:37 -- Test Set, Validation Loss: 0.01763878 Validation Accuracy: 99.3700%\n",
            "\n"
          ],
          "name": "stdout"
        },
        {
          "output_type": "stream",
          "text": [
            "Epoch: 38, Batch Id: 468 Training Loss: 0.00431282 Training Accuracy: 99.1933%: 100%|██████████| 469/469 [00:12<00:00, 38.33it/s]\n",
            "  0%|          | 0/469 [00:00<?, ?it/s]"
          ],
          "name": "stderr"
        },
        {
          "output_type": "stream",
          "text": [
            "\n",
            "Epoch:38 -- Test Set, Validation Loss: 0.01766234 Validation Accuracy: 99.4000%\n",
            "\n"
          ],
          "name": "stdout"
        },
        {
          "output_type": "stream",
          "text": [
            "Epoch: 39, Batch Id: 468 Training Loss: 0.03302110 Training Accuracy: 99.2000%: 100%|██████████| 469/469 [00:12<00:00, 38.22it/s]\n",
            "  0%|          | 0/469 [00:00<?, ?it/s]"
          ],
          "name": "stderr"
        },
        {
          "output_type": "stream",
          "text": [
            "\n",
            "Epoch:39 -- Test Set, Validation Loss: 0.01732528 Validation Accuracy: 99.4400%\n",
            "\n"
          ],
          "name": "stdout"
        },
        {
          "output_type": "stream",
          "text": [
            "Epoch: 40, Batch Id: 468 Training Loss: 0.00826953 Training Accuracy: 99.1800%: 100%|██████████| 469/469 [00:11<00:00, 39.41it/s]\n",
            "  0%|          | 0/469 [00:00<?, ?it/s]"
          ],
          "name": "stderr"
        },
        {
          "output_type": "stream",
          "text": [
            "\n",
            "Epoch:40 -- Test Set, Validation Loss: 0.01734594 Validation Accuracy: 99.4400%\n",
            "\n"
          ],
          "name": "stdout"
        },
        {
          "output_type": "stream",
          "text": [
            "Epoch: 41, Batch Id: 468 Training Loss: 0.00784160 Training Accuracy: 99.1883%: 100%|██████████| 469/469 [00:12<00:00, 38.44it/s]\n",
            "  0%|          | 0/469 [00:00<?, ?it/s]"
          ],
          "name": "stderr"
        },
        {
          "output_type": "stream",
          "text": [
            "\n",
            "Epoch:41 -- Test Set, Validation Loss: 0.01716668 Validation Accuracy: 99.4900%\n",
            "\n"
          ],
          "name": "stdout"
        },
        {
          "output_type": "stream",
          "text": [
            "Epoch: 42, Batch Id: 468 Training Loss: 0.02424804 Training Accuracy: 99.2250%: 100%|██████████| 469/469 [00:12<00:00, 38.89it/s]\n",
            "  0%|          | 0/469 [00:00<?, ?it/s]"
          ],
          "name": "stderr"
        },
        {
          "output_type": "stream",
          "text": [
            "\n",
            "Epoch:42 -- Test Set, Validation Loss: 0.01742913 Validation Accuracy: 99.4100%\n",
            "\n"
          ],
          "name": "stdout"
        },
        {
          "output_type": "stream",
          "text": [
            "Epoch: 43, Batch Id: 468 Training Loss: 0.02845491 Training Accuracy: 99.1983%: 100%|██████████| 469/469 [00:12<00:00, 36.77it/s]\n",
            "  0%|          | 0/469 [00:00<?, ?it/s]"
          ],
          "name": "stderr"
        },
        {
          "output_type": "stream",
          "text": [
            "\n",
            "Epoch:43 -- Test Set, Validation Loss: 0.01735058 Validation Accuracy: 99.4400%\n",
            "\n"
          ],
          "name": "stdout"
        },
        {
          "output_type": "stream",
          "text": [
            "Epoch: 44, Batch Id: 468 Training Loss: 0.03031213 Training Accuracy: 99.1967%: 100%|██████████| 469/469 [00:12<00:00, 39.01it/s]\n",
            "  0%|          | 0/469 [00:00<?, ?it/s]"
          ],
          "name": "stderr"
        },
        {
          "output_type": "stream",
          "text": [
            "\n",
            "Epoch:44 -- Test Set, Validation Loss: 0.01752456 Validation Accuracy: 99.4100%\n",
            "\n"
          ],
          "name": "stdout"
        },
        {
          "output_type": "stream",
          "text": [
            "Epoch: 45, Batch Id: 468 Training Loss: 0.05166555 Training Accuracy: 99.2000%: 100%|██████████| 469/469 [00:12<00:00, 38.59it/s]\n",
            "  0%|          | 0/469 [00:00<?, ?it/s]"
          ],
          "name": "stderr"
        },
        {
          "output_type": "stream",
          "text": [
            "\n",
            "Epoch:45 -- Test Set, Validation Loss: 0.01747261 Validation Accuracy: 99.4300%\n",
            "\n"
          ],
          "name": "stdout"
        },
        {
          "output_type": "stream",
          "text": [
            "Epoch: 46, Batch Id: 468 Training Loss: 0.00432523 Training Accuracy: 99.2250%: 100%|██████████| 469/469 [00:12<00:00, 37.54it/s]\n",
            "  0%|          | 0/469 [00:00<?, ?it/s]"
          ],
          "name": "stderr"
        },
        {
          "output_type": "stream",
          "text": [
            "\n",
            "Epoch:46 -- Test Set, Validation Loss: 0.01712420 Validation Accuracy: 99.4100%\n",
            "\n"
          ],
          "name": "stdout"
        },
        {
          "output_type": "stream",
          "text": [
            "Epoch: 47, Batch Id: 468 Training Loss: 0.00851319 Training Accuracy: 99.1667%: 100%|██████████| 469/469 [00:12<00:00, 37.20it/s]\n",
            "  0%|          | 0/469 [00:00<?, ?it/s]"
          ],
          "name": "stderr"
        },
        {
          "output_type": "stream",
          "text": [
            "\n",
            "Epoch:47 -- Test Set, Validation Loss: 0.01740415 Validation Accuracy: 99.4400%\n",
            "\n"
          ],
          "name": "stdout"
        },
        {
          "output_type": "stream",
          "text": [
            "Epoch: 48, Batch Id: 468 Training Loss: 0.00444797 Training Accuracy: 99.1633%: 100%|██████████| 469/469 [00:12<00:00, 38.11it/s]\n",
            "  0%|          | 0/469 [00:00<?, ?it/s]"
          ],
          "name": "stderr"
        },
        {
          "output_type": "stream",
          "text": [
            "\n",
            "Epoch:48 -- Test Set, Validation Loss: 0.01710716 Validation Accuracy: 99.5000%\n",
            "\n"
          ],
          "name": "stdout"
        },
        {
          "output_type": "stream",
          "text": [
            "Epoch: 49, Batch Id: 468 Training Loss: 0.01406115 Training Accuracy: 99.2683%: 100%|██████████| 469/469 [00:12<00:00, 39.08it/s]\n",
            "  0%|          | 0/469 [00:00<?, ?it/s]"
          ],
          "name": "stderr"
        },
        {
          "output_type": "stream",
          "text": [
            "\n",
            "Epoch:49 -- Test Set, Validation Loss: 0.01716464 Validation Accuracy: 99.4700%\n",
            "\n"
          ],
          "name": "stdout"
        },
        {
          "output_type": "stream",
          "text": [
            "Epoch: 50, Batch Id: 468 Training Loss: 0.06135471 Training Accuracy: 99.1867%: 100%|██████████| 469/469 [00:12<00:00, 37.76it/s]\n"
          ],
          "name": "stderr"
        },
        {
          "output_type": "stream",
          "text": [
            "\n",
            "Epoch:50 -- Test Set, Validation Loss: 0.01776281 Validation Accuracy: 99.4000%\n",
            "\n"
          ],
          "name": "stdout"
        },
        {
          "output_type": "display_data",
          "data": {
            "image/png": "[encoded data removed]",
            "text/plain": [
              "<Figure size 432x288 with 1 Axes>"
            ]
          },
          "metadata": {
            "tags": []
          }
        },
        {
          "output_type": "display_data",
          "data": {
            "image/png": "[encoded data removed]",
            "text/plain": [
              "<Figure size 432x288 with 1 Axes>"
            ]
          },
          "metadata": {
            "tags": []
          }
        },
        {
          "output_type": "execute_result",
          "data": {
            "text/plain": [
              "[([99.02833333333334,\n",
              "   99.02833333333334,\n",
              "   99.09666666666666,\n",
              "   99.13,\n",
              "   99.1,\n",
              "   99.17833333333333,\n",
              "   99.09166666666667,\n",
              "   99.08166666666666,\n",
              "   99.11666666666666,\n",
              "   99.15833333333333,\n",
              "   99.17666666666666,\n",
              "   99.14833333333333,\n",
              "   99.13666666666667,\n",
              "   99.10833333333333,\n",
              "   99.14333333333333,\n",
              "   99.17833333333333,\n",
              "   99.15333333333334,\n",
              "   99.16166666666666,\n",
              "   99.15333333333334,\n",
              "   99.13833333333334,\n",
              "   99.125,\n",
              "   99.21166666666667,\n",
              "   99.14833333333333,\n",
              "   99.21166666666667,\n",
              "   99.18833333333333,\n",
              "   99.19333333333333,\n",
              "   99.19,\n",
              "   99.19666666666667,\n",
              "   99.11666666666666,\n",
              "   99.185,\n",
              "   99.175,\n",
              "   99.18333333333334,\n",
              "   99.17333333333333,\n",
              "   99.17833333333333,\n",
              "   99.205,\n",
              "   99.125,\n",
              "   99.15333333333334,\n",
              "   99.19333333333333,\n",
              "   99.2,\n",
              "   99.18,\n",
              "   99.18833333333333,\n",
              "   99.225,\n",
              "   99.19833333333334,\n",
              "   99.19666666666667,\n",
              "   99.2,\n",
              "   99.225,\n",
              "   99.16666666666667,\n",
              "   99.16333333333333,\n",
              "   99.26833333333333,\n",
              "   99.18666666666667],\n",
              "  [0.026821041479706764,\n",
              "   0.0410650372505188,\n",
              "   0.025747964158654213,\n",
              "   0.029461055994033813,\n",
              "   0.03322681412100792,\n",
              "   0.02216925285756588,\n",
              "   0.02363535761833191,\n",
              "   0.04988289251923561,\n",
              "   0.04898034408688545,\n",
              "   0.01639884151518345,\n",
              "   0.015696704387664795,\n",
              "   0.021498853340744972,\n",
              "   0.02749742567539215,\n",
              "   0.0024121056776493788,\n",
              "   0.015043094754219055,\n",
              "   0.012333020567893982,\n",
              "   0.011876215226948261,\n",
              "   0.02533402107656002,\n",
              "   0.03178766742348671,\n",
              "   0.021306967362761497,\n",
              "   0.06907513737678528,\n",
              "   0.015105401165783405,\n",
              "   0.008004535920917988,\n",
              "   0.023686453700065613,\n",
              "   0.02461581863462925,\n",
              "   0.057338159531354904,\n",
              "   0.011612568981945515,\n",
              "   0.005947932600975037,\n",
              "   0.09778555482625961,\n",
              "   0.012421165592968464,\n",
              "   0.03278270363807678,\n",
              "   0.005064999219030142,\n",
              "   0.005157043691724539,\n",
              "   0.02847512997686863,\n",
              "   0.004508078098297119,\n",
              "   0.052143972367048264,\n",
              "   0.02190435864031315,\n",
              "   0.0043128184042871,\n",
              "   0.033021099865436554,\n",
              "   0.008269528858363628,\n",
              "   0.007841601967811584,\n",
              "   0.024248043075203896,\n",
              "   0.028454914689064026,\n",
              "   0.030312126502394676,\n",
              "   0.051665548235177994,\n",
              "   0.0043252259492874146,\n",
              "   0.008513187058269978,\n",
              "   0.004447966814041138,\n",
              "   0.014061148278415203,\n",
              "   0.061354707926511765]),\n",
              " ([99.38,\n",
              "   99.38,\n",
              "   99.43,\n",
              "   99.42,\n",
              "   99.39,\n",
              "   99.38,\n",
              "   99.44,\n",
              "   99.39,\n",
              "   99.44,\n",
              "   99.42,\n",
              "   99.42,\n",
              "   99.41,\n",
              "   99.42,\n",
              "   99.42,\n",
              "   99.43,\n",
              "   99.44,\n",
              "   99.43,\n",
              "   99.42,\n",
              "   99.44,\n",
              "   99.47,\n",
              "   99.45,\n",
              "   99.41,\n",
              "   99.45,\n",
              "   99.42,\n",
              "   99.4,\n",
              "   99.44,\n",
              "   99.4,\n",
              "   99.43,\n",
              "   99.46,\n",
              "   99.38,\n",
              "   99.46,\n",
              "   99.45,\n",
              "   99.47,\n",
              "   99.43,\n",
              "   99.46,\n",
              "   99.44,\n",
              "   99.37,\n",
              "   99.4,\n",
              "   99.44,\n",
              "   99.44,\n",
              "   99.49,\n",
              "   99.41,\n",
              "   99.44,\n",
              "   99.41,\n",
              "   99.43,\n",
              "   99.41,\n",
              "   99.44,\n",
              "   99.5,\n",
              "   99.47,\n",
              "   99.4],\n",
              "  [0.019293910431861877,\n",
              "   0.019172581267356874,\n",
              "   0.01876958839893341,\n",
              "   0.018589932703971863,\n",
              "   0.01904748933315277,\n",
              "   0.01848887550830841,\n",
              "   0.018152618503570556,\n",
              "   0.01811284532546997,\n",
              "   0.01794743537902832,\n",
              "   0.017806784081459047,\n",
              "   0.01805375692844391,\n",
              "   0.01785739965438843,\n",
              "   0.017913303327560425,\n",
              "   0.018068802809715272,\n",
              "   0.01760518145561218,\n",
              "   0.017499585342407226,\n",
              "   0.017829712986946106,\n",
              "   0.01797702431678772,\n",
              "   0.017589661264419555,\n",
              "   0.01752692551612854,\n",
              "   0.017921622347831727,\n",
              "   0.01748186342716217,\n",
              "   0.017651128244400023,\n",
              "   0.01805521092414856,\n",
              "   0.018023499751091004,\n",
              "   0.017439166855812073,\n",
              "   0.018031257081031798,\n",
              "   0.017672074127197266,\n",
              "   0.017481735372543335,\n",
              "   0.01765626347064972,\n",
              "   0.017267020535469055,\n",
              "   0.01720733163356781,\n",
              "   0.017446305799484252,\n",
              "   0.017154462957382204,\n",
              "   0.017444170784950256,\n",
              "   0.01765347273349762,\n",
              "   0.01763878276348114,\n",
              "   0.01766234121322632,\n",
              "   0.017325279355049135,\n",
              "   0.017345944118499757,\n",
              "   0.017166680669784547,\n",
              "   0.017429130363464357,\n",
              "   0.01735057599544525,\n",
              "   0.017524559307098387,\n",
              "   0.017472607350349428,\n",
              "   0.017124202489852906,\n",
              "   0.017404153633117675,\n",
              "   0.01710715706348419,\n",
              "   0.017164642906188965,\n",
              "   0.017762808108329774])]"
            ]
          },
          "metadata": {
            "tags": []
          },
          "execution_count": 25
        }
      ]
    }
  ]
}