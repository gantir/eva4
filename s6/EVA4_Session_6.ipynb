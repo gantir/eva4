{
  "nbformat": 4,
  "nbformat_minor": 0,
  "metadata": {
    "colab": {
      "name": "EVA4_Session_6.ipynb",
      "provenance": [],
      "collapsed_sections": [],
      "include_colab_link": true
    },
    "kernelspec": {
      "name": "python3",
      "display_name": "Python 3"
    },
    "accelerator": "GPU"
  },
  "cells": [
    {
      "cell_type": "markdown",
      "metadata": {
        "id": "view-in-github",
        "colab_type": "text"
      },
      "source": [
        "<a href=\"https://colab.research.google.com/github/gantir/eva4/blob/develop/s6/EVA4_Session_6.ipynb\" target=\"_parent\"><img src=\"https://colab.research.google.com/assets/colab-badge.svg\" alt=\"Open In Colab\"/></a>"
      ]
    },
    {
      "cell_type": "code",
      "metadata": {
        "id": "0m2JWFliFfKT",
        "colab_type": "code",
        "colab": {}
      },
      "source": [
        "from __future__ import print_function\n",
        "import sys\n",
        "\n",
        "import torch\n",
        "import torch.nn as nn\n",
        "import torch.nn.functional as F\n",
        "import torch.optim as optim\n",
        "from torchvision import datasets, transforms\n",
        "\n",
        "from matplotlib import pyplot as plt\n",
        "from tqdm import tqdm\n",
        "import numpy as np"
      ],
      "execution_count": 0,
      "outputs": []
    },
    {
      "cell_type": "code",
      "metadata": {
        "id": "ZbB1f-juhZvk",
        "colab_type": "code",
        "outputId": "1a15e911-d51d-42d1-d9aa-97a0e6ba9468",
        "colab": {
          "base_uri": "https://localhost:8080/",
          "height": 50
        }
      },
      "source": [
        "!pip install torchsummary\n",
        "from torchsummary import summary\n",
        "use_cuda = torch.cuda.is_available()\n",
        "device = torch.device(\"cuda\" if use_cuda else \"cpu\")\n",
        "print('Cuda available?', use_cuda)"
      ],
      "execution_count": 2,
      "outputs": [
        {
          "output_type": "stream",
          "text": [
            "Requirement already satisfied: torchsummary in /usr/local/lib/python3.6/dist-packages (1.5.1)\n",
            "Cuda available? True\n"
          ],
          "name": "stdout"
        }
      ]
    },
    {
      "cell_type": "code",
      "metadata": {
        "id": "mn7us7Jztrpd",
        "colab_type": "code",
        "colab": {
          "base_uri": "https://localhost:8080/",
          "height": 33
        },
        "outputId": "b0dd49b6-6e23-4807-b2a4-898cde6fc309"
      },
      "source": [
        "try:\n",
        "  from google.colab import drive\n",
        "  drive.mount('/content/gdrive/')\n",
        "  sys.path.append('/content/gdrive/My Drive/Colab Notebooks/EVA4')\n",
        "except:\n",
        "  print('May be not using Google Colab')"
      ],
      "execution_count": 3,
      "outputs": [
        {
          "output_type": "stream",
          "text": [
            "Drive already mounted at /content/gdrive/; to attempt to forcibly remount, call drive.mount(\"/content/gdrive/\", force_remount=True).\n"
          ],
          "name": "stdout"
        }
      ]
    },
    {
      "cell_type": "code",
      "metadata": {
        "id": "7RqvpEAf-Lcp",
        "colab_type": "code",
        "colab": {}
      },
      "source": [
        "from utils.model_helper import train_model, test_model, train_n_test\n",
        "from utils.plot_helper import plot_acc_loss"
      ],
      "execution_count": 0,
      "outputs": []
    },
    {
      "cell_type": "code",
      "metadata": {
        "id": "RJG-YWU2gs9n",
        "colab_type": "code",
        "colab": {}
      },
      "source": [
        "# Train Phase transformations\n",
        "train_transforms = transforms.Compose([\n",
        "                                      #  transforms.Resize((28, 28)),\n",
        "                                      #  transforms.ColorJitter(brightness=0.10, contrast=0.1, saturation=0.10, hue=0.1),\n",
        "                                       transforms.ToTensor(),\n",
        "                                       transforms.Normalize((0.1307,), (0.3081,)) # The mean and std have to be sequences (e.g., tuples), therefore you should add a comma after the values. \n",
        "                                       # Note the difference between (0.1307) and (0.1307,)\n",
        "                                       ])\n",
        "\n",
        "# Test Phase transformations\n",
        "test_transforms = transforms.Compose([\n",
        "                                      #  transforms.Resize((28, 28)),\n",
        "                                      #  transforms.ColorJitter(brightness=0.10, contrast=0.1, saturation=0.10, hue=0.1),\n",
        "                                       transforms.ToTensor(),\n",
        "                                       transforms.Normalize((0.1307,), (0.3081,))\n",
        "                                       ])\n"
      ],
      "execution_count": 0,
      "outputs": []
    },
    {
      "cell_type": "code",
      "metadata": {
        "id": "FcQ5qyHshZym",
        "colab_type": "code",
        "colab": {}
      },
      "source": [
        "# Prepare Train and Test Dataset\n",
        "\n",
        "train_dataset = datasets.MNIST('../data', train=True, download=True, transform= train_transforms)\n",
        "test_dataset = datasets.MNIST('../data', train=False, transform=test_transforms)"
      ],
      "execution_count": 0,
      "outputs": []
    },
    {
      "cell_type": "code",
      "metadata": {
        "id": "DqTWLaM5GHgH",
        "colab_type": "code",
        "colab": {}
      },
      "source": [
        "SEED = 1\n",
        "\n",
        "torch.manual_seed(SEED)\n",
        "if use_cuda:\n",
        "    torch.cuda.manual_seed(SEED)\n",
        "\n",
        "batch_size = 64\n",
        "\n",
        "kwargs = {'num_workers': 1, 'pin_memory': True, 'batch_size': batch_size} if use_cuda else {'batch_size': 64}\n",
        "train_loader = torch.utils.data.DataLoader(train_dataset, shuffle=True, **kwargs)\n",
        "\n",
        "test_loader = torch.utils.data.DataLoader( test_dataset , shuffle=True, **kwargs)\n"
      ],
      "execution_count": 0,
      "outputs": []
    },
    {
      "cell_type": "code",
      "metadata": {
        "id": "4VrC-7JJpwVW",
        "colab_type": "code",
        "outputId": "cdb4b008-c3f9-4f46-b9f0-2052bbd40993",
        "colab": {
          "base_uri": "https://localhost:8080/",
          "height": 476
        }
      },
      "source": [
        "# We'd need to convert it into Numpy! Remember above we have converted it into tensors already\n",
        "train_data = train_dataset.train_data\n",
        "train_data = train_dataset.transform(train_data.numpy())\n",
        "\n",
        "print('[Train]')\n",
        "print(' - Numpy Shape:', train_dataset.train_data.cpu().numpy().shape)\n",
        "print(' - Tensor Shape:', train_dataset.train_data.size())\n",
        "print(' - min:', torch.min(train_data))\n",
        "print(' - max:', torch.max(train_data))\n",
        "print(' - mean:', torch.mean(train_data))\n",
        "print(' - std:', torch.std(train_data))\n",
        "print(' - var:', torch.var(train_data))\n",
        "\n",
        "dataiter = iter(train_loader)\n",
        "images, labels = dataiter.next()\n",
        "\n",
        "print(images.shape)\n",
        "print(labels.shape)\n",
        "\n",
        "# Let's visualize some of the images\n",
        "%matplotlib inline\n",
        "import matplotlib.pyplot as plt\n",
        "\n",
        "plt.imshow(images[0].numpy().squeeze(), cmap='gray_r')\n"
      ],
      "execution_count": 8,
      "outputs": [
        {
          "output_type": "stream",
          "text": [
            "/usr/local/lib/python3.6/dist-packages/torchvision/datasets/mnist.py:55: UserWarning: train_data has been renamed data\n",
            "  warnings.warn(\"train_data has been renamed data\")\n"
          ],
          "name": "stderr"
        },
        {
          "output_type": "stream",
          "text": [
            "[Train]\n",
            " - Numpy Shape: (60000, 28, 28)\n",
            " - Tensor Shape: torch.Size([60000, 28, 28])\n",
            " - min: tensor(-0.4242)\n",
            " - max: tensor(2.8215)\n",
            " - mean: tensor(0.0009)\n",
            " - std: tensor(1.0000)\n",
            " - var: tensor(1.0001)\n",
            "torch.Size([64, 1, 28, 28])\n",
            "torch.Size([64])\n"
          ],
          "name": "stdout"
        },
        {
          "output_type": "execute_result",
          "data": {
            "text/plain": [
              "<matplotlib.image.AxesImage at 0x7f839e48f0b8>"
            ]
          },
          "metadata": {
            "tags": []
          },
          "execution_count": 8
        },
        {
          "output_type": "display_data",
          "data": {
            "image/png": "[encoded data removed]",
            "text/plain": [
              "<Figure size 432x288 with 1 Axes>"
            ]
          },
          "metadata": {
            "tags": []
          }
        }
      ]
    },
    {
      "cell_type": "code",
      "metadata": {
        "id": "Wwh9eVADqzdN",
        "colab_type": "code",
        "outputId": "0c6477bb-1e3f-4fef-c601-32414b3b4d90",
        "colab": {
          "base_uri": "https://localhost:8080/",
          "height": 246
        }
      },
      "source": [
        "figure = plt.figure()\n",
        "num_of_images = 60\n",
        "for index in range(1, num_of_images + 1):\n",
        "    plt.subplot(6, 10, index)\n",
        "    plt.axis('off')\n",
        "    plt.imshow(images[index].numpy().squeeze(), cmap='gray_r')"
      ],
      "execution_count": 9,
      "outputs": [
        {
          "output_type": "display_data",
          "data": {
            "image/png": "[encoded data removed]",
            "text/plain": [
              "<Figure size 432x288 with 60 Axes>"
            ]
          },
          "metadata": {
            "tags": []
          }
        }
      ]
    },
    {
      "cell_type": "code",
      "metadata": {
        "id": "BpWHH-0L_60V",
        "colab_type": "code",
        "colab": {}
      },
      "source": [
        "class Net(nn.Module):\n",
        "    def __init__(self):\n",
        "        super(Net, self).__init__()\n",
        "        self.dropout_value = 0.1\n",
        "\n",
        "        self.conv_block1 = nn.Sequential(\n",
        "            nn.Conv2d(in_channels=1, out_channels=8, kernel_size=(3, 3), padding=0, bias=False),\n",
        "            nn.BatchNorm2d(8),\n",
        "            nn.Dropout(self.dropout_value),\n",
        "            nn.ReLU(),\n",
        "        )#input:28x28x1, output:26x26x8, RF:3x3\n",
        "        self.conv_block2 = nn.Sequential(\n",
        "            nn.Conv2d(in_channels=8, out_channels=8, kernel_size=(3, 3), padding=0, bias=False),\n",
        "            nn.BatchNorm2d(8),\n",
        "            nn.Dropout(self.dropout_value),\n",
        "            nn.ReLU(),\n",
        "        )#input:26x26x8, output:24x24x8, RF:5x5\n",
        "        \n",
        "        self.pool1 = nn.MaxPool2d(2, 2) #input - 24*24*8 output: 12*12*8 RF: 6*6\n",
        "        self.conv_one_one_1 = nn.Sequential(\n",
        "            nn.Conv2d(in_channels=8, out_channels=8, kernel_size=(1, 1), padding=0, bias=False),\n",
        "            nn.BatchNorm2d(8),\n",
        "            nn.Dropout(self.dropout_value),\n",
        "            nn.ReLU(),\n",
        "        )#input:12x12x8, output:12x12x8, RF:6x6\n",
        "\n",
        "        \n",
        "        self.conv_block3 = nn.Sequential(\n",
        "            nn.Conv2d(in_channels=8, out_channels=16, kernel_size=(3, 3), padding=0, bias=False),\n",
        "            nn.BatchNorm2d(16),\n",
        "            nn.Dropout(self.dropout_value),\n",
        "            nn.ReLU(),\n",
        "        )#input:12x12x8, output:10x10x16, RF:10x10\n",
        "        self.conv_block4 = nn.Sequential(\n",
        "            nn.Conv2d(in_channels=16, out_channels=16, kernel_size=(3, 3), padding=0, bias=False),\n",
        "            nn.BatchNorm2d(16),\n",
        "            nn.Dropout(self.dropout_value),\n",
        "            nn.ReLU(),\n",
        "        )#input:10x10x16, output:8x8x16, RF:14x14\n",
        "        self.conv_block5 = nn.Sequential(\n",
        "            nn.Conv2d(in_channels=16, out_channels=16, kernel_size=(3, 3), padding=0, bias=False),\n",
        "            nn.BatchNorm2d(16),\n",
        "            nn.Dropout(self.dropout_value),\n",
        "            nn.ReLU(),            \n",
        "        ) #input:8x8x16, output:6x6x16, RF:18x18\n",
        "        self.conv_block6 = nn.Sequential(\n",
        "            nn.Conv2d(in_channels=16, out_channels=20, kernel_size=(3, 3), padding=1, bias=False),\n",
        "            nn.BatchNorm2d(20),\n",
        "            nn.Dropout(self.dropout_value),\n",
        "            nn.ReLU(),            \n",
        "        ) #input:6x6x16, output:6x6x20, RF:22x22\n",
        "\n",
        "        self.gap = nn.Sequential(\n",
        "            nn.AvgPool2d(kernel_size=6)\n",
        "        )  #input -6*6*20 output: 1*1*20 RF:32x32\n",
        "\n",
        "        self.conv_one_one_2 = nn.Sequential(\n",
        "            nn.Conv2d(in_channels=20, out_channels=10, kernel_size=(1, 1), padding=0, bias=False),\n",
        "        ) #input:1x1x20, output:1x1x10,\n",
        "\n",
        "\n",
        "    def forward(self, x):\n",
        "        x = self.conv_block2(self.conv_block1(x))\n",
        "\n",
        "        x = self.conv_one_one_1(self.pool1(x))\n",
        "\n",
        "        x = self.conv_block4(self.conv_block3(x))\n",
        "        x = self.conv_block6(self.conv_block5(x))\n",
        "\n",
        "        x = self.gap(x)\n",
        "        x = self.conv_one_one_2(x)\n",
        "        x = x.view(-1, 10)\n",
        "        return F.log_softmax(x, dim=-1)"
      ],
      "execution_count": 0,
      "outputs": []
    },
    {
      "cell_type": "code",
      "metadata": {
        "id": "So5uk4EkHW6R",
        "colab_type": "code",
        "outputId": "c5bda198-23be-49b4-f6fb-bf207f76040e",
        "colab": {
          "base_uri": "https://localhost:8080/",
          "height": 732
        }
      },
      "source": [
        "model = Net().to(device)\n",
        "summary(model, input_size=(1, 28, 28))"
      ],
      "execution_count": 11,
      "outputs": [
        {
          "output_type": "stream",
          "text": [
            "----------------------------------------------------------------\n",
            "        Layer (type)               Output Shape         Param #\n",
            "================================================================\n",
            "            Conv2d-1            [-1, 8, 26, 26]              72\n",
            "       BatchNorm2d-2            [-1, 8, 26, 26]              16\n",
            "           Dropout-3            [-1, 8, 26, 26]               0\n",
            "              ReLU-4            [-1, 8, 26, 26]               0\n",
            "            Conv2d-5            [-1, 8, 24, 24]             576\n",
            "       BatchNorm2d-6            [-1, 8, 24, 24]              16\n",
            "           Dropout-7            [-1, 8, 24, 24]               0\n",
            "              ReLU-8            [-1, 8, 24, 24]               0\n",
            "         MaxPool2d-9            [-1, 8, 12, 12]               0\n",
            "           Conv2d-10            [-1, 8, 12, 12]              64\n",
            "      BatchNorm2d-11            [-1, 8, 12, 12]              16\n",
            "          Dropout-12            [-1, 8, 12, 12]               0\n",
            "             ReLU-13            [-1, 8, 12, 12]               0\n",
            "           Conv2d-14           [-1, 16, 10, 10]           1,152\n",
            "      BatchNorm2d-15           [-1, 16, 10, 10]              32\n",
            "          Dropout-16           [-1, 16, 10, 10]               0\n",
            "             ReLU-17           [-1, 16, 10, 10]               0\n",
            "           Conv2d-18             [-1, 16, 8, 8]           2,304\n",
            "      BatchNorm2d-19             [-1, 16, 8, 8]              32\n",
            "          Dropout-20             [-1, 16, 8, 8]               0\n",
            "             ReLU-21             [-1, 16, 8, 8]               0\n",
            "           Conv2d-22             [-1, 16, 6, 6]           2,304\n",
            "      BatchNorm2d-23             [-1, 16, 6, 6]              32\n",
            "          Dropout-24             [-1, 16, 6, 6]               0\n",
            "             ReLU-25             [-1, 16, 6, 6]               0\n",
            "           Conv2d-26             [-1, 20, 6, 6]           2,880\n",
            "      BatchNorm2d-27             [-1, 20, 6, 6]              40\n",
            "          Dropout-28             [-1, 20, 6, 6]               0\n",
            "             ReLU-29             [-1, 20, 6, 6]               0\n",
            "        AvgPool2d-30             [-1, 20, 1, 1]               0\n",
            "           Conv2d-31             [-1, 10, 1, 1]             200\n",
            "================================================================\n",
            "Total params: 9,736\n",
            "Trainable params: 9,736\n",
            "Non-trainable params: 0\n",
            "----------------------------------------------------------------\n",
            "Input size (MB): 0.00\n",
            "Forward/backward pass size (MB): 0.47\n",
            "Params size (MB): 0.04\n",
            "Estimated Total Size (MB): 0.51\n",
            "----------------------------------------------------------------\n"
          ],
          "name": "stdout"
        }
      ]
    },
    {
      "cell_type": "code",
      "metadata": {
        "id": "l60FZrpWNxzi",
        "colab_type": "code",
        "outputId": "2603ed9d-5b0b-4561-e74e-2c9b4b297203",
        "colab": {
          "base_uri": "https://localhost:8080/",
          "height": 1000
        }
      },
      "source": [
        "from torch.optim.lr_scheduler import StepLR\n",
        "\n",
        "EPOCHS = 40\n",
        "init_learning_rate = 0.199\n",
        "gamma= (init_learning_rate - (0.0001/EPOCHS))/init_learning_rate\n",
        "\n",
        "optimizer = optim.SGD(model.parameters(), lr=init_learning_rate, momentum=0.9)\n",
        "scheduler = StepLR(optimizer, step_size=1, gamma=gamma)\n",
        "\n",
        "[(train_acc, train_loss), (val_acc, val_loss)] = train_n_test(model, optimizer, scheduler, device, train_loader, test_loader, EPOCHS)\n",
        "\n",
        "plot_acc_loss(train_acc, val_acc, train_loss, val_loss)\n"
      ],
      "execution_count": 12,
      "outputs": [
        {
          "output_type": "stream",
          "text": [
            "Epoch: 1, Batch 937,  Training Loss: 0.09029733 Training Accuracy: 92.8367%: 100%|██████████| 938/938 [00:15<00:00, 61.84it/s]"
          ],
          "name": "stderr"
        },
        {
          "output_type": "stream",
          "text": [
            "LR: [0.199]\n"
          ],
          "name": "stdout"
        },
        {
          "output_type": "stream",
          "text": [
            "\n",
            "  0%|          | 0/938 [00:00<?, ?it/s]"
          ],
          "name": "stderr"
        },
        {
          "output_type": "stream",
          "text": [
            "\n",
            "Epoch: 1 -- Test Set, Validation Loss: 0.05578894 Validation Accuracy: 98.2000%\n",
            "\n"
          ],
          "name": "stdout"
        },
        {
          "output_type": "stream",
          "text": [
            "Epoch: 2, Batch 937,  Training Loss: 0.16601670 Training Accuracy: 97.4300%: 100%|██████████| 938/938 [00:16<00:00, 58.09it/s]\n"
          ],
          "name": "stderr"
        },
        {
          "output_type": "stream",
          "text": [
            "LR: [0.19899500003140708]\n"
          ],
          "name": "stdout"
        },
        {
          "output_type": "stream",
          "text": [
            "\r  0%|          | 0/938 [00:00<?, ?it/s]"
          ],
          "name": "stderr"
        },
        {
          "output_type": "stream",
          "text": [
            "\n",
            "Epoch: 2 -- Test Set, Validation Loss: 0.03231527 Validation Accuracy: 98.9600%\n",
            "\n"
          ],
          "name": "stdout"
        },
        {
          "output_type": "stream",
          "text": [
            "Epoch: 3, Batch 937,  Training Loss: 0.01533708 Training Accuracy: 97.9017%: 100%|██████████| 938/938 [00:15<00:00, 58.30it/s]"
          ],
          "name": "stderr"
        },
        {
          "output_type": "stream",
          "text": [
            "LR: [0.19899250009422076]\n"
          ],
          "name": "stdout"
        },
        {
          "output_type": "stream",
          "text": [
            "\n",
            "  0%|          | 0/938 [00:00<?, ?it/s]"
          ],
          "name": "stderr"
        },
        {
          "output_type": "stream",
          "text": [
            "\n",
            "Epoch: 3 -- Test Set, Validation Loss: 0.02759745 Validation Accuracy: 99.0200%\n",
            "\n"
          ],
          "name": "stdout"
        },
        {
          "output_type": "stream",
          "text": [
            "Epoch: 4, Batch 937,  Training Loss: 0.02180766 Training Accuracy: 98.2050%: 100%|██████████| 938/938 [00:15<00:00, 59.66it/s]"
          ],
          "name": "stderr"
        },
        {
          "output_type": "stream",
          "text": [
            "LR: [0.1989900001884407]\n"
          ],
          "name": "stdout"
        },
        {
          "output_type": "stream",
          "text": [
            "\n",
            "  0%|          | 0/938 [00:00<?, ?it/s]"
          ],
          "name": "stderr"
        },
        {
          "output_type": "stream",
          "text": [
            "\n",
            "Epoch: 4 -- Test Set, Validation Loss: 0.02288760 Validation Accuracy: 99.2800%\n",
            "\n"
          ],
          "name": "stdout"
        },
        {
          "output_type": "stream",
          "text": [
            "Epoch: 5, Batch 937,  Training Loss: 0.30207202 Training Accuracy: 98.4100%: 100%|██████████| 938/938 [00:16<00:00, 57.91it/s]\n"
          ],
          "name": "stderr"
        },
        {
          "output_type": "stream",
          "text": [
            "LR: [0.1989875003140665]\n"
          ],
          "name": "stdout"
        },
        {
          "output_type": "stream",
          "text": [
            "\r  0%|          | 0/938 [00:00<?, ?it/s]"
          ],
          "name": "stderr"
        },
        {
          "output_type": "stream",
          "text": [
            "\n",
            "Epoch: 5 -- Test Set, Validation Loss: 0.02810768 Validation Accuracy: 99.1000%\n",
            "\n"
          ],
          "name": "stdout"
        },
        {
          "output_type": "stream",
          "text": [
            "Epoch: 6, Batch 937,  Training Loss: 0.02391137 Training Accuracy: 98.4867%: 100%|██████████| 938/938 [00:16<00:00, 57.79it/s]"
          ],
          "name": "stderr"
        },
        {
          "output_type": "stream",
          "text": [
            "LR: [0.19898500047109777]\n"
          ],
          "name": "stdout"
        },
        {
          "output_type": "stream",
          "text": [
            "\n",
            "  0%|          | 0/938 [00:00<?, ?it/s]"
          ],
          "name": "stderr"
        },
        {
          "output_type": "stream",
          "text": [
            "\n",
            "Epoch: 6 -- Test Set, Validation Loss: 0.03068501 Validation Accuracy: 99.0100%\n",
            "\n"
          ],
          "name": "stdout"
        },
        {
          "output_type": "stream",
          "text": [
            "Epoch: 7, Batch 937,  Training Loss: 0.08276889 Training Accuracy: 98.6217%: 100%|██████████| 938/938 [00:16<00:00, 57.87it/s]"
          ],
          "name": "stderr"
        },
        {
          "output_type": "stream",
          "text": [
            "LR: [0.19898250065953407]\n"
          ],
          "name": "stdout"
        },
        {
          "output_type": "stream",
          "text": [
            "\n",
            "  0%|          | 0/938 [00:00<?, ?it/s]"
          ],
          "name": "stderr"
        },
        {
          "output_type": "stream",
          "text": [
            "\n",
            "Epoch: 7 -- Test Set, Validation Loss: 0.02868492 Validation Accuracy: 98.9600%\n",
            "\n"
          ],
          "name": "stdout"
        },
        {
          "output_type": "stream",
          "text": [
            "Epoch: 8, Batch 937,  Training Loss: 0.06914635 Training Accuracy: 98.5567%: 100%|██████████| 938/938 [00:15<00:00, 59.39it/s]"
          ],
          "name": "stderr"
        },
        {
          "output_type": "stream",
          "text": [
            "LR: [0.19898000087937506]\n"
          ],
          "name": "stdout"
        },
        {
          "output_type": "stream",
          "text": [
            "\n",
            "  0%|          | 0/938 [00:00<?, ?it/s]"
          ],
          "name": "stderr"
        },
        {
          "output_type": "stream",
          "text": [
            "\n",
            "Epoch: 8 -- Test Set, Validation Loss: 0.02775802 Validation Accuracy: 99.1200%\n",
            "\n"
          ],
          "name": "stdout"
        },
        {
          "output_type": "stream",
          "text": [
            "Epoch: 9, Batch 937,  Training Loss: 0.10436742 Training Accuracy: 98.6283%: 100%|██████████| 938/938 [00:16<00:00, 56.74it/s]\n"
          ],
          "name": "stderr"
        },
        {
          "output_type": "stream",
          "text": [
            "LR: [0.19897750113062032]\n"
          ],
          "name": "stdout"
        },
        {
          "output_type": "stream",
          "text": [
            "\r  0%|          | 0/938 [00:00<?, ?it/s]"
          ],
          "name": "stderr"
        },
        {
          "output_type": "stream",
          "text": [
            "\n",
            "Epoch: 9 -- Test Set, Validation Loss: 0.02407864 Validation Accuracy: 99.2400%\n",
            "\n"
          ],
          "name": "stdout"
        },
        {
          "output_type": "stream",
          "text": [
            "Epoch: 10, Batch 937,  Training Loss: 0.01517373 Training Accuracy: 98.6817%: 100%|██████████| 938/938 [00:15<00:00, 59.85it/s]"
          ],
          "name": "stderr"
        },
        {
          "output_type": "stream",
          "text": [
            "LR: [0.19897500141326946]\n"
          ],
          "name": "stdout"
        },
        {
          "output_type": "stream",
          "text": [
            "\n",
            "  0%|          | 0/938 [00:00<?, ?it/s]"
          ],
          "name": "stderr"
        },
        {
          "output_type": "stream",
          "text": [
            "\n",
            "Epoch: 10 -- Test Set, Validation Loss: 0.02177260 Validation Accuracy: 99.2600%\n",
            "\n"
          ],
          "name": "stdout"
        },
        {
          "output_type": "stream",
          "text": [
            "Epoch: 11, Batch 937,  Training Loss: 0.01078288 Training Accuracy: 98.6933%: 100%|██████████| 938/938 [00:16<00:00, 57.70it/s]"
          ],
          "name": "stderr"
        },
        {
          "output_type": "stream",
          "text": [
            "LR: [0.1989725017273221]\n"
          ],
          "name": "stdout"
        },
        {
          "output_type": "stream",
          "text": [
            "\n",
            "  0%|          | 0/938 [00:00<?, ?it/s]"
          ],
          "name": "stderr"
        },
        {
          "output_type": "stream",
          "text": [
            "\n",
            "Epoch: 11 -- Test Set, Validation Loss: 0.02379889 Validation Accuracy: 99.2800%\n",
            "\n"
          ],
          "name": "stdout"
        },
        {
          "output_type": "stream",
          "text": [
            "Epoch: 12, Batch 937,  Training Loss: 0.00135890 Training Accuracy: 98.7350%: 100%|██████████| 938/938 [00:17<00:00, 54.53it/s]"
          ],
          "name": "stderr"
        },
        {
          "output_type": "stream",
          "text": [
            "LR: [0.1989700020727778]\n"
          ],
          "name": "stdout"
        },
        {
          "output_type": "stream",
          "text": [
            "\n",
            "  0%|          | 0/938 [00:00<?, ?it/s]"
          ],
          "name": "stderr"
        },
        {
          "output_type": "stream",
          "text": [
            "\n",
            "Epoch: 12 -- Test Set, Validation Loss: 0.02063133 Validation Accuracy: 99.2900%\n",
            "\n"
          ],
          "name": "stdout"
        },
        {
          "output_type": "stream",
          "text": [
            "Epoch: 13, Batch 937,  Training Loss: 0.00089231 Training Accuracy: 98.8267%: 100%|██████████| 938/938 [00:16<00:00, 57.74it/s]"
          ],
          "name": "stderr"
        },
        {
          "output_type": "stream",
          "text": [
            "LR: [0.19896750244963618]\n"
          ],
          "name": "stdout"
        },
        {
          "output_type": "stream",
          "text": [
            "\n",
            "  0%|          | 0/938 [00:00<?, ?it/s]"
          ],
          "name": "stderr"
        },
        {
          "output_type": "stream",
          "text": [
            "\n",
            "Epoch: 13 -- Test Set, Validation Loss: 0.01974601 Validation Accuracy: 99.3000%\n",
            "\n"
          ],
          "name": "stdout"
        },
        {
          "output_type": "stream",
          "text": [
            "Epoch: 14, Batch 937,  Training Loss: 0.04628661 Training Accuracy: 98.8483%: 100%|██████████| 938/938 [00:16<00:00, 55.62it/s]\n"
          ],
          "name": "stderr"
        },
        {
          "output_type": "stream",
          "text": [
            "LR: [0.1989650028578969]\n"
          ],
          "name": "stdout"
        },
        {
          "output_type": "stream",
          "text": [
            "\r  0%|          | 0/938 [00:00<?, ?it/s]"
          ],
          "name": "stderr"
        },
        {
          "output_type": "stream",
          "text": [
            "\n",
            "Epoch: 14 -- Test Set, Validation Loss: 0.01950439 Validation Accuracy: 99.3300%\n",
            "\n"
          ],
          "name": "stdout"
        },
        {
          "output_type": "stream",
          "text": [
            "Epoch: 15, Batch 937,  Training Loss: 0.00796837 Training Accuracy: 98.8967%: 100%|██████████| 938/938 [00:18<00:00, 45.56it/s]"
          ],
          "name": "stderr"
        },
        {
          "output_type": "stream",
          "text": [
            "LR: [0.19896250329755952]\n"
          ],
          "name": "stdout"
        },
        {
          "output_type": "stream",
          "text": [
            "\n",
            "  0%|          | 0/938 [00:00<?, ?it/s]"
          ],
          "name": "stderr"
        },
        {
          "output_type": "stream",
          "text": [
            "\n",
            "Epoch: 15 -- Test Set, Validation Loss: 0.02356400 Validation Accuracy: 99.2400%\n",
            "\n"
          ],
          "name": "stdout"
        },
        {
          "output_type": "stream",
          "text": [
            "Epoch: 16, Batch 937,  Training Loss: 0.00529742 Training Accuracy: 98.9367%: 100%|██████████| 938/938 [00:16<00:00, 55.60it/s]"
          ],
          "name": "stderr"
        },
        {
          "output_type": "stream",
          "text": [
            "LR: [0.19896000376862363]\n"
          ],
          "name": "stdout"
        },
        {
          "output_type": "stream",
          "text": [
            "\n",
            "  0%|          | 0/938 [00:00<?, ?it/s]"
          ],
          "name": "stderr"
        },
        {
          "output_type": "stream",
          "text": [
            "\n",
            "Epoch: 16 -- Test Set, Validation Loss: 0.01903867 Validation Accuracy: 99.3700%\n",
            "\n"
          ],
          "name": "stdout"
        },
        {
          "output_type": "stream",
          "text": [
            "Epoch: 17, Batch 937,  Training Loss: 0.00183845 Training Accuracy: 98.9550%: 100%|██████████| 938/938 [00:17<00:00, 52.82it/s]"
          ],
          "name": "stderr"
        },
        {
          "output_type": "stream",
          "text": [
            "LR: [0.19895750427108888]\n"
          ],
          "name": "stdout"
        },
        {
          "output_type": "stream",
          "text": [
            "\n",
            "  0%|          | 0/938 [00:00<?, ?it/s]"
          ],
          "name": "stderr"
        },
        {
          "output_type": "stream",
          "text": [
            "\n",
            "Epoch: 17 -- Test Set, Validation Loss: 0.02685769 Validation Accuracy: 99.1900%\n",
            "\n"
          ],
          "name": "stdout"
        },
        {
          "output_type": "stream",
          "text": [
            "Epoch: 18, Batch 937,  Training Loss: 0.01892352 Training Accuracy: 98.9683%: 100%|██████████| 938/938 [00:17<00:00, 61.35it/s]"
          ],
          "name": "stderr"
        },
        {
          "output_type": "stream",
          "text": [
            "LR: [0.19895500480495484]\n"
          ],
          "name": "stdout"
        },
        {
          "output_type": "stream",
          "text": [
            "\n",
            "  0%|          | 0/938 [00:00<?, ?it/s]"
          ],
          "name": "stderr"
        },
        {
          "output_type": "stream",
          "text": [
            "\n",
            "Epoch: 18 -- Test Set, Validation Loss: 0.02122241 Validation Accuracy: 99.2800%\n",
            "\n"
          ],
          "name": "stdout"
        },
        {
          "output_type": "stream",
          "text": [
            "Epoch: 19, Batch 937,  Training Loss: 0.16356109 Training Accuracy: 98.9267%: 100%|██████████| 938/938 [00:17<00:00, 53.68it/s]"
          ],
          "name": "stderr"
        },
        {
          "output_type": "stream",
          "text": [
            "LR: [0.19895250537022113]\n"
          ],
          "name": "stdout"
        },
        {
          "output_type": "stream",
          "text": [
            "\n",
            "  0%|          | 0/938 [00:00<?, ?it/s]"
          ],
          "name": "stderr"
        },
        {
          "output_type": "stream",
          "text": [
            "\n",
            "Epoch: 19 -- Test Set, Validation Loss: 0.01803750 Validation Accuracy: 99.4300%\n",
            "\n"
          ],
          "name": "stdout"
        },
        {
          "output_type": "stream",
          "text": [
            "Epoch: 20, Batch 937,  Training Loss: 0.04184438 Training Accuracy: 98.9217%: 100%|██████████| 938/938 [00:17<00:00, 53.58it/s]"
          ],
          "name": "stderr"
        },
        {
          "output_type": "stream",
          "text": [
            "LR: [0.19895000596688736]\n"
          ],
          "name": "stdout"
        },
        {
          "output_type": "stream",
          "text": [
            "\n",
            "  0%|          | 0/938 [00:00<?, ?it/s]"
          ],
          "name": "stderr"
        },
        {
          "output_type": "stream",
          "text": [
            "\n",
            "Epoch: 20 -- Test Set, Validation Loss: 0.02353881 Validation Accuracy: 99.1800%\n",
            "\n"
          ],
          "name": "stdout"
        },
        {
          "output_type": "stream",
          "text": [
            "Epoch: 21, Batch 937,  Training Loss: 0.04453966 Training Accuracy: 98.9983%: 100%|██████████| 938/938 [00:17<00:00, 53.70it/s]"
          ],
          "name": "stderr"
        },
        {
          "output_type": "stream",
          "text": [
            "LR: [0.1989475065949531]\n"
          ],
          "name": "stdout"
        },
        {
          "output_type": "stream",
          "text": [
            "\n",
            "  0%|          | 0/938 [00:00<?, ?it/s]"
          ],
          "name": "stderr"
        },
        {
          "output_type": "stream",
          "text": [
            "\n",
            "Epoch: 21 -- Test Set, Validation Loss: 0.02282409 Validation Accuracy: 99.2700%\n",
            "\n"
          ],
          "name": "stdout"
        },
        {
          "output_type": "stream",
          "text": [
            "Epoch: 22, Batch 937,  Training Loss: 0.01283640 Training Accuracy: 99.0167%: 100%|██████████| 938/938 [00:18<00:00, 50.24it/s]"
          ],
          "name": "stderr"
        },
        {
          "output_type": "stream",
          "text": [
            "LR: [0.19894500725441802]\n"
          ],
          "name": "stdout"
        },
        {
          "output_type": "stream",
          "text": [
            "\n",
            "  0%|          | 0/938 [00:00<?, ?it/s]"
          ],
          "name": "stderr"
        },
        {
          "output_type": "stream",
          "text": [
            "\n",
            "Epoch: 22 -- Test Set, Validation Loss: 0.02795478 Validation Accuracy: 99.1800%\n",
            "\n"
          ],
          "name": "stdout"
        },
        {
          "output_type": "stream",
          "text": [
            "Epoch: 23, Batch 937,  Training Loss: 0.00370371 Training Accuracy: 99.0000%: 100%|██████████| 938/938 [00:16<00:00, 55.38it/s]\n"
          ],
          "name": "stderr"
        },
        {
          "output_type": "stream",
          "text": [
            "LR: [0.19894250794528168]\n"
          ],
          "name": "stdout"
        },
        {
          "output_type": "stream",
          "text": [
            "\r  0%|          | 0/938 [00:00<?, ?it/s]"
          ],
          "name": "stderr"
        },
        {
          "output_type": "stream",
          "text": [
            "\n",
            "Epoch: 23 -- Test Set, Validation Loss: 0.02171144 Validation Accuracy: 99.2300%\n",
            "\n"
          ],
          "name": "stdout"
        },
        {
          "output_type": "stream",
          "text": [
            "Epoch: 24, Batch 937,  Training Loss: 0.00348023 Training Accuracy: 98.9667%: 100%|██████████| 938/938 [00:17<00:00, 54.49it/s]"
          ],
          "name": "stderr"
        },
        {
          "output_type": "stream",
          "text": [
            "LR: [0.1989400086675437]\n"
          ],
          "name": "stdout"
        },
        {
          "output_type": "stream",
          "text": [
            "\n",
            "  0%|          | 0/938 [00:00<?, ?it/s]"
          ],
          "name": "stderr"
        },
        {
          "output_type": "stream",
          "text": [
            "\n",
            "Epoch: 24 -- Test Set, Validation Loss: 0.01920616 Validation Accuracy: 99.3400%\n",
            "\n"
          ],
          "name": "stdout"
        },
        {
          "output_type": "stream",
          "text": [
            "Epoch: 25, Batch 937,  Training Loss: 0.03716515 Training Accuracy: 99.0400%: 100%|██████████| 938/938 [00:18<00:00, 51.15it/s]"
          ],
          "name": "stderr"
        },
        {
          "output_type": "stream",
          "text": [
            "LR: [0.19893750942120367]\n"
          ],
          "name": "stdout"
        },
        {
          "output_type": "stream",
          "text": [
            "\n",
            "  0%|          | 0/938 [00:00<?, ?it/s]"
          ],
          "name": "stderr"
        },
        {
          "output_type": "stream",
          "text": [
            "\n",
            "Epoch: 25 -- Test Set, Validation Loss: 0.02090878 Validation Accuracy: 99.3100%\n",
            "\n"
          ],
          "name": "stdout"
        },
        {
          "output_type": "stream",
          "text": [
            "Epoch: 26, Batch 937,  Training Loss: 0.00947668 Training Accuracy: 99.0800%: 100%|██████████| 938/938 [00:18<00:00, 50.69it/s]"
          ],
          "name": "stderr"
        },
        {
          "output_type": "stream",
          "text": [
            "LR: [0.1989350102062612]\n"
          ],
          "name": "stdout"
        },
        {
          "output_type": "stream",
          "text": [
            "\n",
            "  0%|          | 0/938 [00:00<?, ?it/s]"
          ],
          "name": "stderr"
        },
        {
          "output_type": "stream",
          "text": [
            "\n",
            "Epoch: 26 -- Test Set, Validation Loss: 0.01668025 Validation Accuracy: 99.4600%\n",
            "\n"
          ],
          "name": "stdout"
        },
        {
          "output_type": "stream",
          "text": [
            "Epoch: 27, Batch 937,  Training Loss: 0.23356503 Training Accuracy: 99.0850%: 100%|██████████| 938/938 [00:19<00:00, 50.66it/s]"
          ],
          "name": "stderr"
        },
        {
          "output_type": "stream",
          "text": [
            "LR: [0.19893251102271592]\n"
          ],
          "name": "stdout"
        },
        {
          "output_type": "stream",
          "text": [
            "\n",
            "  0%|          | 0/938 [00:00<?, ?it/s]"
          ],
          "name": "stderr"
        },
        {
          "output_type": "stream",
          "text": [
            "\n",
            "Epoch: 27 -- Test Set, Validation Loss: 0.01934259 Validation Accuracy: 99.3400%\n",
            "\n"
          ],
          "name": "stdout"
        },
        {
          "output_type": "stream",
          "text": [
            "Epoch: 28, Batch 937,  Training Loss: 0.00274172 Training Accuracy: 99.1083%: 100%|██████████| 938/938 [00:19<00:00, 47.86it/s]"
          ],
          "name": "stderr"
        },
        {
          "output_type": "stream",
          "text": [
            "LR: [0.1989300118705674]\n"
          ],
          "name": "stdout"
        },
        {
          "output_type": "stream",
          "text": [
            "\n",
            "  0%|          | 0/938 [00:00<?, ?it/s]"
          ],
          "name": "stderr"
        },
        {
          "output_type": "stream",
          "text": [
            "\n",
            "Epoch: 28 -- Test Set, Validation Loss: 0.01936964 Validation Accuracy: 99.3500%\n",
            "\n"
          ],
          "name": "stdout"
        },
        {
          "output_type": "stream",
          "text": [
            "Epoch: 29, Batch 937,  Training Loss: 0.01731861 Training Accuracy: 99.0617%: 100%|██████████| 938/938 [00:18<00:00, 51.13it/s]"
          ],
          "name": "stderr"
        },
        {
          "output_type": "stream",
          "text": [
            "LR: [0.1989275127498153]\n"
          ],
          "name": "stdout"
        },
        {
          "output_type": "stream",
          "text": [
            "\n",
            "  0%|          | 0/938 [00:00<?, ?it/s]"
          ],
          "name": "stderr"
        },
        {
          "output_type": "stream",
          "text": [
            "\n",
            "Epoch: 29 -- Test Set, Validation Loss: 0.01476381 Validation Accuracy: 99.5900%\n",
            "\n"
          ],
          "name": "stdout"
        },
        {
          "output_type": "stream",
          "text": [
            "Epoch: 30, Batch 937,  Training Loss: 0.00300631 Training Accuracy: 99.1533%: 100%|██████████| 938/938 [00:19<00:00, 48.02it/s]"
          ],
          "name": "stderr"
        },
        {
          "output_type": "stream",
          "text": [
            "LR: [0.19892501366045917]\n"
          ],
          "name": "stdout"
        },
        {
          "output_type": "stream",
          "text": [
            "\n",
            "  0%|          | 0/938 [00:00<?, ?it/s]"
          ],
          "name": "stderr"
        },
        {
          "output_type": "stream",
          "text": [
            "\n",
            "Epoch: 30 -- Test Set, Validation Loss: 0.02042780 Validation Accuracy: 99.3500%\n",
            "\n"
          ],
          "name": "stdout"
        },
        {
          "output_type": "stream",
          "text": [
            "Epoch: 31, Batch 937,  Training Loss: 0.00145990 Training Accuracy: 99.1017%: 100%|██████████| 938/938 [00:18<00:00, 50.03it/s]\n"
          ],
          "name": "stderr"
        },
        {
          "output_type": "stream",
          "text": [
            "LR: [0.19892251460249863]\n"
          ],
          "name": "stdout"
        },
        {
          "output_type": "stream",
          "text": [
            "\r  0%|          | 0/938 [00:00<?, ?it/s]"
          ],
          "name": "stderr"
        },
        {
          "output_type": "stream",
          "text": [
            "\n",
            "Epoch: 31 -- Test Set, Validation Loss: 0.01891830 Validation Accuracy: 99.4500%\n",
            "\n"
          ],
          "name": "stdout"
        },
        {
          "output_type": "stream",
          "text": [
            "Epoch: 32, Batch 937,  Training Loss: 0.06187161 Training Accuracy: 99.1250%: 100%|██████████| 938/938 [00:17<00:00, 52.46it/s]\n"
          ],
          "name": "stderr"
        },
        {
          "output_type": "stream",
          "text": [
            "LR: [0.19892001557593328]\n"
          ],
          "name": "stdout"
        },
        {
          "output_type": "stream",
          "text": [
            "\r  0%|          | 0/938 [00:00<?, ?it/s]"
          ],
          "name": "stderr"
        },
        {
          "output_type": "stream",
          "text": [
            "\n",
            "Epoch: 32 -- Test Set, Validation Loss: 0.01604497 Validation Accuracy: 99.4700%\n",
            "\n"
          ],
          "name": "stdout"
        },
        {
          "output_type": "stream",
          "text": [
            "Epoch: 33, Batch 937,  Training Loss: 0.01576655 Training Accuracy: 99.1717%: 100%|██████████| 938/938 [00:18<00:00, 50.60it/s]"
          ],
          "name": "stderr"
        },
        {
          "output_type": "stream",
          "text": [
            "LR: [0.19891751658076276]\n"
          ],
          "name": "stdout"
        },
        {
          "output_type": "stream",
          "text": [
            "\n",
            "  0%|          | 0/938 [00:00<?, ?it/s]"
          ],
          "name": "stderr"
        },
        {
          "output_type": "stream",
          "text": [
            "\n",
            "Epoch: 33 -- Test Set, Validation Loss: 0.02005501 Validation Accuracy: 99.3200%\n",
            "\n"
          ],
          "name": "stdout"
        },
        {
          "output_type": "stream",
          "text": [
            "Epoch: 34, Batch 937,  Training Loss: 0.00034437 Training Accuracy: 99.1067%: 100%|██████████| 938/938 [00:17<00:00, 54.56it/s]\n"
          ],
          "name": "stderr"
        },
        {
          "output_type": "stream",
          "text": [
            "LR: [0.19891501761698663]\n"
          ],
          "name": "stdout"
        },
        {
          "output_type": "stream",
          "text": [
            "\r  0%|          | 0/938 [00:00<?, ?it/s]"
          ],
          "name": "stderr"
        },
        {
          "output_type": "stream",
          "text": [
            "\n",
            "Epoch: 34 -- Test Set, Validation Loss: 0.02175758 Validation Accuracy: 99.2900%\n",
            "\n"
          ],
          "name": "stdout"
        },
        {
          "output_type": "stream",
          "text": [
            "Epoch: 35, Batch 937,  Training Loss: 0.00494033 Training Accuracy: 99.1467%: 100%|██████████| 938/938 [00:16<00:00, 55.28it/s]"
          ],
          "name": "stderr"
        },
        {
          "output_type": "stream",
          "text": [
            "LR: [0.19891251868460452]\n"
          ],
          "name": "stdout"
        },
        {
          "output_type": "stream",
          "text": [
            "\n",
            "  0%|          | 0/938 [00:00<?, ?it/s]"
          ],
          "name": "stderr"
        },
        {
          "output_type": "stream",
          "text": [
            "\n",
            "Epoch: 35 -- Test Set, Validation Loss: 0.01935808 Validation Accuracy: 99.3300%\n",
            "\n"
          ],
          "name": "stdout"
        },
        {
          "output_type": "stream",
          "text": [
            "Epoch: 36, Batch 937,  Training Loss: 0.00146902 Training Accuracy: 99.1183%: 100%|██████████| 938/938 [00:17<00:00, 54.41it/s]\n"
          ],
          "name": "stderr"
        },
        {
          "output_type": "stream",
          "text": [
            "LR: [0.19891001978361605]\n"
          ],
          "name": "stdout"
        },
        {
          "output_type": "stream",
          "text": [
            "\r  0%|          | 0/938 [00:00<?, ?it/s]"
          ],
          "name": "stderr"
        },
        {
          "output_type": "stream",
          "text": [
            "\n",
            "Epoch: 36 -- Test Set, Validation Loss: 0.01915741 Validation Accuracy: 99.3400%\n",
            "\n"
          ],
          "name": "stdout"
        },
        {
          "output_type": "stream",
          "text": [
            "Epoch: 37, Batch 937,  Training Loss: 0.00492501 Training Accuracy: 99.1700%: 100%|██████████| 938/938 [00:17<00:00, 54.69it/s]\n"
          ],
          "name": "stderr"
        },
        {
          "output_type": "stream",
          "text": [
            "LR: [0.1989075209140208]\n"
          ],
          "name": "stdout"
        },
        {
          "output_type": "stream",
          "text": [
            "\r  0%|          | 0/938 [00:00<?, ?it/s]"
          ],
          "name": "stderr"
        },
        {
          "output_type": "stream",
          "text": [
            "\n",
            "Epoch: 37 -- Test Set, Validation Loss: 0.01855179 Validation Accuracy: 99.3800%\n",
            "\n"
          ],
          "name": "stdout"
        },
        {
          "output_type": "stream",
          "text": [
            "Epoch: 38, Batch 937,  Training Loss: 0.00095639 Training Accuracy: 99.1683%: 100%|██████████| 938/938 [00:16<00:00, 58.36it/s]\n"
          ],
          "name": "stderr"
        },
        {
          "output_type": "stream",
          "text": [
            "LR: [0.1989050220758184]\n"
          ],
          "name": "stdout"
        },
        {
          "output_type": "stream",
          "text": [
            "\r  0%|          | 0/938 [00:00<?, ?it/s]"
          ],
          "name": "stderr"
        },
        {
          "output_type": "stream",
          "text": [
            "\n",
            "Epoch: 38 -- Test Set, Validation Loss: 0.01920795 Validation Accuracy: 99.3400%\n",
            "\n"
          ],
          "name": "stdout"
        },
        {
          "output_type": "stream",
          "text": [
            "Epoch: 39, Batch 937,  Training Loss: 0.01453242 Training Accuracy: 99.1633%: 100%|██████████| 938/938 [00:16<00:00, 55.25it/s]"
          ],
          "name": "stderr"
        },
        {
          "output_type": "stream",
          "text": [
            "LR: [0.19890252326900842]\n"
          ],
          "name": "stdout"
        },
        {
          "output_type": "stream",
          "text": [
            "\n",
            "  0%|          | 0/938 [00:00<?, ?it/s]"
          ],
          "name": "stderr"
        },
        {
          "output_type": "stream",
          "text": [
            "\n",
            "Epoch: 39 -- Test Set, Validation Loss: 0.01804380 Validation Accuracy: 99.4100%\n",
            "\n"
          ],
          "name": "stdout"
        },
        {
          "output_type": "stream",
          "text": [
            "Epoch: 40, Batch 937,  Training Loss: 0.00061816 Training Accuracy: 99.1533%: 100%|██████████| 938/938 [00:16<00:00, 55.63it/s]"
          ],
          "name": "stderr"
        },
        {
          "output_type": "stream",
          "text": [
            "LR: [0.19890002449359048]\n"
          ],
          "name": "stdout"
        },
        {
          "output_type": "stream",
          "text": [
            "\n"
          ],
          "name": "stderr"
        },
        {
          "output_type": "stream",
          "text": [
            "\n",
            "Epoch: 40 -- Test Set, Validation Loss: 0.01930036 Validation Accuracy: 99.3700%\n",
            "\n"
          ],
          "name": "stdout"
        },
        {
          "output_type": "display_data",
          "data": {
            "image/png": "[encoded data removed]",
            "text/plain": [
              "<Figure size 1080x720 with 4 Axes>"
            ]
          },
          "metadata": {
            "tags": []
          }
        }
      ]
    }
  ]
}